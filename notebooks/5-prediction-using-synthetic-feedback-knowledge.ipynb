{
 "cells": [
  {
   "cell_type": "markdown",
   "id": "c87d8821",
   "metadata": {
    "papermill": {
     "duration": 0.004564,
     "end_time": "2025-07-21T08:34:25.615262",
     "exception": false,
     "start_time": "2025-07-21T08:34:25.610698",
     "status": "completed"
    },
    "tags": []
   },
   "source": [
    "#  Prediction using Synthetic Feedback Knowledge\n",
    "\n",
    "In this final notebook, we explored whether a model trained on customer feedback can transfer its knowledge to improve a fallback model  – even for customers who left no feedback."
   ]
  },
  {
   "cell_type": "markdown",
   "id": "12b8a1f9",
   "metadata": {
    "papermill": {
     "duration": 0.00339,
     "end_time": "2025-07-21T08:34:25.622601",
     "exception": false,
     "start_time": "2025-07-21T08:34:25.619211",
     "status": "completed"
    },
    "tags": []
   },
   "source": [
    "\n",
    "\n",
    "### Project Structure:\n",
    "\n",
    "1. **Exploring Customer Churn & GPT-generated Feedback**  \n",
    "   → Data exploration & text insights\n",
    "\n",
    "2. **Feedback Noise Simulation & Fallback Testing**  \n",
    "   → Simulate real-world feedback imperfections\n",
    "\n",
    "3. **Fallback Model – Logistic vs XGB vs RF vs NN**  \n",
    "   → Structured-only models, compared & evaluated\n",
    "\n",
    "4. **Model with Feedback – Logistic vs XGB vs NN**  \n",
    "   → Hybrid modeling using structured + textual data\n",
    "\n",
    "5. **Prediction using Synthetic Feedback Knowledge**  \n",
    "   → Transfer feedback model knowledge to fallback model\n"
   ]
  },
  {
   "cell_type": "markdown",
   "id": "aa222db2",
   "metadata": {
    "papermill": {
     "duration": 0.003286,
     "end_time": "2025-07-21T08:34:25.629496",
     "exception": false,
     "start_time": "2025-07-21T08:34:25.626210",
     "status": "completed"
    },
    "tags": []
   },
   "source": [
    "## 📑 Table of Contents\n",
    "\n",
    "[1. Imports](#1-imports)<br>\n",
    "[2. Load data](#2-load-data)<br>\n",
    "[3. Generate synthetic_text_score](#3-generate-synthetic_text_score)<br>\n",
    "[4. Prepare fallback dataset with the synthetic score](#4-prepare-fallback-dataset-with-the-synthetic-score)<br>\n",
    "[5. Model comparison – baseline vs enhanced](#5-model-comparison--baseline-vs-enhanced)<br>\n",
    "[6. Define & Train](#6-define--train)<br>\n",
    "[7. Evaluate](#7-evaluate)<br>\n",
    "[8. Summary](#8-summary)<br>\n",
    "[📁Notebook Series Overview: Telco Churn & GPT Feedback](#notebook-series-overview-telco-churn--gpt-feedback)\n"
   ]
  },
  {
   "cell_type": "markdown",
   "id": "bf985881",
   "metadata": {
    "papermill": {
     "duration": 0.003317,
     "end_time": "2025-07-21T08:34:25.636294",
     "exception": false,
     "start_time": "2025-07-21T08:34:25.632977",
     "status": "completed"
    },
    "tags": []
   },
   "source": [
    "## 1. Imports\n",
    "<a id=\"1-imports\"></a> \n"
   ]
  },
  {
   "cell_type": "code",
   "execution_count": 1,
   "id": "20a9c743",
   "metadata": {
    "execution": {
     "iopub.execute_input": "2025-07-21T08:34:25.644430Z",
     "iopub.status.busy": "2025-07-21T08:34:25.644125Z",
     "iopub.status.idle": "2025-07-21T08:34:29.078150Z",
     "shell.execute_reply": "2025-07-21T08:34:29.077440Z"
    },
    "papermill": {
     "duration": 3.44006,
     "end_time": "2025-07-21T08:34:29.079770",
     "exception": false,
     "start_time": "2025-07-21T08:34:25.639710",
     "status": "completed"
    },
    "tags": []
   },
   "outputs": [],
   "source": [
    "\n",
    "import pandas as pd\n",
    "import numpy as np\n",
    "import joblib\n",
    "\n",
    "import matplotlib.pyplot as plt\n",
    "from sklearn.model_selection import train_test_split\n",
    "from sklearn.metrics import classification_report, roc_auc_score, roc_curve, auc\n",
    "\n",
    "\n",
    "from sklearn.compose import ColumnTransformer\n",
    "from sklearn.pipeline import Pipeline\n",
    "from sklearn.preprocessing import StandardScaler, OneHotEncoder\n",
    "from sklearn.linear_model import LogisticRegression\n"
   ]
  },
  {
   "cell_type": "markdown",
   "id": "e0828e62",
   "metadata": {
    "papermill": {
     "duration": 0.003298,
     "end_time": "2025-07-21T08:34:29.086938",
     "exception": false,
     "start_time": "2025-07-21T08:34:29.083640",
     "status": "completed"
    },
    "tags": []
   },
   "source": [
    "## 2. Load data\n",
    "<a id=\"2-load-data\"></a>"
   ]
  },
  {
   "cell_type": "code",
   "execution_count": 2,
   "id": "e0aec6f6",
   "metadata": {
    "_cell_guid": "b1076dfc-b9ad-4769-8c92-a6c4dae69d19",
    "_uuid": "8f2839f25d086af736a60e9eeb907d3b93b6e0e5",
    "execution": {
     "iopub.execute_input": "2025-07-21T08:34:29.095160Z",
     "iopub.status.busy": "2025-07-21T08:34:29.094446Z",
     "iopub.status.idle": "2025-07-21T08:34:29.192009Z",
     "shell.execute_reply": "2025-07-21T08:34:29.191328Z"
    },
    "papermill": {
     "duration": 0.103154,
     "end_time": "2025-07-21T08:34:29.193462",
     "exception": false,
     "start_time": "2025-07-21T08:34:29.090308",
     "status": "completed"
    },
    "tags": []
   },
   "outputs": [],
   "source": [
    "# Load full dataset (with and without feedback)\n",
    "df = pd.read_csv(\"/kaggle/input/telco-customer-churn-realistic-customer-feedback/telco_noisy_feedback_prep.csv\")  # adjust if needed\n",
    "\n",
    "# Load the trained model with feedback\n",
    "model_with_feedback = joblib.load(\"/kaggle/input/telco-customer-churn-realistic-customer-feedback/model_with_feedback.pkl\")"
   ]
  },
  {
   "cell_type": "code",
   "execution_count": 3,
   "id": "d673bdff",
   "metadata": {
    "execution": {
     "iopub.execute_input": "2025-07-21T08:34:29.201742Z",
     "iopub.status.busy": "2025-07-21T08:34:29.201458Z",
     "iopub.status.idle": "2025-07-21T08:34:29.209126Z",
     "shell.execute_reply": "2025-07-21T08:34:29.208337Z"
    },
    "papermill": {
     "duration": 0.013001,
     "end_time": "2025-07-21T08:34:29.210335",
     "exception": false,
     "start_time": "2025-07-21T08:34:29.197334",
     "status": "completed"
    },
    "tags": []
   },
   "outputs": [
    {
     "data": {
      "text/plain": [
       "Index(['Unnamed: 0.1', 'Unnamed: 0', 'customerID', 'gender', 'SeniorCitizen',\n",
       "       'Partner', 'Dependents', 'tenure', 'PhoneService', 'MultipleLines',\n",
       "       'InternetService', 'OnlineSecurity', 'OnlineBackup', 'DeviceProtection',\n",
       "       'TechSupport', 'StreamingTV', 'StreamingMovies', 'Contract',\n",
       "       'PaperlessBilling', 'PaymentMethod', 'MonthlyCharges', 'TotalCharges',\n",
       "       'Churn', 'CustomerFeedback', 'feedback_length', 'sentiment',\n",
       "       'HasFeedback'],\n",
       "      dtype='object')"
      ]
     },
     "execution_count": 3,
     "metadata": {},
     "output_type": "execute_result"
    }
   ],
   "source": [
    "df.columns"
   ]
  },
  {
   "cell_type": "markdown",
   "id": "e6142b24",
   "metadata": {
    "papermill": {
     "duration": 0.003537,
     "end_time": "2025-07-21T08:34:29.217551",
     "exception": false,
     "start_time": "2025-07-21T08:34:29.214014",
     "status": "completed"
    },
    "tags": []
   },
   "source": [
    "## 3. Generate synthetic_text_score\n",
    "<a id=\"3-generate-synthetic_text_score\"></a>  "
   ]
  },
  {
   "cell_type": "code",
   "execution_count": 4,
   "id": "a730ad51",
   "metadata": {
    "execution": {
     "iopub.execute_input": "2025-07-21T08:34:29.225832Z",
     "iopub.status.busy": "2025-07-21T08:34:29.225603Z",
     "iopub.status.idle": "2025-07-21T08:34:29.387959Z",
     "shell.execute_reply": "2025-07-21T08:34:29.387045Z"
    },
    "papermill": {
     "duration": 0.168181,
     "end_time": "2025-07-21T08:34:29.389287",
     "exception": false,
     "start_time": "2025-07-21T08:34:29.221106",
     "status": "completed"
    },
    "tags": []
   },
   "outputs": [
    {
     "data": {
      "text/html": [
       "<div>\n",
       "<style scoped>\n",
       "    .dataframe tbody tr th:only-of-type {\n",
       "        vertical-align: middle;\n",
       "    }\n",
       "\n",
       "    .dataframe tbody tr th {\n",
       "        vertical-align: top;\n",
       "    }\n",
       "\n",
       "    .dataframe thead th {\n",
       "        text-align: right;\n",
       "    }\n",
       "</style>\n",
       "<table border=\"1\" class=\"dataframe\">\n",
       "  <thead>\n",
       "    <tr style=\"text-align: right;\">\n",
       "      <th></th>\n",
       "      <th>CustomerFeedback</th>\n",
       "      <th>synthetic_text_score</th>\n",
       "    </tr>\n",
       "  </thead>\n",
       "  <tbody>\n",
       "    <tr>\n",
       "      <th>0</th>\n",
       "      <td></td>\n",
       "      <td>0.542417</td>\n",
       "    </tr>\n",
       "    <tr>\n",
       "      <th>1</th>\n",
       "      <td></td>\n",
       "      <td>0.347213</td>\n",
       "    </tr>\n",
       "    <tr>\n",
       "      <th>2</th>\n",
       "      <td></td>\n",
       "      <td>0.452751</td>\n",
       "    </tr>\n",
       "    <tr>\n",
       "      <th>3</th>\n",
       "      <td></td>\n",
       "      <td>0.402545</td>\n",
       "    </tr>\n",
       "    <tr>\n",
       "      <th>4</th>\n",
       "      <td></td>\n",
       "      <td>0.786120</td>\n",
       "    </tr>\n",
       "  </tbody>\n",
       "</table>\n",
       "</div>"
      ],
      "text/plain": [
       "  CustomerFeedback  synthetic_text_score\n",
       "0                               0.542417\n",
       "1                               0.347213\n",
       "2                               0.452751\n",
       "3                               0.402545\n",
       "4                               0.786120"
      ]
     },
     "execution_count": 4,
     "metadata": {},
     "output_type": "execute_result"
    }
   ],
   "source": [
    "# Copy and fill missing feedback with empty string \n",
    "df[\"CustomerFeedback\"] = df[\"CustomerFeedback\"].fillna(\"\")\n",
    "\n",
    "# Apply model to all rows\n",
    "synthetic_scores = model_with_feedback.predict_proba(df)[:, 1]\n",
    "\n",
    "# Add to dataframe\n",
    "df[\"synthetic_text_score\"] = synthetic_scores\n",
    "\n",
    "# print preview\n",
    "df[[\"CustomerFeedback\", \"synthetic_text_score\"]].head()"
   ]
  },
  {
   "cell_type": "markdown",
   "id": "2854e2f9",
   "metadata": {
    "papermill": {
     "duration": 0.00359,
     "end_time": "2025-07-21T08:34:29.396983",
     "exception": false,
     "start_time": "2025-07-21T08:34:29.393393",
     "status": "completed"
    },
    "tags": []
   },
   "source": [
    "## 4. Prepare fallback dataset with the synthetic variable\n",
    "<a id=\"4-prepare-fallback-dataset-with-the-synthetic-score\"></a>  "
   ]
  },
  {
   "cell_type": "code",
   "execution_count": 5,
   "id": "34403c74",
   "metadata": {
    "execution": {
     "iopub.execute_input": "2025-07-21T08:34:29.405313Z",
     "iopub.status.busy": "2025-07-21T08:34:29.405019Z",
     "iopub.status.idle": "2025-07-21T08:34:29.417177Z",
     "shell.execute_reply": "2025-07-21T08:34:29.416385Z"
    },
    "papermill": {
     "duration": 0.017914,
     "end_time": "2025-07-21T08:34:29.418554",
     "exception": false,
     "start_time": "2025-07-21T08:34:29.400640",
     "status": "completed"
    },
    "tags": []
   },
   "outputs": [],
   "source": [
    "# Select fallback subset\n",
    "df_fallback = df[~df[\"HasFeedback\"]].copy()\n",
    "\n",
    "# Target\n",
    "target_col = \"Churn\"\n",
    "y_fallback = df_fallback[target_col]\n",
    "\n",
    "# Features: original + synthetic score\n",
    "numeric_base = ['tenure', 'MonthlyCharges', 'TotalCharges']\n",
    "categorical = [\"Contract\", \"PaymentMethod\", \"InternetService\", \"Partner\", \"Dependents\"]\n",
    "enhanced_features = numeric_base + [\"synthetic_text_score\"] + categorical\n",
    "\n",
    "X_fallback = df_fallback[enhanced_features]"
   ]
  },
  {
   "cell_type": "markdown",
   "id": "3ff50cfc",
   "metadata": {
    "papermill": {
     "duration": 0.003484,
     "end_time": "2025-07-21T08:34:29.425871",
     "exception": false,
     "start_time": "2025-07-21T08:34:29.422387",
     "status": "completed"
    },
    "tags": []
   },
   "source": [
    "## 5. Model comparison – baseline vs enhanced\n",
    "<a id=\"4-prepare-fallback-dataset-with-the-synthetic-score\"></a>  "
   ]
  },
  {
   "cell_type": "code",
   "execution_count": 6,
   "id": "38e47ecb",
   "metadata": {
    "execution": {
     "iopub.execute_input": "2025-07-21T08:34:29.434264Z",
     "iopub.status.busy": "2025-07-21T08:34:29.433752Z",
     "iopub.status.idle": "2025-07-21T08:34:29.437675Z",
     "shell.execute_reply": "2025-07-21T08:34:29.437046Z"
    },
    "papermill": {
     "duration": 0.009287,
     "end_time": "2025-07-21T08:34:29.438787",
     "exception": false,
     "start_time": "2025-07-21T08:34:29.429500",
     "status": "completed"
    },
    "tags": []
   },
   "outputs": [],
   "source": [
    "# Features\n",
    "num_base = ['tenure', 'MonthlyCharges', 'TotalCharges']\n",
    "cat_cols = [\"Contract\", \"PaymentMethod\", \"InternetService\", \"Partner\", \"Dependents\"]\n",
    "target_col = \"Churn\"\n",
    "\n",
    "# Enhanced = base + synthetic score\n",
    "num_enhanced = num_base + ['synthetic_text_score']"
   ]
  },
  {
   "cell_type": "code",
   "execution_count": 7,
   "id": "926d13cb",
   "metadata": {
    "execution": {
     "iopub.execute_input": "2025-07-21T08:34:29.447816Z",
     "iopub.status.busy": "2025-07-21T08:34:29.447199Z",
     "iopub.status.idle": "2025-07-21T08:34:29.468023Z",
     "shell.execute_reply": "2025-07-21T08:34:29.467366Z"
    },
    "papermill": {
     "duration": 0.026935,
     "end_time": "2025-07-21T08:34:29.469335",
     "exception": false,
     "start_time": "2025-07-21T08:34:29.442400",
     "status": "completed"
    },
    "tags": []
   },
   "outputs": [],
   "source": [
    "# Only customers without feedback\n",
    "df_fallback = df[~df[\"HasFeedback\"]].copy()\n",
    "\n",
    "# Baseline\n",
    "X_base = df_fallback[num_base + cat_cols]\n",
    "y_base = df_fallback[target_col]\n",
    "\n",
    "# Enhanced\n",
    "X_enhanced = df_fallback[num_enhanced + cat_cols]\n",
    "y_enhanced = df_fallback[target_col]\n",
    "\n",
    "# Same split for both\n",
    "X_base_train, X_base_test, y_base_train, y_base_test = train_test_split(\n",
    "    X_base, y_base, test_size=0.2, random_state=42, stratify=y_base\n",
    ")\n",
    "\n",
    "X_enh_train, X_enh_test, y_enh_train, y_enh_test = train_test_split(\n",
    "    X_enhanced, y_enhanced, test_size=0.2, random_state=42, stratify=y_enhanced\n",
    ")"
   ]
  },
  {
   "cell_type": "markdown",
   "id": "d482255b",
   "metadata": {
    "papermill": {
     "duration": 0.003683,
     "end_time": "2025-07-21T08:34:29.477325",
     "exception": false,
     "start_time": "2025-07-21T08:34:29.473642",
     "status": "completed"
    },
    "tags": []
   },
   "source": [
    "## 6. Difine & Train\n",
    "<a id=\"6-define--train\"></a>  "
   ]
  },
  {
   "cell_type": "code",
   "execution_count": 8,
   "id": "851f35db",
   "metadata": {
    "execution": {
     "iopub.execute_input": "2025-07-21T08:34:29.485983Z",
     "iopub.status.busy": "2025-07-21T08:34:29.485668Z",
     "iopub.status.idle": "2025-07-21T08:34:30.394403Z",
     "shell.execute_reply": "2025-07-21T08:34:30.392660Z"
    },
    "papermill": {
     "duration": 0.915013,
     "end_time": "2025-07-21T08:34:30.396075",
     "exception": false,
     "start_time": "2025-07-21T08:34:29.481062",
     "status": "completed"
    },
    "tags": []
   },
   "outputs": [
    {
     "data": {
      "text/html": [
       "<style>#sk-container-id-1 {color: black;background-color: white;}#sk-container-id-1 pre{padding: 0;}#sk-container-id-1 div.sk-toggleable {background-color: white;}#sk-container-id-1 label.sk-toggleable__label {cursor: pointer;display: block;width: 100%;margin-bottom: 0;padding: 0.3em;box-sizing: border-box;text-align: center;}#sk-container-id-1 label.sk-toggleable__label-arrow:before {content: \"▸\";float: left;margin-right: 0.25em;color: #696969;}#sk-container-id-1 label.sk-toggleable__label-arrow:hover:before {color: black;}#sk-container-id-1 div.sk-estimator:hover label.sk-toggleable__label-arrow:before {color: black;}#sk-container-id-1 div.sk-toggleable__content {max-height: 0;max-width: 0;overflow: hidden;text-align: left;background-color: #f0f8ff;}#sk-container-id-1 div.sk-toggleable__content pre {margin: 0.2em;color: black;border-radius: 0.25em;background-color: #f0f8ff;}#sk-container-id-1 input.sk-toggleable__control:checked~div.sk-toggleable__content {max-height: 200px;max-width: 100%;overflow: auto;}#sk-container-id-1 input.sk-toggleable__control:checked~label.sk-toggleable__label-arrow:before {content: \"▾\";}#sk-container-id-1 div.sk-estimator input.sk-toggleable__control:checked~label.sk-toggleable__label {background-color: #d4ebff;}#sk-container-id-1 div.sk-label input.sk-toggleable__control:checked~label.sk-toggleable__label {background-color: #d4ebff;}#sk-container-id-1 input.sk-hidden--visually {border: 0;clip: rect(1px 1px 1px 1px);clip: rect(1px, 1px, 1px, 1px);height: 1px;margin: -1px;overflow: hidden;padding: 0;position: absolute;width: 1px;}#sk-container-id-1 div.sk-estimator {font-family: monospace;background-color: #f0f8ff;border: 1px dotted black;border-radius: 0.25em;box-sizing: border-box;margin-bottom: 0.5em;}#sk-container-id-1 div.sk-estimator:hover {background-color: #d4ebff;}#sk-container-id-1 div.sk-parallel-item::after {content: \"\";width: 100%;border-bottom: 1px solid gray;flex-grow: 1;}#sk-container-id-1 div.sk-label:hover label.sk-toggleable__label {background-color: #d4ebff;}#sk-container-id-1 div.sk-serial::before {content: \"\";position: absolute;border-left: 1px solid gray;box-sizing: border-box;top: 0;bottom: 0;left: 50%;z-index: 0;}#sk-container-id-1 div.sk-serial {display: flex;flex-direction: column;align-items: center;background-color: white;padding-right: 0.2em;padding-left: 0.2em;position: relative;}#sk-container-id-1 div.sk-item {position: relative;z-index: 1;}#sk-container-id-1 div.sk-parallel {display: flex;align-items: stretch;justify-content: center;background-color: white;position: relative;}#sk-container-id-1 div.sk-item::before, #sk-container-id-1 div.sk-parallel-item::before {content: \"\";position: absolute;border-left: 1px solid gray;box-sizing: border-box;top: 0;bottom: 0;left: 50%;z-index: -1;}#sk-container-id-1 div.sk-parallel-item {display: flex;flex-direction: column;z-index: 1;position: relative;background-color: white;}#sk-container-id-1 div.sk-parallel-item:first-child::after {align-self: flex-end;width: 50%;}#sk-container-id-1 div.sk-parallel-item:last-child::after {align-self: flex-start;width: 50%;}#sk-container-id-1 div.sk-parallel-item:only-child::after {width: 0;}#sk-container-id-1 div.sk-dashed-wrapped {border: 1px dashed gray;margin: 0 0.4em 0.5em 0.4em;box-sizing: border-box;padding-bottom: 0.4em;background-color: white;}#sk-container-id-1 div.sk-label label {font-family: monospace;font-weight: bold;display: inline-block;line-height: 1.2em;}#sk-container-id-1 div.sk-label-container {text-align: center;}#sk-container-id-1 div.sk-container {/* jupyter's `normalize.less` sets `[hidden] { display: none; }` but bootstrap.min.css set `[hidden] { display: none !important; }` so we also need the `!important` here to be able to override the default hidden behavior on the sphinx rendered scikit-learn.org. See: https://github.com/scikit-learn/scikit-learn/issues/21755 */display: inline-block !important;position: relative;}#sk-container-id-1 div.sk-text-repr-fallback {display: none;}</style><div id=\"sk-container-id-1\" class=\"sk-top-container\"><div class=\"sk-text-repr-fallback\"><pre>Pipeline(steps=[(&#x27;preprocessor&#x27;,\n",
       "                 ColumnTransformer(transformers=[(&#x27;num&#x27;, StandardScaler(),\n",
       "                                                  [&#x27;tenure&#x27;, &#x27;MonthlyCharges&#x27;,\n",
       "                                                   &#x27;TotalCharges&#x27;,\n",
       "                                                   &#x27;synthetic_text_score&#x27;]),\n",
       "                                                 (&#x27;cat&#x27;,\n",
       "                                                  OneHotEncoder(handle_unknown=&#x27;ignore&#x27;),\n",
       "                                                  [&#x27;Contract&#x27;, &#x27;PaymentMethod&#x27;,\n",
       "                                                   &#x27;InternetService&#x27;, &#x27;Partner&#x27;,\n",
       "                                                   &#x27;Dependents&#x27;])])),\n",
       "                (&#x27;classifier&#x27;, LogisticRegression(max_iter=1000))])</pre><b>In a Jupyter environment, please rerun this cell to show the HTML representation or trust the notebook. <br />On GitHub, the HTML representation is unable to render, please try loading this page with nbviewer.org.</b></div><div class=\"sk-container\" hidden><div class=\"sk-item sk-dashed-wrapped\"><div class=\"sk-label-container\"><div class=\"sk-label sk-toggleable\"><input class=\"sk-toggleable__control sk-hidden--visually\" id=\"sk-estimator-id-1\" type=\"checkbox\" ><label for=\"sk-estimator-id-1\" class=\"sk-toggleable__label sk-toggleable__label-arrow\">Pipeline</label><div class=\"sk-toggleable__content\"><pre>Pipeline(steps=[(&#x27;preprocessor&#x27;,\n",
       "                 ColumnTransformer(transformers=[(&#x27;num&#x27;, StandardScaler(),\n",
       "                                                  [&#x27;tenure&#x27;, &#x27;MonthlyCharges&#x27;,\n",
       "                                                   &#x27;TotalCharges&#x27;,\n",
       "                                                   &#x27;synthetic_text_score&#x27;]),\n",
       "                                                 (&#x27;cat&#x27;,\n",
       "                                                  OneHotEncoder(handle_unknown=&#x27;ignore&#x27;),\n",
       "                                                  [&#x27;Contract&#x27;, &#x27;PaymentMethod&#x27;,\n",
       "                                                   &#x27;InternetService&#x27;, &#x27;Partner&#x27;,\n",
       "                                                   &#x27;Dependents&#x27;])])),\n",
       "                (&#x27;classifier&#x27;, LogisticRegression(max_iter=1000))])</pre></div></div></div><div class=\"sk-serial\"><div class=\"sk-item sk-dashed-wrapped\"><div class=\"sk-label-container\"><div class=\"sk-label sk-toggleable\"><input class=\"sk-toggleable__control sk-hidden--visually\" id=\"sk-estimator-id-2\" type=\"checkbox\" ><label for=\"sk-estimator-id-2\" class=\"sk-toggleable__label sk-toggleable__label-arrow\">preprocessor: ColumnTransformer</label><div class=\"sk-toggleable__content\"><pre>ColumnTransformer(transformers=[(&#x27;num&#x27;, StandardScaler(),\n",
       "                                 [&#x27;tenure&#x27;, &#x27;MonthlyCharges&#x27;, &#x27;TotalCharges&#x27;,\n",
       "                                  &#x27;synthetic_text_score&#x27;]),\n",
       "                                (&#x27;cat&#x27;, OneHotEncoder(handle_unknown=&#x27;ignore&#x27;),\n",
       "                                 [&#x27;Contract&#x27;, &#x27;PaymentMethod&#x27;,\n",
       "                                  &#x27;InternetService&#x27;, &#x27;Partner&#x27;,\n",
       "                                  &#x27;Dependents&#x27;])])</pre></div></div></div><div class=\"sk-parallel\"><div class=\"sk-parallel-item\"><div class=\"sk-item\"><div class=\"sk-label-container\"><div class=\"sk-label sk-toggleable\"><input class=\"sk-toggleable__control sk-hidden--visually\" id=\"sk-estimator-id-3\" type=\"checkbox\" ><label for=\"sk-estimator-id-3\" class=\"sk-toggleable__label sk-toggleable__label-arrow\">num</label><div class=\"sk-toggleable__content\"><pre>[&#x27;tenure&#x27;, &#x27;MonthlyCharges&#x27;, &#x27;TotalCharges&#x27;, &#x27;synthetic_text_score&#x27;]</pre></div></div></div><div class=\"sk-serial\"><div class=\"sk-item\"><div class=\"sk-estimator sk-toggleable\"><input class=\"sk-toggleable__control sk-hidden--visually\" id=\"sk-estimator-id-4\" type=\"checkbox\" ><label for=\"sk-estimator-id-4\" class=\"sk-toggleable__label sk-toggleable__label-arrow\">StandardScaler</label><div class=\"sk-toggleable__content\"><pre>StandardScaler()</pre></div></div></div></div></div></div><div class=\"sk-parallel-item\"><div class=\"sk-item\"><div class=\"sk-label-container\"><div class=\"sk-label sk-toggleable\"><input class=\"sk-toggleable__control sk-hidden--visually\" id=\"sk-estimator-id-5\" type=\"checkbox\" ><label for=\"sk-estimator-id-5\" class=\"sk-toggleable__label sk-toggleable__label-arrow\">cat</label><div class=\"sk-toggleable__content\"><pre>[&#x27;Contract&#x27;, &#x27;PaymentMethod&#x27;, &#x27;InternetService&#x27;, &#x27;Partner&#x27;, &#x27;Dependents&#x27;]</pre></div></div></div><div class=\"sk-serial\"><div class=\"sk-item\"><div class=\"sk-estimator sk-toggleable\"><input class=\"sk-toggleable__control sk-hidden--visually\" id=\"sk-estimator-id-6\" type=\"checkbox\" ><label for=\"sk-estimator-id-6\" class=\"sk-toggleable__label sk-toggleable__label-arrow\">OneHotEncoder</label><div class=\"sk-toggleable__content\"><pre>OneHotEncoder(handle_unknown=&#x27;ignore&#x27;)</pre></div></div></div></div></div></div></div></div><div class=\"sk-item\"><div class=\"sk-estimator sk-toggleable\"><input class=\"sk-toggleable__control sk-hidden--visually\" id=\"sk-estimator-id-7\" type=\"checkbox\" ><label for=\"sk-estimator-id-7\" class=\"sk-toggleable__label sk-toggleable__label-arrow\">LogisticRegression</label><div class=\"sk-toggleable__content\"><pre>LogisticRegression(max_iter=1000)</pre></div></div></div></div></div></div></div>"
      ],
      "text/plain": [
       "Pipeline(steps=[('preprocessor',\n",
       "                 ColumnTransformer(transformers=[('num', StandardScaler(),\n",
       "                                                  ['tenure', 'MonthlyCharges',\n",
       "                                                   'TotalCharges',\n",
       "                                                   'synthetic_text_score']),\n",
       "                                                 ('cat',\n",
       "                                                  OneHotEncoder(handle_unknown='ignore'),\n",
       "                                                  ['Contract', 'PaymentMethod',\n",
       "                                                   'InternetService', 'Partner',\n",
       "                                                   'Dependents'])])),\n",
       "                ('classifier', LogisticRegression(max_iter=1000))])"
      ]
     },
     "execution_count": 8,
     "metadata": {},
     "output_type": "execute_result"
    }
   ],
   "source": [
    "# Shared categorical transformer\n",
    "cat_transformer = OneHotEncoder(handle_unknown=\"ignore\")\n",
    "\n",
    "# Baseline pipeline\n",
    "pipe_base = Pipeline([\n",
    "    (\"preprocessor\", ColumnTransformer([\n",
    "        (\"num\", StandardScaler(), num_base),\n",
    "        (\"cat\", cat_transformer, cat_cols)\n",
    "    ])),\n",
    "    (\"classifier\", LogisticRegression(max_iter=1000))\n",
    "])\n",
    "\n",
    "# Enhanced pipeline\n",
    "pipe_enhanced = Pipeline([\n",
    "    (\"preprocessor\", ColumnTransformer([\n",
    "        (\"num\", StandardScaler(), num_enhanced),\n",
    "        (\"cat\", cat_transformer, cat_cols)\n",
    "    ])),\n",
    "    (\"classifier\", LogisticRegression(max_iter=1000))\n",
    "])\n",
    "\n",
    "# Train both\n",
    "pipe_base.fit(X_base_train, y_base_train)\n",
    "pipe_enhanced.fit(X_enh_train, y_enh_train)"
   ]
  },
  {
   "cell_type": "markdown",
   "id": "f9b6f059",
   "metadata": {
    "papermill": {
     "duration": 0.006444,
     "end_time": "2025-07-21T08:34:30.409888",
     "exception": false,
     "start_time": "2025-07-21T08:34:30.403444",
     "status": "completed"
    },
    "tags": []
   },
   "source": [
    "## 7. Evaluate \n",
    "<a id=\"7-evaluate\"></a> "
   ]
  },
  {
   "cell_type": "code",
   "execution_count": 9,
   "id": "f55989a4",
   "metadata": {
    "execution": {
     "iopub.execute_input": "2025-07-21T08:34:30.424153Z",
     "iopub.status.busy": "2025-07-21T08:34:30.423816Z",
     "iopub.status.idle": "2025-07-21T08:34:30.499567Z",
     "shell.execute_reply": "2025-07-21T08:34:30.498500Z"
    },
    "papermill": {
     "duration": 0.084701,
     "end_time": "2025-07-21T08:34:30.501115",
     "exception": false,
     "start_time": "2025-07-21T08:34:30.416414",
     "status": "completed"
    },
    "tags": []
   },
   "outputs": [
    {
     "name": "stdout",
     "output_type": "stream",
     "text": [
      "🔹 Baseline fallback model:\n",
      "              precision    recall  f1-score   support\n",
      "\n",
      "           0       0.86      0.89      0.88       775\n",
      "           1       0.67      0.59      0.63       280\n",
      "\n",
      "    accuracy                           0.81      1055\n",
      "   macro avg       0.76      0.74      0.75      1055\n",
      "weighted avg       0.81      0.81      0.81      1055\n",
      "\n",
      "ROC AUC: 0.8460069124423963\n",
      "\n",
      "🔸 Enhanced fallback model (with synthetic score):\n",
      "              precision    recall  f1-score   support\n",
      "\n",
      "           0       0.86      0.89      0.87       775\n",
      "           1       0.66      0.59      0.62       280\n",
      "\n",
      "    accuracy                           0.81      1055\n",
      "   macro avg       0.76      0.74      0.75      1055\n",
      "weighted avg       0.81      0.81      0.81      1055\n",
      "\n",
      "ROC AUC: 0.8457073732718894\n"
     ]
    }
   ],
   "source": [
    "# Predictions and probabilities\n",
    "y_base_pred = pipe_base.predict(X_base_test)\n",
    "y_base_prob = pipe_base.predict_proba(X_base_test)[:, 1]\n",
    "\n",
    "y_enh_pred = pipe_enhanced.predict(X_enh_test)\n",
    "y_enh_prob = pipe_enhanced.predict_proba(X_enh_test)[:, 1]\n",
    "\n",
    "# Scores\n",
    "print(\"🔹 Baseline fallback model:\")\n",
    "print(classification_report(y_base_test, y_base_pred))\n",
    "print(\"ROC AUC:\", roc_auc_score(y_base_test, y_base_prob))\n",
    "\n",
    "print(\"\\n🔸 Enhanced fallback model (with synthetic score):\")\n",
    "print(classification_report(y_enh_test, y_enh_pred))\n",
    "print(\"ROC AUC:\", roc_auc_score(y_enh_test, y_enh_prob))"
   ]
  },
  {
   "cell_type": "code",
   "execution_count": 10,
   "id": "3f15296a",
   "metadata": {
    "execution": {
     "iopub.execute_input": "2025-07-21T08:34:30.510958Z",
     "iopub.status.busy": "2025-07-21T08:34:30.510399Z",
     "iopub.status.idle": "2025-07-21T08:34:30.829407Z",
     "shell.execute_reply": "2025-07-21T08:34:30.828563Z"
    },
    "papermill": {
     "duration": 0.325609,
     "end_time": "2025-07-21T08:34:30.831076",
     "exception": false,
     "start_time": "2025-07-21T08:34:30.505467",
     "status": "completed"
    },
    "tags": []
   },
   "outputs": [
    {
     "data": {
      "image/png": "[encoded data removed]",
      "text/plain": [
       "<Figure size 800x600 with 1 Axes>"
      ]
     },
     "metadata": {},
     "output_type": "display_data"
    }
   ],
   "source": [
    "# Calculate ROC curves\n",
    "fpr_base, tpr_base, _ = roc_curve(y_base_test, y_base_prob)\n",
    "fpr_enh, tpr_enh, _ = roc_curve(y_enh_test, y_enh_prob)\n",
    "\n",
    "auc_base = auc(fpr_base, tpr_base)\n",
    "auc_enh = auc(fpr_enh, tpr_enh)\n",
    "\n",
    "# Plot\n",
    "plt.figure(figsize=(8, 6))\n",
    "plt.plot(fpr_base, tpr_base, label=f\"Baseline Fallback (AUC = {auc_base:.3f})\", color=\"#1f77b4\")\n",
    "plt.plot(fpr_enh, tpr_enh, label=f\"Enhanced Fallback + Synthetic (AUC = {auc_enh:.3f})\", color=\"#ff7f0e\")\n",
    "plt.plot([0, 1], [0, 1], linestyle=\"--\", color=\"gray\", label=\"Random\")\n",
    "\n",
    "plt.xlabel(\"False Positive Rate\")\n",
    "plt.ylabel(\"True Positive Rate\")\n",
    "plt.title(\"ROC Curve – Fallback vs Enhanced Model\")\n",
    "plt.legend(loc=\"lower right\")\n",
    "plt.grid(True)\n",
    "plt.tight_layout()\n",
    "plt.show()"
   ]
  },
  {
   "cell_type": "markdown",
   "id": "b31d2e33",
   "metadata": {
    "papermill": {
     "duration": 0.005265,
     "end_time": "2025-07-21T08:34:30.842317",
     "exception": false,
     "start_time": "2025-07-21T08:34:30.837052",
     "status": "completed"
    },
    "tags": []
   },
   "source": [
    "## 8. Summary\n",
    "<a id=\"8-summary\"></a>  \n",
    "\n",
    "We loaded a feedback-based Logistic Regression model (`model_with_feedback.pkl`), applied it to all customers to generate a new feature: `synthetic_text_score`, added this variable to the fallback dataset, compared two models: 1. A baseline fallback model (structured data only), 2. An enhanced fallback model (structured + synthetic score)\n",
    "\n",
    "### Result:\n",
    "Despite expectations, both models performed nearly identically:\n",
    "- Baseline AUC: **0.846**\n",
    "- Enhanced AUC: **0.846**\n",
    "\n",
    "This suggests that in this specific setup, the additional synthetic signal did not provide extra lift — likely due to data being relatively easy to predict or the signal being redundant.\n",
    "\n",
    "\n",
    "\n",
    "Still, the architecture built here demonstrates a **reusable hybrid approach**, where insights from rich data (text) can inform simpler fallback systems."
   ]
  },
  {
   "cell_type": "markdown",
   "id": "3e4b4fa5",
   "metadata": {
    "papermill": {
     "duration": 0.004921,
     "end_time": "2025-07-21T08:34:30.852375",
     "exception": false,
     "start_time": "2025-07-21T08:34:30.847454",
     "status": "completed"
    },
    "tags": []
   },
   "source": [
    "## 📁 Notebook Series Overview: **Telco Churn & GPT Feedback**\n",
    "<a id=\"notebook-series-overview-telco-churn--gpt-feedback\"></a>\n",
    "\n",
    "This is part of a multi-notebook series focused on **realistic churn prediction** using structured data and GPT-generated customer feedback.  \n",
    "We simulate real-world challenges such as missing text, noisy input, and model fallback logic — building toward a robust, production-style solution.\n",
    "\n",
    "---\n",
    "\n",
    "###  1. Exploring Customer Churn & GPT-generated Feedback\n",
    "\n",
    "> Exploratory analysis of the churn dataset, with focus on customer segments, behavior patterns, and text feedback characteristics.  \n",
    "> Text insights powered by GPT-generated responses.\n",
    "\n",
    "---\n",
    "\n",
    "###  2. Feedback Noise Simulation & Fallback Testing\n",
    "\n",
    "> We simulate feedback imperfections (irrelevant, incomplete, or missing entries) and measure how models perform under noise.  \n",
    "> Introduces the concept of fallback systems for low-signal situations.\n",
    "\n",
    "---\n",
    "\n",
    "### 3. Fallback Model – Logistic vs XGB vs RF vs NN\n",
    "\n",
    "> We train and compare multiple classifiers on **structured-only data** (no feedback):  \n",
    "> Logistic Regression, Random Forest, XGBoost, and Neural Net.  \n",
    "> Best fallback model is selected based on ROC AUC and recall.\n",
    "\n",
    "---\n",
    "\n",
    "###  4. Model with Feedback – Logistic vs XGB vs NN\n",
    "\n",
    "> We focus on customers who left written feedback.  \n",
    "> Structured data is combined with TF-IDF vectors to train a stronger “teacher” model.  \n",
    "> Logistic Regression emerges as the most interpretable and best-performing solution.\n",
    "\n",
    "---\n",
    "\n",
    "### 5. Prediction using Synthetic Feedback Knowledge\n",
    "\n",
    "> Even when customers don’t leave feedback, we simulate its predictive signal using the trained teacher model.  \n",
    "> We generate a `synthetic_text_score` and evaluate whether it helps fallback performance.\n",
    "\n",
    "---\n"
   ]
  }
 ],
 "metadata": {
  "kaggle": {
   "accelerator": "none",
   "dataSources": [
    {
     "datasetId": 13996,
     "sourceId": 18858,
     "sourceType": "datasetVersion"
    },
    {
     "datasetId": 4968559,
     "sourceId": 8360350,
     "sourceType": "datasetVersion"
    },
    {
     "datasetId": 5855544,
     "sourceId": 9598780,
     "sourceType": "datasetVersion"
    },
    {
     "datasetId": 7630515,
     "sourceId": 12257490,
     "sourceType": "datasetVersion"
    }
   ],
   "dockerImageVersionId": 31040,
   "isGpuEnabled": false,
   "isInternetEnabled": true,
   "language": "python",
   "sourceType": "notebook"
  },
  "kernelspec": {
   "display_name": "Python 3",
   "language": "python",
   "name": "python3"
  },
  "language_info": {
   "codemirror_mode": {
    "name": "ipython",
    "version": 3
   },
   "file_extension": ".py",
   "mimetype": "text/x-python",
   "name": "python",
   "nbconvert_exporter": "python",
   "pygments_lexer": "ipython3",
   "version": "3.11.11"
  },
  "papermill": {
   "default_parameters": {},
   "duration": 10.925813,
   "end_time": "2025-07-21T08:34:31.376408",
   "environment_variables": {},
   "exception": null,
   "input_path": "__notebook__.ipynb",
   "output_path": "__notebook__.ipynb",
   "parameters": {},
   "start_time": "2025-07-21T08:34:20.450595",
   "version": "2.6.0"
  }
 },
 "nbformat": 4,
 "nbformat_minor": 5
}
