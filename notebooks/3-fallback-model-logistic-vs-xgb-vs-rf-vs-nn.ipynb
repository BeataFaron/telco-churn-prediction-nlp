{
 "cells": [
  {
   "cell_type": "markdown",
   "id": "7f6f3038",
   "metadata": {
    "papermill": {
     "duration": 0.005696,
     "end_time": "2025-07-21T08:32:25.008580",
     "exception": false,
     "start_time": "2025-07-21T08:32:25.002884",
     "status": "completed"
    },
    "tags": []
   },
   "source": [
    "# Fallback Model Benchmark – Logistic vs XGBoost vs RF vs Neural Net\n",
    "\n",
    "In this notebook, we evaluate several classification models for customer churn prediction **without textual feedback**. This simulates a realistic fallback scenario where structured data is available, but customer comments are missing.\n",
    "\n",
    "We compare four different models:\n",
    "- **Logistic Regression (baseline & tuned)**\n",
    "- **Random Forest (tuned)**\n",
    "- **XGBoost (tuned)**\n",
    "- **Neural Network (MLP, tuned)**\n",
    "\n",
    "We assess each model using **ROC AUC**, **accuracy**, **F1-score**, and **confusion matrices**. Later, this model will be used as a base for a hybrid approach (in Notebook 3), where synthetic features derived from text-based models will be introduced to boost fallback performance.\n"
   ]
  },
  {
   "cell_type": "markdown",
   "id": "f8b73a31",
   "metadata": {
    "papermill": {
     "duration": 0.004512,
     "end_time": "2025-07-21T08:32:25.018126",
     "exception": false,
     "start_time": "2025-07-21T08:32:25.013614",
     "status": "completed"
    },
    "tags": []
   },
   "source": [
    "\n",
    "### Project Structure:\n",
    "\n",
    "1. **Exploring Customer Churn & GPT-generated Feedback**  \n",
    "   → Data exploration & text insights\n",
    "\n",
    "2. **Feedback Noise Simulation & Fallback Testing**  \n",
    "   → Simulate real-world feedback imperfections\n",
    "\n",
    "3. **Fallback Model – Logistic vs XGB vs RF vs NN**  \n",
    "   → Structured-only models, compared & evaluated\n",
    "\n",
    "4. **Model with Feedback – Logistic vs XGB vs NN**  \n",
    "   → Hybrid modeling using structured + textual data\n",
    "\n",
    "5. **Prediction using Synthetic Feedback Knowledge**  \n",
    "   → Transfer feedback model knowledge to fallback model\n"
   ]
  },
  {
   "cell_type": "markdown",
   "id": "d52a2aba",
   "metadata": {
    "papermill": {
     "duration": 0.004374,
     "end_time": "2025-07-21T08:32:25.027286",
     "exception": false,
     "start_time": "2025-07-21T08:32:25.022912",
     "status": "completed"
    },
    "tags": []
   },
   "source": [
    "## 📑 Table of Contents\n",
    "\n",
    "[1. Imports & Config](#1-imports--config)  \n",
    "[2. Load data](#2-load-data)  \n",
    "[3. Preparing data](#3-preparing-data)  \n",
    "[4. Set models](#4-set-models)  \n",
    "[5. Tuning models](#5-tuning-models)  \n",
    "[6. Evaluation](#6-evaluation)  \n",
    "[7. Mid Summary](#7-mid-summary)  \n",
    "[8. Logistic Regression Tuning (GridSearchCV)](#8-logistic-regression-tuning-gridsearchcv)  \n",
    "[9. Summary](#9-summary)  \n",
    "[📁 Notebook Series Overview: Telco Churn & GPT Feedback](#notebook-series-overview-telco-churn--gpt-feedback)\n"
   ]
  },
  {
   "cell_type": "markdown",
   "id": "03c11e41",
   "metadata": {
    "papermill": {
     "duration": 0.00434,
     "end_time": "2025-07-21T08:32:25.036325",
     "exception": false,
     "start_time": "2025-07-21T08:32:25.031985",
     "status": "completed"
    },
    "tags": []
   },
   "source": [
    "## 1. Imports & Config\n",
    "<a id=\"1-imports--config\"></a>\n"
   ]
  },
  {
   "cell_type": "code",
   "execution_count": 1,
   "id": "71953875",
   "metadata": {
    "_cell_guid": "b1076dfc-b9ad-4769-8c92-a6c4dae69d19",
    "_uuid": "8f2839f25d086af736a60e9eeb907d3b93b6e0e5",
    "execution": {
     "iopub.execute_input": "2025-07-21T08:32:25.047171Z",
     "iopub.status.busy": "2025-07-21T08:32:25.046854Z",
     "iopub.status.idle": "2025-07-21T08:32:30.840567Z",
     "shell.execute_reply": "2025-07-21T08:32:30.839656Z"
    },
    "papermill": {
     "duration": 5.801845,
     "end_time": "2025-07-21T08:32:30.842831",
     "exception": false,
     "start_time": "2025-07-21T08:32:25.040986",
     "status": "completed"
    },
    "tags": []
   },
   "outputs": [],
   "source": [
    "import pandas as pd\n",
    "import numpy as np\n",
    "\n",
    "from sklearn.model_selection import train_test_split\n",
    "from sklearn.preprocessing import OneHotEncoder, StandardScaler\n",
    "from sklearn.feature_extraction.text import TfidfVectorizer\n",
    "from sklearn.compose import ColumnTransformer\n",
    "from sklearn.pipeline import Pipeline\n",
    "from sklearn.linear_model import LogisticRegression\n",
    "from sklearn.metrics import classification_report, roc_auc_score\n",
    "from sklearn.model_selection import train_test_split, GridSearchCV\n",
    "\n",
    "\n",
    "import matplotlib.pyplot as plt\n",
    "import seaborn as sns\n",
    "\n",
    "from textblob import TextBlob\n",
    "\n",
    "from sklearn.ensemble import RandomForestClassifier\n",
    "from sklearn.neural_network import MLPClassifier\n",
    "from xgboost import XGBClassifier\n",
    "\n",
    "from sklearn.metrics import ConfusionMatrixDisplay"
   ]
  },
  {
   "cell_type": "code",
   "execution_count": 2,
   "id": "89475690",
   "metadata": {
    "execution": {
     "iopub.execute_input": "2025-07-21T08:32:30.854262Z",
     "iopub.status.busy": "2025-07-21T08:32:30.853709Z",
     "iopub.status.idle": "2025-07-21T08:32:30.859359Z",
     "shell.execute_reply": "2025-07-21T08:32:30.858486Z"
    },
    "papermill": {
     "duration": 0.013232,
     "end_time": "2025-07-21T08:32:30.861129",
     "exception": false,
     "start_time": "2025-07-21T08:32:30.847897",
     "status": "completed"
    },
    "tags": []
   },
   "outputs": [],
   "source": [
    "pd.set_option('display.max_colwidth', None)"
   ]
  },
  {
   "cell_type": "markdown",
   "id": "6396e2e0",
   "metadata": {
    "papermill": {
     "duration": 0.006942,
     "end_time": "2025-07-21T08:32:30.876708",
     "exception": false,
     "start_time": "2025-07-21T08:32:30.869766",
     "status": "completed"
    },
    "tags": []
   },
   "source": [
    "## 2. Load data\n",
    "<a id=\"2-load-data\"></a>\n"
   ]
  },
  {
   "cell_type": "code",
   "execution_count": 3,
   "id": "441466e4",
   "metadata": {
    "execution": {
     "iopub.execute_input": "2025-07-21T08:32:30.889898Z",
     "iopub.status.busy": "2025-07-21T08:32:30.889085Z",
     "iopub.status.idle": "2025-07-21T08:32:31.008727Z",
     "shell.execute_reply": "2025-07-21T08:32:31.007730Z"
    },
    "papermill": {
     "duration": 0.128599,
     "end_time": "2025-07-21T08:32:31.010263",
     "exception": false,
     "start_time": "2025-07-21T08:32:30.881664",
     "status": "completed"
    },
    "tags": []
   },
   "outputs": [
    {
     "data": {
      "text/html": [
       "<div>\n",
       "<style scoped>\n",
       "    .dataframe tbody tr th:only-of-type {\n",
       "        vertical-align: middle;\n",
       "    }\n",
       "\n",
       "    .dataframe tbody tr th {\n",
       "        vertical-align: top;\n",
       "    }\n",
       "\n",
       "    .dataframe thead th {\n",
       "        text-align: right;\n",
       "    }\n",
       "</style>\n",
       "<table border=\"1\" class=\"dataframe\">\n",
       "  <thead>\n",
       "    <tr style=\"text-align: right;\">\n",
       "      <th></th>\n",
       "      <th>Unnamed: 0.1</th>\n",
       "      <th>Unnamed: 0</th>\n",
       "      <th>customerID</th>\n",
       "      <th>gender</th>\n",
       "      <th>SeniorCitizen</th>\n",
       "      <th>Partner</th>\n",
       "      <th>Dependents</th>\n",
       "      <th>tenure</th>\n",
       "      <th>PhoneService</th>\n",
       "      <th>MultipleLines</th>\n",
       "      <th>...</th>\n",
       "      <th>Contract</th>\n",
       "      <th>PaperlessBilling</th>\n",
       "      <th>PaymentMethod</th>\n",
       "      <th>MonthlyCharges</th>\n",
       "      <th>TotalCharges</th>\n",
       "      <th>Churn</th>\n",
       "      <th>CustomerFeedback</th>\n",
       "      <th>feedback_length</th>\n",
       "      <th>sentiment</th>\n",
       "      <th>HasFeedback</th>\n",
       "    </tr>\n",
       "  </thead>\n",
       "  <tbody>\n",
       "    <tr>\n",
       "      <th>0</th>\n",
       "      <td>0</td>\n",
       "      <td>0</td>\n",
       "      <td>7590-vhveg</td>\n",
       "      <td>female</td>\n",
       "      <td>0</td>\n",
       "      <td>yes</td>\n",
       "      <td>no</td>\n",
       "      <td>1</td>\n",
       "      <td>no</td>\n",
       "      <td>no phone service</td>\n",
       "      <td>...</td>\n",
       "      <td>month-to-month</td>\n",
       "      <td>yes</td>\n",
       "      <td>electronic check</td>\n",
       "      <td>29.85</td>\n",
       "      <td>29.85</td>\n",
       "      <td>0</td>\n",
       "      <td>NaN</td>\n",
       "      <td>0</td>\n",
       "      <td>0.0</td>\n",
       "      <td>False</td>\n",
       "    </tr>\n",
       "    <tr>\n",
       "      <th>1</th>\n",
       "      <td>1</td>\n",
       "      <td>1</td>\n",
       "      <td>5575-gnvde</td>\n",
       "      <td>male</td>\n",
       "      <td>0</td>\n",
       "      <td>no</td>\n",
       "      <td>no</td>\n",
       "      <td>34</td>\n",
       "      <td>yes</td>\n",
       "      <td>no</td>\n",
       "      <td>...</td>\n",
       "      <td>one year</td>\n",
       "      <td>no</td>\n",
       "      <td>mailed check</td>\n",
       "      <td>56.95</td>\n",
       "      <td>1889.50</td>\n",
       "      <td>0</td>\n",
       "      <td>NaN</td>\n",
       "      <td>0</td>\n",
       "      <td>0.0</td>\n",
       "      <td>False</td>\n",
       "    </tr>\n",
       "    <tr>\n",
       "      <th>2</th>\n",
       "      <td>2</td>\n",
       "      <td>2</td>\n",
       "      <td>3668-qpybk</td>\n",
       "      <td>male</td>\n",
       "      <td>0</td>\n",
       "      <td>no</td>\n",
       "      <td>no</td>\n",
       "      <td>2</td>\n",
       "      <td>yes</td>\n",
       "      <td>no</td>\n",
       "      <td>...</td>\n",
       "      <td>month-to-month</td>\n",
       "      <td>yes</td>\n",
       "      <td>mailed check</td>\n",
       "      <td>53.85</td>\n",
       "      <td>108.15</td>\n",
       "      <td>1</td>\n",
       "      <td>NaN</td>\n",
       "      <td>0</td>\n",
       "      <td>0.0</td>\n",
       "      <td>False</td>\n",
       "    </tr>\n",
       "    <tr>\n",
       "      <th>3</th>\n",
       "      <td>3</td>\n",
       "      <td>3</td>\n",
       "      <td>7795-cfocw</td>\n",
       "      <td>male</td>\n",
       "      <td>0</td>\n",
       "      <td>no</td>\n",
       "      <td>no</td>\n",
       "      <td>45</td>\n",
       "      <td>no</td>\n",
       "      <td>no phone service</td>\n",
       "      <td>...</td>\n",
       "      <td>one year</td>\n",
       "      <td>no</td>\n",
       "      <td>bank transfer (automatic)</td>\n",
       "      <td>42.30</td>\n",
       "      <td>1840.75</td>\n",
       "      <td>0</td>\n",
       "      <td>NaN</td>\n",
       "      <td>0</td>\n",
       "      <td>0.0</td>\n",
       "      <td>False</td>\n",
       "    </tr>\n",
       "    <tr>\n",
       "      <th>4</th>\n",
       "      <td>4</td>\n",
       "      <td>4</td>\n",
       "      <td>9237-hqitu</td>\n",
       "      <td>female</td>\n",
       "      <td>0</td>\n",
       "      <td>no</td>\n",
       "      <td>no</td>\n",
       "      <td>2</td>\n",
       "      <td>yes</td>\n",
       "      <td>no</td>\n",
       "      <td>...</td>\n",
       "      <td>month-to-month</td>\n",
       "      <td>yes</td>\n",
       "      <td>electronic check</td>\n",
       "      <td>70.70</td>\n",
       "      <td>151.65</td>\n",
       "      <td>1</td>\n",
       "      <td>NaN</td>\n",
       "      <td>0</td>\n",
       "      <td>0.0</td>\n",
       "      <td>False</td>\n",
       "    </tr>\n",
       "  </tbody>\n",
       "</table>\n",
       "<p>5 rows × 27 columns</p>\n",
       "</div>"
      ],
      "text/plain": [
       "   Unnamed: 0.1  Unnamed: 0  customerID  gender  SeniorCitizen Partner  \\\n",
       "0             0           0  7590-vhveg  female              0     yes   \n",
       "1             1           1  5575-gnvde    male              0      no   \n",
       "2             2           2  3668-qpybk    male              0      no   \n",
       "3             3           3  7795-cfocw    male              0      no   \n",
       "4             4           4  9237-hqitu  female              0      no   \n",
       "\n",
       "  Dependents  tenure PhoneService     MultipleLines  ...        Contract  \\\n",
       "0         no       1           no  no phone service  ...  month-to-month   \n",
       "1         no      34          yes                no  ...        one year   \n",
       "2         no       2          yes                no  ...  month-to-month   \n",
       "3         no      45           no  no phone service  ...        one year   \n",
       "4         no       2          yes                no  ...  month-to-month   \n",
       "\n",
       "  PaperlessBilling              PaymentMethod MonthlyCharges TotalCharges  \\\n",
       "0              yes           electronic check          29.85        29.85   \n",
       "1               no               mailed check          56.95      1889.50   \n",
       "2              yes               mailed check          53.85       108.15   \n",
       "3               no  bank transfer (automatic)          42.30      1840.75   \n",
       "4              yes           electronic check          70.70       151.65   \n",
       "\n",
       "  Churn CustomerFeedback feedback_length sentiment HasFeedback  \n",
       "0     0              NaN               0       0.0       False  \n",
       "1     0              NaN               0       0.0       False  \n",
       "2     1              NaN               0       0.0       False  \n",
       "3     0              NaN               0       0.0       False  \n",
       "4     1              NaN               0       0.0       False  \n",
       "\n",
       "[5 rows x 27 columns]"
      ]
     },
     "execution_count": 3,
     "metadata": {},
     "output_type": "execute_result"
    }
   ],
   "source": [
    "df = pd.read_csv('/kaggle/input/telco-customer-churn-realistic-customer-feedback/telco_noisy_feedback_prep.csv')\n",
    "df.head()"
   ]
  },
  {
   "cell_type": "markdown",
   "id": "71ed677f",
   "metadata": {
    "papermill": {
     "duration": 0.004824,
     "end_time": "2025-07-21T08:32:31.020638",
     "exception": false,
     "start_time": "2025-07-21T08:32:31.015814",
     "status": "completed"
    },
    "tags": []
   },
   "source": [
    "## 3. Preaparing data\n",
    "<a id=\"3-preparing-data\"></a>\n"
   ]
  },
  {
   "cell_type": "code",
   "execution_count": 4,
   "id": "af3c7bb7",
   "metadata": {
    "execution": {
     "iopub.execute_input": "2025-07-21T08:32:31.032661Z",
     "iopub.status.busy": "2025-07-21T08:32:31.031925Z",
     "iopub.status.idle": "2025-07-21T08:32:31.055366Z",
     "shell.execute_reply": "2025-07-21T08:32:31.054404Z"
    },
    "papermill": {
     "duration": 0.031275,
     "end_time": "2025-07-21T08:32:31.057047",
     "exception": false,
     "start_time": "2025-07-21T08:32:31.025772",
     "status": "completed"
    },
    "tags": []
   },
   "outputs": [
    {
     "data": {
      "text/plain": [
       "((4922, 8), (2110, 8))"
      ]
     },
     "execution_count": 4,
     "metadata": {},
     "output_type": "execute_result"
    }
   ],
   "source": [
    "# ==== Feature config ====\n",
    "numeric_features_clean = ['tenure', 'MonthlyCharges', 'TotalCharges']\n",
    "categorical_features_clean = [\"Contract\", \"PaymentMethod\", \"InternetService\", \n",
    "    \"Partner\", \"Dependents\"]\n",
    "\n",
    "\n",
    "# Model columns\n",
    "features_clean = numeric_features_clean + categorical_features_clean + [\"Churn\"]\n",
    "\n",
    "# preaparing data\n",
    "df_clean_structural = df[features_clean].copy()\n",
    "\n",
    "\n",
    "X = df_clean_structural.drop(\"Churn\", axis=1)\n",
    "y = df_clean_structural[\"Churn\"]\n",
    "\n",
    "X_train, X_test, y_train, y_test = train_test_split(\n",
    "    X, y, stratify=y, test_size=0.3, random_state=42\n",
    ")\n",
    "\n",
    "X_train.shape, X_test.shape"
   ]
  },
  {
   "cell_type": "code",
   "execution_count": 5,
   "id": "a16522a4",
   "metadata": {
    "execution": {
     "iopub.execute_input": "2025-07-21T08:32:31.069871Z",
     "iopub.status.busy": "2025-07-21T08:32:31.068749Z",
     "iopub.status.idle": "2025-07-21T08:32:31.073767Z",
     "shell.execute_reply": "2025-07-21T08:32:31.072820Z"
    },
    "papermill": {
     "duration": 0.012787,
     "end_time": "2025-07-21T08:32:31.075317",
     "exception": false,
     "start_time": "2025-07-21T08:32:31.062530",
     "status": "completed"
    },
    "tags": []
   },
   "outputs": [],
   "source": [
    "# ==== Preprocessor ====\n",
    "preprocessor = ColumnTransformer(transformers=[\n",
    "    (\"num\", StandardScaler(), numeric_features_clean),\n",
    "    (\"cat\", OneHotEncoder(handle_unknown=\"ignore\"), categorical_features_clean)\n",
    "])"
   ]
  },
  {
   "cell_type": "markdown",
   "id": "41a3372b",
   "metadata": {
    "papermill": {
     "duration": 0.005517,
     "end_time": "2025-07-21T08:32:31.086258",
     "exception": false,
     "start_time": "2025-07-21T08:32:31.080741",
     "status": "completed"
    },
    "tags": []
   },
   "source": [
    "## 4. Set models\n",
    "<a id=\"4-set-models\"></a>\n"
   ]
  },
  {
   "cell_type": "code",
   "execution_count": 6,
   "id": "f12a5225",
   "metadata": {
    "execution": {
     "iopub.execute_input": "2025-07-21T08:32:31.099914Z",
     "iopub.status.busy": "2025-07-21T08:32:31.099078Z",
     "iopub.status.idle": "2025-07-21T08:32:34.914176Z",
     "shell.execute_reply": "2025-07-21T08:32:34.913172Z"
    },
    "papermill": {
     "duration": 3.824608,
     "end_time": "2025-07-21T08:32:34.915957",
     "exception": false,
     "start_time": "2025-07-21T08:32:31.091349",
     "status": "completed"
    },
    "tags": []
   },
   "outputs": [
    {
     "name": "stdout",
     "output_type": "stream",
     "text": [
      "Baseline model performance:\n"
     ]
    },
    {
     "data": {
      "text/html": [
       "<div>\n",
       "<style scoped>\n",
       "    .dataframe tbody tr th:only-of-type {\n",
       "        vertical-align: middle;\n",
       "    }\n",
       "\n",
       "    .dataframe tbody tr th {\n",
       "        vertical-align: top;\n",
       "    }\n",
       "\n",
       "    .dataframe thead th {\n",
       "        text-align: right;\n",
       "    }\n",
       "</style>\n",
       "<table border=\"1\" class=\"dataframe\">\n",
       "  <thead>\n",
       "    <tr style=\"text-align: right;\">\n",
       "      <th></th>\n",
       "      <th>f1-score</th>\n",
       "      <th>accuracy</th>\n",
       "      <th>roc_auc</th>\n",
       "    </tr>\n",
       "  </thead>\n",
       "  <tbody>\n",
       "    <tr>\n",
       "      <th>Logistic Regression</th>\n",
       "      <td>0.791164</td>\n",
       "      <td>0.800474</td>\n",
       "      <td>0.841114</td>\n",
       "    </tr>\n",
       "    <tr>\n",
       "      <th>Neural Net (MLP)</th>\n",
       "      <td>0.785831</td>\n",
       "      <td>0.794313</td>\n",
       "      <td>0.839810</td>\n",
       "    </tr>\n",
       "    <tr>\n",
       "      <th>XGBoost</th>\n",
       "      <td>0.765211</td>\n",
       "      <td>0.773460</td>\n",
       "      <td>0.814783</td>\n",
       "    </tr>\n",
       "    <tr>\n",
       "      <th>Random Forest</th>\n",
       "      <td>0.755449</td>\n",
       "      <td>0.766351</td>\n",
       "      <td>0.795387</td>\n",
       "    </tr>\n",
       "  </tbody>\n",
       "</table>\n",
       "</div>"
      ],
      "text/plain": [
       "                     f1-score  accuracy   roc_auc\n",
       "Logistic Regression  0.791164  0.800474  0.841114\n",
       "Neural Net (MLP)     0.785831  0.794313  0.839810\n",
       "XGBoost              0.765211  0.773460  0.814783\n",
       "Random Forest        0.755449  0.766351  0.795387"
      ]
     },
     "metadata": {},
     "output_type": "display_data"
    }
   ],
   "source": [
    "base_models = {\n",
    "    \"Logistic Regression\": LogisticRegression(max_iter=1000),\n",
    "    \"Random Forest\": RandomForestClassifier(n_estimators=100, random_state=42),\n",
    "    \"XGBoost\": XGBClassifier(use_label_encoder=False, eval_metric=\"logloss\", random_state=42),\n",
    "    \"Neural Net (MLP)\": MLPClassifier(hidden_layer_sizes=(32, 16), max_iter=300, random_state=42)\n",
    "}\n",
    "\n",
    "base_results = {}\n",
    "\n",
    "for name, model in base_models.items():\n",
    "    pipe = Pipeline([\n",
    "        (\"preprocessor\", preprocessor),\n",
    "        (\"classifier\", model)\n",
    "    ])\n",
    "    pipe.fit(X_train, y_train)\n",
    "    y_pred = pipe.predict(X_test)\n",
    "    y_prob = pipe.predict_proba(X_test)[:, 1]\n",
    "    \n",
    "    report = classification_report(y_test, y_pred, output_dict=True)\n",
    "    auc = roc_auc_score(y_test, y_prob)\n",
    "    base_results[name] = {\n",
    "        \"f1-score\": report[\"weighted avg\"][\"f1-score\"],\n",
    "        \"accuracy\": report[\"accuracy\"],\n",
    "        \"roc_auc\": auc\n",
    "    }\n",
    "\n",
    "# To table\n",
    "base_results_df = pd.DataFrame(base_results).T.sort_values(\"roc_auc\", ascending=False)\n",
    "print(\"Baseline model performance:\")\n",
    "display(base_results_df)\n"
   ]
  },
  {
   "cell_type": "markdown",
   "id": "0168fffc",
   "metadata": {
    "papermill": {
     "duration": 0.005179,
     "end_time": "2025-07-21T08:32:34.926709",
     "exception": false,
     "start_time": "2025-07-21T08:32:34.921530",
     "status": "completed"
    },
    "tags": []
   },
   "source": [
    "## 5. Tunning models\n",
    "<a id=\"5-tuning-models\"></a>\n"
   ]
  },
  {
   "cell_type": "code",
   "execution_count": 7,
   "id": "b58958cd",
   "metadata": {
    "execution": {
     "iopub.execute_input": "2025-07-21T08:32:34.939007Z",
     "iopub.status.busy": "2025-07-21T08:32:34.938271Z",
     "iopub.status.idle": "2025-07-21T08:32:34.943619Z",
     "shell.execute_reply": "2025-07-21T08:32:34.942846Z"
    },
    "papermill": {
     "duration": 0.013029,
     "end_time": "2025-07-21T08:32:34.945022",
     "exception": false,
     "start_time": "2025-07-21T08:32:34.931993",
     "status": "completed"
    },
    "tags": []
   },
   "outputs": [],
   "source": [
    "# ==== Param grids ====\n",
    "rf_grid = {\n",
    "    \"classifier__n_estimators\": [50, 100],\n",
    "    \"classifier__max_depth\": [5, 10],\n",
    "    \"classifier__max_features\": [\"sqrt\"]\n",
    "}\n",
    "\n",
    "xgb_grid = {\n",
    "    \"classifier__n_estimators\": [50, 100],\n",
    "    \"classifier__learning_rate\": [0.05, 0.1],\n",
    "    \"classifier__max_depth\": [3, 6]\n",
    "}\n",
    "\n",
    "mlp_grid = {\n",
    "    \"classifier__hidden_layer_sizes\": [(32,), (64, 32)],\n",
    "    \"classifier__alpha\": [0.0001, 0.001],\n",
    "    \"classifier__solver\": [\"adam\"]\n",
    "}"
   ]
  },
  {
   "cell_type": "code",
   "execution_count": 8,
   "id": "71b1b473",
   "metadata": {
    "execution": {
     "iopub.execute_input": "2025-07-21T08:32:34.957719Z",
     "iopub.status.busy": "2025-07-21T08:32:34.957027Z",
     "iopub.status.idle": "2025-07-21T08:33:04.200367Z",
     "shell.execute_reply": "2025-07-21T08:33:04.199413Z"
    },
    "papermill": {
     "duration": 29.251755,
     "end_time": "2025-07-21T08:33:04.202222",
     "exception": false,
     "start_time": "2025-07-21T08:32:34.950467",
     "status": "completed"
    },
    "tags": []
   },
   "outputs": [
    {
     "name": "stderr",
     "output_type": "stream",
     "text": [
      "/usr/local/lib/python3.11/dist-packages/sklearn/neural_network/_multilayer_perceptron.py:686: ConvergenceWarning: Stochastic Optimizer: Maximum iterations (300) reached and the optimization hasn't converged yet.\n",
      "  warnings.warn(\n",
      "/usr/local/lib/python3.11/dist-packages/sklearn/neural_network/_multilayer_perceptron.py:686: ConvergenceWarning: Stochastic Optimizer: Maximum iterations (300) reached and the optimization hasn't converged yet.\n",
      "  warnings.warn(\n",
      "/usr/local/lib/python3.11/dist-packages/sklearn/neural_network/_multilayer_perceptron.py:686: ConvergenceWarning: Stochastic Optimizer: Maximum iterations (300) reached and the optimization hasn't converged yet.\n",
      "  warnings.warn(\n",
      "/usr/local/lib/python3.11/dist-packages/sklearn/neural_network/_multilayer_perceptron.py:686: ConvergenceWarning: Stochastic Optimizer: Maximum iterations (300) reached and the optimization hasn't converged yet.\n",
      "  warnings.warn(\n",
      "/usr/local/lib/python3.11/dist-packages/sklearn/neural_network/_multilayer_perceptron.py:686: ConvergenceWarning: Stochastic Optimizer: Maximum iterations (300) reached and the optimization hasn't converged yet.\n",
      "  warnings.warn(\n",
      "/usr/local/lib/python3.11/dist-packages/sklearn/neural_network/_multilayer_perceptron.py:686: ConvergenceWarning: Stochastic Optimizer: Maximum iterations (300) reached and the optimization hasn't converged yet.\n",
      "  warnings.warn(\n"
     ]
    }
   ],
   "source": [
    "searches = {\n",
    "    \"Random Forest\": GridSearchCV(Pipeline([\n",
    "        (\"preprocessor\", preprocessor),\n",
    "        (\"classifier\", RandomForestClassifier(random_state=42))\n",
    "    ]), rf_grid, cv=3, scoring=\"f1\", n_jobs=-1),\n",
    "\n",
    "    \"XGBoost\": GridSearchCV(Pipeline([\n",
    "        (\"preprocessor\", preprocessor),\n",
    "        (\"classifier\", XGBClassifier(use_label_encoder=False, eval_metric=\"logloss\", random_state=42))\n",
    "    ]), xgb_grid, cv=3, scoring=\"f1\", n_jobs=-1),\n",
    "\n",
    "    \"Neural Net (MLP)\": GridSearchCV(Pipeline([\n",
    "        (\"preprocessor\", preprocessor),\n",
    "        (\"classifier\", MLPClassifier(max_iter=300, random_state=42))\n",
    "    ]), mlp_grid, cv=3, scoring=\"f1\", n_jobs=-1)\n",
    "}\n",
    "\n",
    "search_results = {}\n",
    "for name, search in searches.items():\n",
    "    search.fit(X_train, y_train)\n",
    "    best_model = search.best_estimator_\n",
    "    y_pred = best_model.predict(X_test)\n",
    "    y_prob = best_model.predict_proba(X_test)[:, 1]\n",
    "\n",
    "    report = classification_report(y_test, y_pred, output_dict=True)\n",
    "    auc = roc_auc_score(y_test, y_prob)\n",
    "\n",
    "    search_results[name] = {\n",
    "        \"f1-score\": report[\"weighted avg\"][\"f1-score\"],\n",
    "        \"accuracy\": report[\"accuracy\"],\n",
    "        \"roc_auc\": auc,\n",
    "        \"best_params\": search.best_params_\n",
    "    }\n",
    "\n",
    "# Format results\n",
    "search_df = pd.DataFrame(search_results).T.sort_values(\"roc_auc\", ascending=False)\n",
    "search_df.reset_index(inplace=True)\n",
    "search_df.rename(columns={\"index\": \"Model\"}, inplace=True)"
   ]
  },
  {
   "cell_type": "code",
   "execution_count": 9,
   "id": "c8f379d2",
   "metadata": {
    "execution": {
     "iopub.execute_input": "2025-07-21T08:33:04.219262Z",
     "iopub.status.busy": "2025-07-21T08:33:04.218777Z",
     "iopub.status.idle": "2025-07-21T08:33:04.232814Z",
     "shell.execute_reply": "2025-07-21T08:33:04.231673Z"
    },
    "papermill": {
     "duration": 0.023424,
     "end_time": "2025-07-21T08:33:04.234709",
     "exception": false,
     "start_time": "2025-07-21T08:33:04.211285",
     "status": "completed"
    },
    "tags": []
   },
   "outputs": [
    {
     "name": "stdout",
     "output_type": "stream",
     "text": [
      "Grid Search Results:\n"
     ]
    },
    {
     "data": {
      "text/html": [
       "<div>\n",
       "<style scoped>\n",
       "    .dataframe tbody tr th:only-of-type {\n",
       "        vertical-align: middle;\n",
       "    }\n",
       "\n",
       "    .dataframe tbody tr th {\n",
       "        vertical-align: top;\n",
       "    }\n",
       "\n",
       "    .dataframe thead th {\n",
       "        text-align: right;\n",
       "    }\n",
       "</style>\n",
       "<table border=\"1\" class=\"dataframe\">\n",
       "  <thead>\n",
       "    <tr style=\"text-align: right;\">\n",
       "      <th></th>\n",
       "      <th>Model</th>\n",
       "      <th>f1-score</th>\n",
       "      <th>accuracy</th>\n",
       "      <th>roc_auc</th>\n",
       "      <th>best_params</th>\n",
       "    </tr>\n",
       "  </thead>\n",
       "  <tbody>\n",
       "    <tr>\n",
       "      <th>0</th>\n",
       "      <td>XGBoost</td>\n",
       "      <td>0.784146</td>\n",
       "      <td>0.794787</td>\n",
       "      <td>0.848366</td>\n",
       "      <td>{'classifier__learning_rate': 0.05, 'classifier__max_depth': 3, 'classifier__n_estimators': 100}</td>\n",
       "    </tr>\n",
       "    <tr>\n",
       "      <th>1</th>\n",
       "      <td>Neural Net (MLP)</td>\n",
       "      <td>0.792775</td>\n",
       "      <td>0.799526</td>\n",
       "      <td>0.843195</td>\n",
       "      <td>{'classifier__alpha': 0.001, 'classifier__hidden_layer_sizes': (32,), 'classifier__solver': 'adam'}</td>\n",
       "    </tr>\n",
       "    <tr>\n",
       "      <th>2</th>\n",
       "      <td>Random Forest</td>\n",
       "      <td>0.780931</td>\n",
       "      <td>0.791469</td>\n",
       "      <td>0.832419</td>\n",
       "      <td>{'classifier__max_depth': 10, 'classifier__max_features': 'sqrt', 'classifier__n_estimators': 100}</td>\n",
       "    </tr>\n",
       "  </tbody>\n",
       "</table>\n",
       "</div>"
      ],
      "text/plain": [
       "              Model  f1-score  accuracy   roc_auc  \\\n",
       "0           XGBoost  0.784146  0.794787  0.848366   \n",
       "1  Neural Net (MLP)  0.792775  0.799526  0.843195   \n",
       "2     Random Forest  0.780931  0.791469  0.832419   \n",
       "\n",
       "                                                                                           best_params  \n",
       "0     {'classifier__learning_rate': 0.05, 'classifier__max_depth': 3, 'classifier__n_estimators': 100}  \n",
       "1  {'classifier__alpha': 0.001, 'classifier__hidden_layer_sizes': (32,), 'classifier__solver': 'adam'}  \n",
       "2   {'classifier__max_depth': 10, 'classifier__max_features': 'sqrt', 'classifier__n_estimators': 100}  "
      ]
     },
     "metadata": {},
     "output_type": "display_data"
    }
   ],
   "source": [
    "print(\"Grid Search Results:\")\n",
    "display(search_df)"
   ]
  },
  {
   "cell_type": "code",
   "execution_count": 10,
   "id": "4cb78bd1",
   "metadata": {
    "execution": {
     "iopub.execute_input": "2025-07-21T08:33:04.257450Z",
     "iopub.status.busy": "2025-07-21T08:33:04.256460Z",
     "iopub.status.idle": "2025-07-21T08:33:04.268868Z",
     "shell.execute_reply": "2025-07-21T08:33:04.268183Z"
    },
    "papermill": {
     "duration": 0.024723,
     "end_time": "2025-07-21T08:33:04.270748",
     "exception": false,
     "start_time": "2025-07-21T08:33:04.246025",
     "status": "completed"
    },
    "tags": []
   },
   "outputs": [
    {
     "name": "stdout",
     "output_type": "stream",
     "text": [
      "Baseline model performance:\n"
     ]
    },
    {
     "data": {
      "text/html": [
       "<div>\n",
       "<style scoped>\n",
       "    .dataframe tbody tr th:only-of-type {\n",
       "        vertical-align: middle;\n",
       "    }\n",
       "\n",
       "    .dataframe tbody tr th {\n",
       "        vertical-align: top;\n",
       "    }\n",
       "\n",
       "    .dataframe thead th {\n",
       "        text-align: right;\n",
       "    }\n",
       "</style>\n",
       "<table border=\"1\" class=\"dataframe\">\n",
       "  <thead>\n",
       "    <tr style=\"text-align: right;\">\n",
       "      <th></th>\n",
       "      <th>f1-score</th>\n",
       "      <th>accuracy</th>\n",
       "      <th>roc_auc</th>\n",
       "    </tr>\n",
       "  </thead>\n",
       "  <tbody>\n",
       "    <tr>\n",
       "      <th>Logistic Regression</th>\n",
       "      <td>0.791164</td>\n",
       "      <td>0.800474</td>\n",
       "      <td>0.841114</td>\n",
       "    </tr>\n",
       "  </tbody>\n",
       "</table>\n",
       "</div>"
      ],
      "text/plain": [
       "                     f1-score  accuracy   roc_auc\n",
       "Logistic Regression  0.791164  0.800474  0.841114"
      ]
     },
     "execution_count": 10,
     "metadata": {},
     "output_type": "execute_result"
    }
   ],
   "source": [
    "print(\"Baseline model performance:\")\n",
    "base_results_df.head(1)"
   ]
  },
  {
   "cell_type": "markdown",
   "id": "afcb3169",
   "metadata": {
    "papermill": {
     "duration": 0.009008,
     "end_time": "2025-07-21T08:33:04.290841",
     "exception": false,
     "start_time": "2025-07-21T08:33:04.281833",
     "status": "completed"
    },
    "tags": []
   },
   "source": [
    "## 6. Evaluation\n",
    "<a id=\"6-evaluation\"></a>\n"
   ]
  },
  {
   "cell_type": "code",
   "execution_count": 11,
   "id": "473f0bea",
   "metadata": {
    "execution": {
     "iopub.execute_input": "2025-07-21T08:33:04.306118Z",
     "iopub.status.busy": "2025-07-21T08:33:04.305812Z",
     "iopub.status.idle": "2025-07-21T08:33:04.714194Z",
     "shell.execute_reply": "2025-07-21T08:33:04.713322Z"
    },
    "papermill": {
     "duration": 0.417112,
     "end_time": "2025-07-21T08:33:04.715944",
     "exception": false,
     "start_time": "2025-07-21T08:33:04.298832",
     "status": "completed"
    },
    "tags": []
   },
   "outputs": [
    {
     "name": "stderr",
     "output_type": "stream",
     "text": [
      "/tmp/ipykernel_13/4211469331.py:15: UserWarning: Glyph 128202 (\\N{BAR CHART}) missing from current font.\n",
      "  plt.tight_layout()\n",
      "/usr/local/lib/python3.11/dist-packages/IPython/core/pylabtools.py:151: UserWarning: Glyph 128202 (\\N{BAR CHART}) missing from current font.\n",
      "  fig.canvas.print_figure(bytes_io, **kw)\n"
     ]
    },
    {
     "data": {
      "image/png": "[encoded data removed]",
      "text/plain": [
       "<Figure size 1000x600 with 1 Axes>"
      ]
     },
     "metadata": {},
     "output_type": "display_data"
    }
   ],
   "source": [
    "# Show models performance\n",
    "logreg_row = base_results_df.loc[[\"Logistic Regression\"]].copy()\n",
    "logreg_row[\"best_params\"] = \"default\"\n",
    "\n",
    "search_df_merged = search_df.set_index(\"Model\")[[\"f1-score\", \"accuracy\", \"roc_auc\", \"best_params\"]]\n",
    "combined_df = pd.concat([search_df_merged, logreg_row], axis=0)\n",
    "combined_df = combined_df.sort_values(\"roc_auc\", ascending=False)\n",
    "combined_df[[\"accuracy\", \"roc_auc\", \"f1-score\"]].plot(kind=\"bar\", figsize=(10, 6))\n",
    "plt.title(\"📊 Model Performance Comparison (Incl. Logistic Regression)\")\n",
    "plt.ylabel(\"Score\")\n",
    "plt.ylim(0.6, 1.0)\n",
    "plt.grid(axis='y')\n",
    "plt.xticks(rotation=15)\n",
    "plt.legend(title=\"Metric\")\n",
    "plt.tight_layout()\n",
    "plt.show()\n"
   ]
  },
  {
   "cell_type": "code",
   "execution_count": 12,
   "id": "b80dd3df",
   "metadata": {
    "execution": {
     "iopub.execute_input": "2025-07-21T08:33:04.732334Z",
     "iopub.status.busy": "2025-07-21T08:33:04.731649Z",
     "iopub.status.idle": "2025-07-21T08:33:05.460030Z",
     "shell.execute_reply": "2025-07-21T08:33:05.459055Z"
    },
    "papermill": {
     "duration": 0.738217,
     "end_time": "2025-07-21T08:33:05.461867",
     "exception": false,
     "start_time": "2025-07-21T08:33:04.723650",
     "status": "completed"
    },
    "tags": []
   },
   "outputs": [
    {
     "data": {
      "image/png": "[encoded data removed]",
      "text/plain": [
       "<Figure size 1200x1000 with 4 Axes>"
      ]
     },
     "metadata": {},
     "output_type": "display_data"
    }
   ],
   "source": [
    "# Logistic Regression\n",
    "pipe_logreg = Pipeline([\n",
    "    (\"preprocessor\", preprocessor),\n",
    "    (\"classifier\", LogisticRegression(max_iter=1000))\n",
    "])\n",
    "pipe_logreg.fit(X_train, y_train)\n",
    "y_pred_logreg = pipe_logreg.predict(X_test)\n",
    "\n",
    "# Best models from GridSearch\n",
    "best_rf = searches[\"Random Forest\"].best_estimator_\n",
    "best_xgb = searches[\"XGBoost\"].best_estimator_\n",
    "best_mlp = searches[\"Neural Net (MLP)\"].best_estimator_\n",
    "\n",
    "# Prepare all predictions\n",
    "model_preds = {\n",
    "    \"Logistic Regression (base)\": y_pred_logreg,\n",
    "    \"Random Forest (tuned)\": best_rf.predict(X_test),\n",
    "    \"XGBoost (tuned)\": best_xgb.predict(X_test),\n",
    "    \"Neural Net (tuned)\": best_mlp.predict(X_test)\n",
    "}\n",
    "\n",
    "# Plot confusion matrices\n",
    "fig, axes = plt.subplots(2, 2, figsize=(12, 10))\n",
    "axes = axes.flatten()\n",
    "\n",
    "for ax, (model_name, preds) in zip(axes, model_preds.items()):\n",
    "    ConfusionMatrixDisplay.from_predictions(y_test, preds, ax=ax, colorbar=False)\n",
    "    ax.set_title(model_name)\n",
    "\n",
    "plt.suptitle(\"Confusion Matrices – Fallback Models\", fontsize=16)\n",
    "plt.tight_layout()\n",
    "plt.show()\n"
   ]
  },
  {
   "cell_type": "markdown",
   "id": "402f864c",
   "metadata": {
    "execution": {
     "iopub.execute_input": "2025-06-23T10:58:43.380882Z",
     "iopub.status.busy": "2025-06-23T10:58:43.380601Z",
     "iopub.status.idle": "2025-06-23T10:58:43.386741Z",
     "shell.execute_reply": "2025-06-23T10:58:43.385866Z",
     "shell.execute_reply.started": "2025-06-23T10:58:43.380861Z"
    },
    "papermill": {
     "duration": 0.008521,
     "end_time": "2025-07-21T08:33:05.478871",
     "exception": false,
     "start_time": "2025-07-21T08:33:05.470350",
     "status": "completed"
    },
    "tags": []
   },
   "source": [
    "## 7. Mid Summary \n",
    "<a id=\"7-mid-summary\"></a>\n",
    "\n",
    "\n",
    "\n",
    "At this stage, we benchmarked four different classification models for churn prediction without textual feedback (fallback scenario). The models include: \n",
    "* Logistic Regression (baseline), \n",
    "* Random Forest (tuned via GridSearchCV)\n",
    "* XGBoost (tuned)\n",
    "* Neural Network (MLP, tuned)\n",
    "\n",
    "Key findings:\n",
    "Logistic Regression (default hyperparameters) performed best in terms of AUC and accuracy, outperforming more complex models.\n",
    "\n",
    "This suggests that the relationship between structured features and churn is relatively linear or easily separable.\n",
    "\n",
    "Despite tuning, ensemble models (Random Forest, XGBoost) did not surpass the logistic baseline in this setting.\n",
    "\n",
    "In the next step, we will tune Logistic Regression using regularization (C), class weights."
   ]
  },
  {
   "cell_type": "markdown",
   "id": "abf0032b",
   "metadata": {
    "papermill": {
     "duration": 0.008429,
     "end_time": "2025-07-21T08:33:05.496068",
     "exception": false,
     "start_time": "2025-07-21T08:33:05.487639",
     "status": "completed"
    },
    "tags": []
   },
   "source": [
    "## 8. Logistic Regression Tuning (GridSearchCV)\n",
    "<a id=\"8-logistic-regression-tuning-gridsearchcv\"></a>\n"
   ]
  },
  {
   "cell_type": "code",
   "execution_count": 13,
   "id": "1275f625",
   "metadata": {
    "execution": {
     "iopub.execute_input": "2025-07-21T08:33:05.515194Z",
     "iopub.status.busy": "2025-07-21T08:33:05.514475Z",
     "iopub.status.idle": "2025-07-21T08:33:05.519337Z",
     "shell.execute_reply": "2025-07-21T08:33:05.518358Z"
    },
    "papermill": {
     "duration": 0.01619,
     "end_time": "2025-07-21T08:33:05.520980",
     "exception": false,
     "start_time": "2025-07-21T08:33:05.504790",
     "status": "completed"
    },
    "tags": []
   },
   "outputs": [],
   "source": [
    "logreg_grid = {\n",
    "    \"classifier__C\": [0.01, 0.1, 1.0, 10.0],\n",
    "    \"classifier__class_weight\": [None, \"balanced\"],\n",
    "    \"classifier__penalty\": [\"l2\"],  # keep it simple\n",
    "    \"classifier__solver\": [\"lbfgs\"]\n",
    "}\n"
   ]
  },
  {
   "cell_type": "code",
   "execution_count": 14,
   "id": "ca573067",
   "metadata": {
    "execution": {
     "iopub.execute_input": "2025-07-21T08:33:05.540162Z",
     "iopub.status.busy": "2025-07-21T08:33:05.539436Z",
     "iopub.status.idle": "2025-07-21T08:33:06.109473Z",
     "shell.execute_reply": "2025-07-21T08:33:06.108657Z"
    },
    "papermill": {
     "duration": 0.581985,
     "end_time": "2025-07-21T08:33:06.111810",
     "exception": false,
     "start_time": "2025-07-21T08:33:05.529825",
     "status": "completed"
    },
    "tags": []
   },
   "outputs": [
    {
     "data": {
      "text/html": [
       "<style>#sk-container-id-1 {color: black;background-color: white;}#sk-container-id-1 pre{padding: 0;}#sk-container-id-1 div.sk-toggleable {background-color: white;}#sk-container-id-1 label.sk-toggleable__label {cursor: pointer;display: block;width: 100%;margin-bottom: 0;padding: 0.3em;box-sizing: border-box;text-align: center;}#sk-container-id-1 label.sk-toggleable__label-arrow:before {content: \"▸\";float: left;margin-right: 0.25em;color: #696969;}#sk-container-id-1 label.sk-toggleable__label-arrow:hover:before {color: black;}#sk-container-id-1 div.sk-estimator:hover label.sk-toggleable__label-arrow:before {color: black;}#sk-container-id-1 div.sk-toggleable__content {max-height: 0;max-width: 0;overflow: hidden;text-align: left;background-color: #f0f8ff;}#sk-container-id-1 div.sk-toggleable__content pre {margin: 0.2em;color: black;border-radius: 0.25em;background-color: #f0f8ff;}#sk-container-id-1 input.sk-toggleable__control:checked~div.sk-toggleable__content {max-height: 200px;max-width: 100%;overflow: auto;}#sk-container-id-1 input.sk-toggleable__control:checked~label.sk-toggleable__label-arrow:before {content: \"▾\";}#sk-container-id-1 div.sk-estimator input.sk-toggleable__control:checked~label.sk-toggleable__label {background-color: #d4ebff;}#sk-container-id-1 div.sk-label input.sk-toggleable__control:checked~label.sk-toggleable__label {background-color: #d4ebff;}#sk-container-id-1 input.sk-hidden--visually {border: 0;clip: rect(1px 1px 1px 1px);clip: rect(1px, 1px, 1px, 1px);height: 1px;margin: -1px;overflow: hidden;padding: 0;position: absolute;width: 1px;}#sk-container-id-1 div.sk-estimator {font-family: monospace;background-color: #f0f8ff;border: 1px dotted black;border-radius: 0.25em;box-sizing: border-box;margin-bottom: 0.5em;}#sk-container-id-1 div.sk-estimator:hover {background-color: #d4ebff;}#sk-container-id-1 div.sk-parallel-item::after {content: \"\";width: 100%;border-bottom: 1px solid gray;flex-grow: 1;}#sk-container-id-1 div.sk-label:hover label.sk-toggleable__label {background-color: #d4ebff;}#sk-container-id-1 div.sk-serial::before {content: \"\";position: absolute;border-left: 1px solid gray;box-sizing: border-box;top: 0;bottom: 0;left: 50%;z-index: 0;}#sk-container-id-1 div.sk-serial {display: flex;flex-direction: column;align-items: center;background-color: white;padding-right: 0.2em;padding-left: 0.2em;position: relative;}#sk-container-id-1 div.sk-item {position: relative;z-index: 1;}#sk-container-id-1 div.sk-parallel {display: flex;align-items: stretch;justify-content: center;background-color: white;position: relative;}#sk-container-id-1 div.sk-item::before, #sk-container-id-1 div.sk-parallel-item::before {content: \"\";position: absolute;border-left: 1px solid gray;box-sizing: border-box;top: 0;bottom: 0;left: 50%;z-index: -1;}#sk-container-id-1 div.sk-parallel-item {display: flex;flex-direction: column;z-index: 1;position: relative;background-color: white;}#sk-container-id-1 div.sk-parallel-item:first-child::after {align-self: flex-end;width: 50%;}#sk-container-id-1 div.sk-parallel-item:last-child::after {align-self: flex-start;width: 50%;}#sk-container-id-1 div.sk-parallel-item:only-child::after {width: 0;}#sk-container-id-1 div.sk-dashed-wrapped {border: 1px dashed gray;margin: 0 0.4em 0.5em 0.4em;box-sizing: border-box;padding-bottom: 0.4em;background-color: white;}#sk-container-id-1 div.sk-label label {font-family: monospace;font-weight: bold;display: inline-block;line-height: 1.2em;}#sk-container-id-1 div.sk-label-container {text-align: center;}#sk-container-id-1 div.sk-container {/* jupyter's `normalize.less` sets `[hidden] { display: none; }` but bootstrap.min.css set `[hidden] { display: none !important; }` so we also need the `!important` here to be able to override the default hidden behavior on the sphinx rendered scikit-learn.org. See: https://github.com/scikit-learn/scikit-learn/issues/21755 */display: inline-block !important;position: relative;}#sk-container-id-1 div.sk-text-repr-fallback {display: none;}</style><div id=\"sk-container-id-1\" class=\"sk-top-container\"><div class=\"sk-text-repr-fallback\"><pre>GridSearchCV(cv=3,\n",
       "             estimator=Pipeline(steps=[(&#x27;preprocessor&#x27;,\n",
       "                                        ColumnTransformer(transformers=[(&#x27;num&#x27;,\n",
       "                                                                         StandardScaler(),\n",
       "                                                                         [&#x27;tenure&#x27;,\n",
       "                                                                          &#x27;MonthlyCharges&#x27;,\n",
       "                                                                          &#x27;TotalCharges&#x27;]),\n",
       "                                                                        (&#x27;cat&#x27;,\n",
       "                                                                         OneHotEncoder(handle_unknown=&#x27;ignore&#x27;),\n",
       "                                                                         [&#x27;Contract&#x27;,\n",
       "                                                                          &#x27;PaymentMethod&#x27;,\n",
       "                                                                          &#x27;InternetService&#x27;,\n",
       "                                                                          &#x27;Partner&#x27;,\n",
       "                                                                          &#x27;Dependents&#x27;])])),\n",
       "                                       (&#x27;classifier&#x27;,\n",
       "                                        LogisticRegression(max_iter=1000,\n",
       "                                                           random_state=42))]),\n",
       "             n_jobs=-1,\n",
       "             param_grid={&#x27;classifier__C&#x27;: [0.01, 0.1, 1.0, 10.0],\n",
       "                         &#x27;classifier__class_weight&#x27;: [None, &#x27;balanced&#x27;],\n",
       "                         &#x27;classifier__penalty&#x27;: [&#x27;l2&#x27;],\n",
       "                         &#x27;classifier__solver&#x27;: [&#x27;lbfgs&#x27;]},\n",
       "             scoring=&#x27;f1&#x27;)</pre><b>In a Jupyter environment, please rerun this cell to show the HTML representation or trust the notebook. <br />On GitHub, the HTML representation is unable to render, please try loading this page with nbviewer.org.</b></div><div class=\"sk-container\" hidden><div class=\"sk-item sk-dashed-wrapped\"><div class=\"sk-label-container\"><div class=\"sk-label sk-toggleable\"><input class=\"sk-toggleable__control sk-hidden--visually\" id=\"sk-estimator-id-1\" type=\"checkbox\" ><label for=\"sk-estimator-id-1\" class=\"sk-toggleable__label sk-toggleable__label-arrow\">GridSearchCV</label><div class=\"sk-toggleable__content\"><pre>GridSearchCV(cv=3,\n",
       "             estimator=Pipeline(steps=[(&#x27;preprocessor&#x27;,\n",
       "                                        ColumnTransformer(transformers=[(&#x27;num&#x27;,\n",
       "                                                                         StandardScaler(),\n",
       "                                                                         [&#x27;tenure&#x27;,\n",
       "                                                                          &#x27;MonthlyCharges&#x27;,\n",
       "                                                                          &#x27;TotalCharges&#x27;]),\n",
       "                                                                        (&#x27;cat&#x27;,\n",
       "                                                                         OneHotEncoder(handle_unknown=&#x27;ignore&#x27;),\n",
       "                                                                         [&#x27;Contract&#x27;,\n",
       "                                                                          &#x27;PaymentMethod&#x27;,\n",
       "                                                                          &#x27;InternetService&#x27;,\n",
       "                                                                          &#x27;Partner&#x27;,\n",
       "                                                                          &#x27;Dependents&#x27;])])),\n",
       "                                       (&#x27;classifier&#x27;,\n",
       "                                        LogisticRegression(max_iter=1000,\n",
       "                                                           random_state=42))]),\n",
       "             n_jobs=-1,\n",
       "             param_grid={&#x27;classifier__C&#x27;: [0.01, 0.1, 1.0, 10.0],\n",
       "                         &#x27;classifier__class_weight&#x27;: [None, &#x27;balanced&#x27;],\n",
       "                         &#x27;classifier__penalty&#x27;: [&#x27;l2&#x27;],\n",
       "                         &#x27;classifier__solver&#x27;: [&#x27;lbfgs&#x27;]},\n",
       "             scoring=&#x27;f1&#x27;)</pre></div></div></div><div class=\"sk-parallel\"><div class=\"sk-parallel-item\"><div class=\"sk-item\"><div class=\"sk-label-container\"><div class=\"sk-label sk-toggleable\"><input class=\"sk-toggleable__control sk-hidden--visually\" id=\"sk-estimator-id-2\" type=\"checkbox\" ><label for=\"sk-estimator-id-2\" class=\"sk-toggleable__label sk-toggleable__label-arrow\">estimator: Pipeline</label><div class=\"sk-toggleable__content\"><pre>Pipeline(steps=[(&#x27;preprocessor&#x27;,\n",
       "                 ColumnTransformer(transformers=[(&#x27;num&#x27;, StandardScaler(),\n",
       "                                                  [&#x27;tenure&#x27;, &#x27;MonthlyCharges&#x27;,\n",
       "                                                   &#x27;TotalCharges&#x27;]),\n",
       "                                                 (&#x27;cat&#x27;,\n",
       "                                                  OneHotEncoder(handle_unknown=&#x27;ignore&#x27;),\n",
       "                                                  [&#x27;Contract&#x27;, &#x27;PaymentMethod&#x27;,\n",
       "                                                   &#x27;InternetService&#x27;, &#x27;Partner&#x27;,\n",
       "                                                   &#x27;Dependents&#x27;])])),\n",
       "                (&#x27;classifier&#x27;,\n",
       "                 LogisticRegression(max_iter=1000, random_state=42))])</pre></div></div></div><div class=\"sk-serial\"><div class=\"sk-item\"><div class=\"sk-serial\"><div class=\"sk-item sk-dashed-wrapped\"><div class=\"sk-label-container\"><div class=\"sk-label sk-toggleable\"><input class=\"sk-toggleable__control sk-hidden--visually\" id=\"sk-estimator-id-3\" type=\"checkbox\" ><label for=\"sk-estimator-id-3\" class=\"sk-toggleable__label sk-toggleable__label-arrow\">preprocessor: ColumnTransformer</label><div class=\"sk-toggleable__content\"><pre>ColumnTransformer(transformers=[(&#x27;num&#x27;, StandardScaler(),\n",
       "                                 [&#x27;tenure&#x27;, &#x27;MonthlyCharges&#x27;, &#x27;TotalCharges&#x27;]),\n",
       "                                (&#x27;cat&#x27;, OneHotEncoder(handle_unknown=&#x27;ignore&#x27;),\n",
       "                                 [&#x27;Contract&#x27;, &#x27;PaymentMethod&#x27;,\n",
       "                                  &#x27;InternetService&#x27;, &#x27;Partner&#x27;,\n",
       "                                  &#x27;Dependents&#x27;])])</pre></div></div></div><div class=\"sk-parallel\"><div class=\"sk-parallel-item\"><div class=\"sk-item\"><div class=\"sk-label-container\"><div class=\"sk-label sk-toggleable\"><input class=\"sk-toggleable__control sk-hidden--visually\" id=\"sk-estimator-id-4\" type=\"checkbox\" ><label for=\"sk-estimator-id-4\" class=\"sk-toggleable__label sk-toggleable__label-arrow\">num</label><div class=\"sk-toggleable__content\"><pre>[&#x27;tenure&#x27;, &#x27;MonthlyCharges&#x27;, &#x27;TotalCharges&#x27;]</pre></div></div></div><div class=\"sk-serial\"><div class=\"sk-item\"><div class=\"sk-estimator sk-toggleable\"><input class=\"sk-toggleable__control sk-hidden--visually\" id=\"sk-estimator-id-5\" type=\"checkbox\" ><label for=\"sk-estimator-id-5\" class=\"sk-toggleable__label sk-toggleable__label-arrow\">StandardScaler</label><div class=\"sk-toggleable__content\"><pre>StandardScaler()</pre></div></div></div></div></div></div><div class=\"sk-parallel-item\"><div class=\"sk-item\"><div class=\"sk-label-container\"><div class=\"sk-label sk-toggleable\"><input class=\"sk-toggleable__control sk-hidden--visually\" id=\"sk-estimator-id-6\" type=\"checkbox\" ><label for=\"sk-estimator-id-6\" class=\"sk-toggleable__label sk-toggleable__label-arrow\">cat</label><div class=\"sk-toggleable__content\"><pre>[&#x27;Contract&#x27;, &#x27;PaymentMethod&#x27;, &#x27;InternetService&#x27;, &#x27;Partner&#x27;, &#x27;Dependents&#x27;]</pre></div></div></div><div class=\"sk-serial\"><div class=\"sk-item\"><div class=\"sk-estimator sk-toggleable\"><input class=\"sk-toggleable__control sk-hidden--visually\" id=\"sk-estimator-id-7\" type=\"checkbox\" ><label for=\"sk-estimator-id-7\" class=\"sk-toggleable__label sk-toggleable__label-arrow\">OneHotEncoder</label><div class=\"sk-toggleable__content\"><pre>OneHotEncoder(handle_unknown=&#x27;ignore&#x27;)</pre></div></div></div></div></div></div></div></div><div class=\"sk-item\"><div class=\"sk-estimator sk-toggleable\"><input class=\"sk-toggleable__control sk-hidden--visually\" id=\"sk-estimator-id-8\" type=\"checkbox\" ><label for=\"sk-estimator-id-8\" class=\"sk-toggleable__label sk-toggleable__label-arrow\">LogisticRegression</label><div class=\"sk-toggleable__content\"><pre>LogisticRegression(max_iter=1000, random_state=42)</pre></div></div></div></div></div></div></div></div></div></div></div></div>"
      ],
      "text/plain": [
       "GridSearchCV(cv=3,\n",
       "             estimator=Pipeline(steps=[('preprocessor',\n",
       "                                        ColumnTransformer(transformers=[('num',\n",
       "                                                                         StandardScaler(),\n",
       "                                                                         ['tenure',\n",
       "                                                                          'MonthlyCharges',\n",
       "                                                                          'TotalCharges']),\n",
       "                                                                        ('cat',\n",
       "                                                                         OneHotEncoder(handle_unknown='ignore'),\n",
       "                                                                         ['Contract',\n",
       "                                                                          'PaymentMethod',\n",
       "                                                                          'InternetService',\n",
       "                                                                          'Partner',\n",
       "                                                                          'Dependents'])])),\n",
       "                                       ('classifier',\n",
       "                                        LogisticRegression(max_iter=1000,\n",
       "                                                           random_state=42))]),\n",
       "             n_jobs=-1,\n",
       "             param_grid={'classifier__C': [0.01, 0.1, 1.0, 10.0],\n",
       "                         'classifier__class_weight': [None, 'balanced'],\n",
       "                         'classifier__penalty': ['l2'],\n",
       "                         'classifier__solver': ['lbfgs']},\n",
       "             scoring='f1')"
      ]
     },
     "execution_count": 14,
     "metadata": {},
     "output_type": "execute_result"
    }
   ],
   "source": [
    "pipe_logreg = Pipeline([\n",
    "    (\"preprocessor\", preprocessor),\n",
    "    (\"classifier\", LogisticRegression(max_iter=1000, random_state=42))\n",
    "])\n",
    "\n",
    "logreg_search = GridSearchCV(\n",
    "    pipe_logreg,\n",
    "    param_grid=logreg_grid,\n",
    "    scoring=\"f1\",\n",
    "    cv=3,\n",
    "    n_jobs=-1\n",
    ")\n",
    "\n",
    "logreg_search.fit(X_train, y_train)"
   ]
  },
  {
   "cell_type": "code",
   "execution_count": 15,
   "id": "6c5cdea8",
   "metadata": {
    "execution": {
     "iopub.execute_input": "2025-07-21T08:33:06.143588Z",
     "iopub.status.busy": "2025-07-21T08:33:06.143224Z",
     "iopub.status.idle": "2025-07-21T08:33:06.190032Z",
     "shell.execute_reply": "2025-07-21T08:33:06.189104Z"
    },
    "papermill": {
     "duration": 0.064568,
     "end_time": "2025-07-21T08:33:06.191500",
     "exception": false,
     "start_time": "2025-07-21T08:33:06.126932",
     "status": "completed"
    },
    "tags": []
   },
   "outputs": [
    {
     "name": "stdout",
     "output_type": "stream",
     "text": [
      "Best Logistic Regression config: {'classifier__C': 0.01, 'classifier__class_weight': 'balanced', 'classifier__penalty': 'l2', 'classifier__solver': 'lbfgs'}\n",
      "ROC AUC: 0.839\n",
      "Classification Report:\n"
     ]
    },
    {
     "data": {
      "text/html": [
       "<div>\n",
       "<style scoped>\n",
       "    .dataframe tbody tr th:only-of-type {\n",
       "        vertical-align: middle;\n",
       "    }\n",
       "\n",
       "    .dataframe tbody tr th {\n",
       "        vertical-align: top;\n",
       "    }\n",
       "\n",
       "    .dataframe thead th {\n",
       "        text-align: right;\n",
       "    }\n",
       "</style>\n",
       "<table border=\"1\" class=\"dataframe\">\n",
       "  <thead>\n",
       "    <tr style=\"text-align: right;\">\n",
       "      <th></th>\n",
       "      <th>precision</th>\n",
       "      <th>recall</th>\n",
       "      <th>f1-score</th>\n",
       "      <th>support</th>\n",
       "    </tr>\n",
       "  </thead>\n",
       "  <tbody>\n",
       "    <tr>\n",
       "      <th>0</th>\n",
       "      <td>0.909458</td>\n",
       "      <td>0.726275</td>\n",
       "      <td>0.807609</td>\n",
       "      <td>1549.000000</td>\n",
       "    </tr>\n",
       "    <tr>\n",
       "      <th>1</th>\n",
       "      <td>0.514318</td>\n",
       "      <td>0.800357</td>\n",
       "      <td>0.626220</td>\n",
       "      <td>561.000000</td>\n",
       "    </tr>\n",
       "    <tr>\n",
       "      <th>accuracy</th>\n",
       "      <td>0.745972</td>\n",
       "      <td>0.745972</td>\n",
       "      <td>0.745972</td>\n",
       "      <td>0.745972</td>\n",
       "    </tr>\n",
       "    <tr>\n",
       "      <th>macro avg</th>\n",
       "      <td>0.711888</td>\n",
       "      <td>0.763316</td>\n",
       "      <td>0.716915</td>\n",
       "      <td>2110.000000</td>\n",
       "    </tr>\n",
       "    <tr>\n",
       "      <th>weighted avg</th>\n",
       "      <td>0.804400</td>\n",
       "      <td>0.745972</td>\n",
       "      <td>0.759382</td>\n",
       "      <td>2110.000000</td>\n",
       "    </tr>\n",
       "  </tbody>\n",
       "</table>\n",
       "</div>"
      ],
      "text/plain": [
       "              precision    recall  f1-score      support\n",
       "0              0.909458  0.726275  0.807609  1549.000000\n",
       "1              0.514318  0.800357  0.626220   561.000000\n",
       "accuracy       0.745972  0.745972  0.745972     0.745972\n",
       "macro avg      0.711888  0.763316  0.716915  2110.000000\n",
       "weighted avg   0.804400  0.745972  0.759382  2110.000000"
      ]
     },
     "metadata": {},
     "output_type": "display_data"
    }
   ],
   "source": [
    "best_logreg = logreg_search.best_estimator_\n",
    "y_pred_best_logreg = best_logreg.predict(X_test)\n",
    "y_prob_best_logreg = best_logreg.predict_proba(X_test)[:, 1]\n",
    "\n",
    "from sklearn.metrics import classification_report, roc_auc_score\n",
    "\n",
    "report_logreg = classification_report(y_test, y_pred_best_logreg, output_dict=True)\n",
    "auc_logreg = roc_auc_score(y_test, y_prob_best_logreg)\n",
    "\n",
    "print(\"Best Logistic Regression config:\", logreg_search.best_params_)\n",
    "print(\"ROC AUC:\", round(auc_logreg, 3))\n",
    "print(\"Classification Report:\")\n",
    "display(pd.DataFrame(report_logreg).T)\n"
   ]
  },
  {
   "cell_type": "markdown",
   "id": "e9372006",
   "metadata": {
    "papermill": {
     "duration": 0.009086,
     "end_time": "2025-07-21T08:33:06.210279",
     "exception": false,
     "start_time": "2025-07-21T08:33:06.201193",
     "status": "completed"
    },
    "tags": []
   },
   "source": [
    "## 9. Summary\n",
    "<a id=\"9-summary\"></a>\n",
    "\n",
    "At this stage, we benchmarked four different classification models for churn prediction without customer feedback. Surprisingly, the **default Logistic Regression model** outperformed all other models, including those fine-tuned via GridSearch (Random Forest, XGBoost, Neural Net).\n",
    "\n",
    "\n",
    "- The tuned model achieved better recall — making it preferable in use cases where missing a churn case is more costly than generating false alarms.\n",
    "- However, the overall ROC AUC slightly decreased, meaning the default model offers a better overall balance. <br>\n",
    "Logistic Regression remains the best fallback candidate — and will be used in the next phase of this project.\n"
   ]
  },
  {
   "cell_type": "markdown",
   "id": "6077c0f4",
   "metadata": {
    "papermill": {
     "duration": 0.009208,
     "end_time": "2025-07-21T08:33:06.228774",
     "exception": false,
     "start_time": "2025-07-21T08:33:06.219566",
     "status": "completed"
    },
    "tags": []
   },
   "source": [
    "## 📁 Notebook Series Overview: **Telco Churn & GPT Feedback**\n",
    "<a id=\"notebook-series-overview-telco-churn--gpt-feedback\"></a>\n",
    "\n",
    "This is part of a multi-notebook series focused on **realistic churn prediction** using structured data and GPT-generated customer feedback.  \n",
    "We simulate real-world challenges such as missing text, noisy input, and model fallback logic — building toward a robust, production-style solution.\n",
    "\n",
    "---\n",
    "\n",
    "###  1. Exploring Customer Churn & GPT-generated Feedback\n",
    "\n",
    "> Exploratory analysis of the churn dataset, with focus on customer segments, behavior patterns, and text feedback characteristics.  \n",
    "> Text insights powered by GPT-generated responses.\n",
    "\n",
    "---\n",
    "\n",
    "###  2. Feedback Noise Simulation & Fallback Testing\n",
    "\n",
    "> We simulate feedback imperfections (irrelevant, incomplete, or missing entries) and measure how models perform under noise.  \n",
    "> Introduces the concept of fallback systems for low-signal situations.\n",
    "\n",
    "---\n",
    "\n",
    "### 3. Fallback Model – Logistic vs XGB vs RF vs NN\n",
    "\n",
    "> We train and compare multiple classifiers on **structured-only data** (no feedback):  \n",
    "> Logistic Regression, Random Forest, XGBoost, and Neural Net.  \n",
    "> Best fallback model is selected based on ROC AUC and recall.\n",
    "\n",
    "---\n",
    "\n",
    "###  4. Model with Feedback – Logistic vs XGB vs NN\n",
    "\n",
    "> We focus on customers who left written feedback.  \n",
    "> Structured data is combined with TF-IDF vectors to train a stronger “teacher” model.  \n",
    "> Logistic Regression emerges as the most interpretable and best-performing solution.\n",
    "\n",
    "---\n",
    "\n",
    "### 5. Prediction using Synthetic Feedback Knowledge\n",
    "\n",
    "> Even when customers don’t leave feedback, we simulate its predictive signal using the trained teacher model.  \n",
    "> We generate a `synthetic_text_score` and evaluate whether it helps fallback performance.\n"
   ]
  }
 ],
 "metadata": {
  "kaggle": {
   "accelerator": "none",
   "dataSources": [
    {
     "datasetId": 13996,
     "sourceId": 18858,
     "sourceType": "datasetVersion"
    },
    {
     "datasetId": 4968559,
     "sourceId": 8360350,
     "sourceType": "datasetVersion"
    },
    {
     "datasetId": 5855544,
     "sourceId": 9598780,
     "sourceType": "datasetVersion"
    },
    {
     "datasetId": 7630515,
     "sourceId": 12257490,
     "sourceType": "datasetVersion"
    }
   ],
   "dockerImageVersionId": 31041,
   "isGpuEnabled": false,
   "isInternetEnabled": true,
   "language": "python",
   "sourceType": "notebook"
  },
  "kernelspec": {
   "display_name": "Python 3",
   "language": "python",
   "name": "python3"
  },
  "language_info": {
   "codemirror_mode": {
    "name": "ipython",
    "version": 3
   },
   "file_extension": ".py",
   "mimetype": "text/x-python",
   "name": "python",
   "nbconvert_exporter": "python",
   "pygments_lexer": "ipython3",
   "version": "3.11.11"
  },
  "papermill": {
   "default_parameters": {},
   "duration": 49.524043,
   "end_time": "2025-07-21T08:33:08.859157",
   "environment_variables": {},
   "exception": null,
   "input_path": "__notebook__.ipynb",
   "output_path": "__notebook__.ipynb",
   "parameters": {},
   "start_time": "2025-07-21T08:32:19.335114",
   "version": "2.6.0"
  }
 },
 "nbformat": 4,
 "nbformat_minor": 5
}
