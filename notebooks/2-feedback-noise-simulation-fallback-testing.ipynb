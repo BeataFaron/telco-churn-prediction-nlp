{
 "cells": [
  {
   "cell_type": "markdown",
   "id": "d4ae63d4",
   "metadata": {
    "_cell_guid": "b1076dfc-b9ad-4769-8c92-a6c4dae69d19",
    "_uuid": "8f2839f25d086af736a60e9eeb907d3b93b6e0e5",
    "papermill": {
     "duration": 0.005334,
     "end_time": "2025-07-21T08:30:26.116902",
     "exception": false,
     "start_time": "2025-07-21T08:30:26.111568",
     "status": "completed"
    },
    "tags": []
   },
   "source": [
    "#  Feedback Noise Simulation & Fallback Testing\n",
    "In this notebook, we simulate a more realistic customer churn scenario by introducing noise into the customer feedback field. In real life, feedback is often missing, vague, or written in a confusing way — yet companies still need to make churn predictions.\n",
    "We test how well our fallback system (text model + base model) performs when faced with noisy or misleading feedback, and analyze the impact on prediction accuracy.\n",
    "\n",
    "**Goal**: Stress-test model robustness and show how hybrid models handle messy real-world data."
   ]
  },
  {
   "cell_type": "markdown",
   "id": "eae25f3d",
   "metadata": {
    "papermill": {
     "duration": 0.004576,
     "end_time": "2025-07-21T08:30:26.125989",
     "exception": false,
     "start_time": "2025-07-21T08:30:26.121413",
     "status": "completed"
    },
    "tags": []
   },
   "source": [
    "### Project Structure:\n",
    "\n",
    "1. **Exploring Customer Churn & GPT-generated Feedback**  \n",
    "   → Data exploration & text insights\n",
    "\n",
    "2. **Feedback Noise Simulation & Fallback Testing**  \n",
    "   → Simulate real-world feedback imperfections\n",
    "\n",
    "3. **Fallback Model – Logistic vs XGB vs RF vs NN**  \n",
    "   → Structured-only models, compared & evaluated\n",
    "\n",
    "4. **Model with Feedback – Logistic vs XGB vs NN**  \n",
    "   → Hybrid modeling using structured + textual data\n",
    "\n",
    "5. **Prediction using Synthetic Feedback Knowledge**  \n",
    "   → Transfer feedback model knowledge to fallback model\n",
    "\n"
   ]
  },
  {
   "cell_type": "markdown",
   "id": "3b7fba65",
   "metadata": {
    "papermill": {
     "duration": 0.00395,
     "end_time": "2025-07-21T08:30:26.134157",
     "exception": false,
     "start_time": "2025-07-21T08:30:26.130207",
     "status": "completed"
    },
    "tags": []
   },
   "source": [
    "\n",
    "\n",
    "\n",
    "### 📚 Table of Contents\n",
    "\n",
    "1. [Imports & configuration](#setup--configuration)\n",
    "2. [Loading data](#loading-data)\n",
    "3. [Feedback noise simulation](#feedback-noise)\n",
    "4. [Evaluation: Clean vs Noisy Feedback](#evaluation-clean-vs-noisy-feedback)\n",
    "5. [Visual Summary & Conclusion](#visual-summary--conclusion)\n"
   ]
  },
  {
   "cell_type": "markdown",
   "id": "a836c53e",
   "metadata": {
    "papermill": {
     "duration": 0.003908,
     "end_time": "2025-07-21T08:30:26.142240",
     "exception": false,
     "start_time": "2025-07-21T08:30:26.138332",
     "status": "completed"
    },
    "tags": []
   },
   "source": [
    "## 1. Imports & configuration\n",
    "<a id=\"setup--configuration\"></a>"
   ]
  },
  {
   "cell_type": "code",
   "execution_count": 1,
   "id": "14f9d035",
   "metadata": {
    "execution": {
     "iopub.execute_input": "2025-07-21T08:30:26.151945Z",
     "iopub.status.busy": "2025-07-21T08:30:26.151658Z",
     "iopub.status.idle": "2025-07-21T08:30:26.175291Z",
     "shell.execute_reply": "2025-07-21T08:30:26.174324Z"
    },
    "papermill": {
     "duration": 0.030937,
     "end_time": "2025-07-21T08:30:26.177277",
     "exception": false,
     "start_time": "2025-07-21T08:30:26.146340",
     "status": "completed"
    },
    "tags": []
   },
   "outputs": [
    {
     "name": "stdout",
     "output_type": "stream",
     "text": [
      "/kaggle/input/d/abdallahwagih/telco-customer-churn/Telco_customer_churn.xlsx\n",
      "/kaggle/input/telco-customer-churn-11-1-3/telco.csv\n",
      "/kaggle/input/telco-customer-churn-realistic-customer-feedback/model_with_feedback.pkl\n",
      "/kaggle/input/telco-customer-churn-realistic-customer-feedback/telco_noisy_feedback_prep.csv\n",
      "/kaggle/input/telco-customer-churn-realistic-customer-feedback/telco_prep.csv\n",
      "/kaggle/input/telco-customer-churn-realistic-customer-feedback/telco_churn_with_all_feedback.csv\n",
      "/kaggle/input/telco-customer-churn/WA_Fn-UseC_-Telco-Customer-Churn.csv\n"
     ]
    }
   ],
   "source": [
    "import os\n",
    "for dirname, _, filenames in os.walk('/kaggle/input'):\n",
    "    for filename in filenames:\n",
    "        print(os.path.join(dirname, filename))\n"
   ]
  },
  {
   "cell_type": "code",
   "execution_count": 2,
   "id": "53b77a55",
   "metadata": {
    "execution": {
     "iopub.execute_input": "2025-07-21T08:30:26.187417Z",
     "iopub.status.busy": "2025-07-21T08:30:26.187157Z",
     "iopub.status.idle": "2025-07-21T08:30:26.191338Z",
     "shell.execute_reply": "2025-07-21T08:30:26.190489Z"
    },
    "papermill": {
     "duration": 0.010804,
     "end_time": "2025-07-21T08:30:26.192718",
     "exception": false,
     "start_time": "2025-07-21T08:30:26.181914",
     "status": "completed"
    },
    "tags": []
   },
   "outputs": [],
   "source": [
    "import warnings\n",
    "warnings.filterwarnings(\"ignore\")"
   ]
  },
  {
   "cell_type": "code",
   "execution_count": 3,
   "id": "1b991246",
   "metadata": {
    "execution": {
     "iopub.execute_input": "2025-07-21T08:30:26.202675Z",
     "iopub.status.busy": "2025-07-21T08:30:26.202411Z",
     "iopub.status.idle": "2025-07-21T08:30:31.512123Z",
     "shell.execute_reply": "2025-07-21T08:30:31.511250Z"
    },
    "papermill": {
     "duration": 5.31632,
     "end_time": "2025-07-21T08:30:31.513613",
     "exception": false,
     "start_time": "2025-07-21T08:30:26.197293",
     "status": "completed"
    },
    "tags": []
   },
   "outputs": [],
   "source": [
    "import pandas as pd\n",
    "import numpy as np\n",
    "import matplotlib.pyplot as plt\n",
    "import seaborn as sns\n",
    "import random\n",
    "from textblob import TextBlob\n",
    "import seaborn as sns\n",
    "import matplotlib.pyplot as plt\n",
    "\n",
    "from sklearn.pipeline import Pipeline\n",
    "from sklearn.compose import ColumnTransformer\n",
    "from sklearn.linear_model import LogisticRegression\n",
    "from sklearn.preprocessing import StandardScaler, OneHotEncoder\n",
    "from sklearn.feature_extraction.text import TfidfVectorizer\n",
    "from sklearn.metrics import classification_report, roc_auc_score, roc_curve, RocCurveDisplay\n",
    "\n",
    "sns.set(style='whitegrid')\n",
    "plt.rcParams[\"figure.figsize\"] = (12, 6)"
   ]
  },
  {
   "cell_type": "markdown",
   "id": "d01784fe",
   "metadata": {
    "papermill": {
     "duration": 0.004449,
     "end_time": "2025-07-21T08:30:31.523191",
     "exception": false,
     "start_time": "2025-07-21T08:30:31.518742",
     "status": "completed"
    },
    "tags": []
   },
   "source": [
    "## 2. Loading data\n",
    "<a id=\"loading-data\"></a>\n"
   ]
  },
  {
   "cell_type": "code",
   "execution_count": 4,
   "id": "4df42608",
   "metadata": {
    "execution": {
     "iopub.execute_input": "2025-07-21T08:30:31.533994Z",
     "iopub.status.busy": "2025-07-21T08:30:31.533563Z",
     "iopub.status.idle": "2025-07-21T08:30:31.752131Z",
     "shell.execute_reply": "2025-07-21T08:30:31.751225Z"
    },
    "papermill": {
     "duration": 0.225672,
     "end_time": "2025-07-21T08:30:31.753696",
     "exception": false,
     "start_time": "2025-07-21T08:30:31.528024",
     "status": "completed"
    },
    "tags": []
   },
   "outputs": [
    {
     "data": {
      "text/plain": [
       "(7032, 26)"
      ]
     },
     "execution_count": 4,
     "metadata": {},
     "output_type": "execute_result"
    }
   ],
   "source": [
    "df = pd.read_csv(\"/kaggle/input/telco-customer-churn-realistic-customer-feedback/telco_prep.csv\")\n",
    "df.shape"
   ]
  },
  {
   "cell_type": "code",
   "execution_count": 5,
   "id": "8b8699a6",
   "metadata": {
    "execution": {
     "iopub.execute_input": "2025-07-21T08:30:31.764063Z",
     "iopub.status.busy": "2025-07-21T08:30:31.763729Z",
     "iopub.status.idle": "2025-07-21T08:30:31.770657Z",
     "shell.execute_reply": "2025-07-21T08:30:31.769924Z"
    },
    "papermill": {
     "duration": 0.013556,
     "end_time": "2025-07-21T08:30:31.771995",
     "exception": false,
     "start_time": "2025-07-21T08:30:31.758439",
     "status": "completed"
    },
    "tags": []
   },
   "outputs": [
    {
     "data": {
      "text/plain": [
       "Index(['Unnamed: 0', 'customerID', 'gender', 'SeniorCitizen', 'Partner',\n",
       "       'Dependents', 'tenure', 'PhoneService', 'MultipleLines',\n",
       "       'InternetService', 'OnlineSecurity', 'OnlineBackup', 'DeviceProtection',\n",
       "       'TechSupport', 'StreamingTV', 'StreamingMovies', 'Contract',\n",
       "       'PaperlessBilling', 'PaymentMethod', 'MonthlyCharges', 'TotalCharges',\n",
       "       'Churn', 'PromptInput', 'CustomerFeedback', 'feedback_length',\n",
       "       'sentiment'],\n",
       "      dtype='object')"
      ]
     },
     "execution_count": 5,
     "metadata": {},
     "output_type": "execute_result"
    }
   ],
   "source": [
    "df.columns\n"
   ]
  },
  {
   "cell_type": "markdown",
   "id": "a0ed8a1b",
   "metadata": {
    "papermill": {
     "duration": 0.00445,
     "end_time": "2025-07-21T08:30:31.781119",
     "exception": false,
     "start_time": "2025-07-21T08:30:31.776669",
     "status": "completed"
    },
    "tags": []
   },
   "source": [
    "## 3. Feedback noise simulation\n",
    "<a id=\"feedback-noise\"></a>"
   ]
  },
  {
   "cell_type": "code",
   "execution_count": 6,
   "id": "17aa034a",
   "metadata": {
    "execution": {
     "iopub.execute_input": "2025-07-21T08:30:31.791145Z",
     "iopub.status.busy": "2025-07-21T08:30:31.790794Z",
     "iopub.status.idle": "2025-07-21T08:30:31.816550Z",
     "shell.execute_reply": "2025-07-21T08:30:31.815670Z"
    },
    "papermill": {
     "duration": 0.032354,
     "end_time": "2025-07-21T08:30:31.817902",
     "exception": false,
     "start_time": "2025-07-21T08:30:31.785548",
     "status": "completed"
    },
    "tags": []
   },
   "outputs": [
    {
     "data": {
      "text/plain": [
       "count    7032.000000\n",
       "mean      460.670080\n",
       "std        68.164461\n",
       "min       277.000000\n",
       "25%       414.000000\n",
       "50%       454.000000\n",
       "75%       499.000000\n",
       "max       840.000000\n",
       "Name: feedback_length, dtype: float64"
      ]
     },
     "execution_count": 6,
     "metadata": {},
     "output_type": "execute_result"
    }
   ],
   "source": [
    "df.feedback_length.describe()"
   ]
  },
  {
   "cell_type": "markdown",
   "id": "c0b6a072",
   "metadata": {
    "papermill": {
     "duration": 0.004962,
     "end_time": "2025-07-21T08:30:31.827681",
     "exception": false,
     "start_time": "2025-07-21T08:30:31.822719",
     "status": "completed"
    },
    "tags": []
   },
   "source": [
    "\n",
    "###  Simulating Truncated Feedback (Realistic Noise)\n",
    "\n",
    "Instead of injecting random noise, we simulate a more realistic case of partial feedback.  \n",
    "We assume that due to real-world conditions (UI limitations, user interruptions, data loss), the **beginning of feedback is truncated**.\n",
    "\n",
    "This simulates NLP degradation in models relying on missing context.\n"
   ]
  },
  {
   "cell_type": "code",
   "execution_count": 7,
   "id": "f419aa0a",
   "metadata": {
    "execution": {
     "iopub.execute_input": "2025-07-21T08:30:31.838025Z",
     "iopub.status.busy": "2025-07-21T08:30:31.837702Z",
     "iopub.status.idle": "2025-07-21T08:30:31.882904Z",
     "shell.execute_reply": "2025-07-21T08:30:31.882092Z"
    },
    "papermill": {
     "duration": 0.05208,
     "end_time": "2025-07-21T08:30:31.884380",
     "exception": false,
     "start_time": "2025-07-21T08:30:31.832300",
     "status": "completed"
    },
    "tags": []
   },
   "outputs": [
    {
     "name": "stdout",
     "output_type": "stream",
     "text": [
      "Feedback updated in-place: 25% retained (some truncated), rest removed.\n"
     ]
    }
   ],
   "source": [
    "# 1. Define how many rows will keep feedback (25%)\n",
    "num_with_feedback = int(len(df) * 0.25)\n",
    "feedback_indices = random.sample(range(len(df)), num_with_feedback)\n",
    "\n",
    "# 2. Mark which rows have feedback\n",
    "df['HasFeedback'] = False\n",
    "df.loc[feedback_indices, 'HasFeedback'] = True\n",
    "\n",
    "# 3. Function to truncate text (simulate noise)\n",
    "def truncate_feedback(text, min_ratio=0.3, max_ratio=0.7):\n",
    "    if not isinstance(text, str) or len(text) < 10:\n",
    "        return text\n",
    "    ratio = random.uniform(min_ratio, max_ratio)\n",
    "    cut_length = max(1, int(len(text) * ratio))\n",
    "    return text[:cut_length].strip()\n",
    "\n",
    "# 4. Apply truncation noise to 50% of feedback rows\n",
    "num_to_truncate = int(num_with_feedback * 0.5)\n",
    "truncate_indices = random.sample(feedback_indices, num_to_truncate)\n",
    "\n",
    "for idx in truncate_indices:\n",
    "    original = df.at[idx, 'CustomerFeedback']\n",
    "    df.at[idx, 'CustomerFeedback'] = truncate_feedback(original)\n",
    "\n",
    "# 5. Remove feedback from the rest\n",
    "df.loc[~df['HasFeedback'], 'CustomerFeedback'] = \"\"\n",
    "\n",
    "print(\"Feedback updated in-place: 25% retained (some truncated), rest removed.\")\n"
   ]
  },
  {
   "cell_type": "code",
   "execution_count": 8,
   "id": "1937749a",
   "metadata": {
    "execution": {
     "iopub.execute_input": "2025-07-21T08:30:31.895434Z",
     "iopub.status.busy": "2025-07-21T08:30:31.895157Z",
     "iopub.status.idle": "2025-07-21T08:30:31.908386Z",
     "shell.execute_reply": "2025-07-21T08:30:31.907535Z"
    },
    "papermill": {
     "duration": 0.020406,
     "end_time": "2025-07-21T08:30:31.909763",
     "exception": false,
     "start_time": "2025-07-21T08:30:31.889357",
     "status": "completed"
    },
    "tags": []
   },
   "outputs": [],
   "source": [
    "# Set feedback_length and sentiment to neutral/missing for rows without feedback\n",
    "df.loc[~df['HasFeedback'], 'feedback_length'] = 0\n",
    "df.loc[~df['HasFeedback'], 'sentiment'] = 0\n",
    "df = df.drop(columns=['PromptInput']) "
   ]
  },
  {
   "cell_type": "code",
   "execution_count": 9,
   "id": "b830b693",
   "metadata": {
    "execution": {
     "iopub.execute_input": "2025-07-21T08:30:31.920240Z",
     "iopub.status.busy": "2025-07-21T08:30:31.919924Z",
     "iopub.status.idle": "2025-07-21T08:30:31.971959Z",
     "shell.execute_reply": "2025-07-21T08:30:31.971228Z"
    },
    "papermill": {
     "duration": 0.058696,
     "end_time": "2025-07-21T08:30:31.973247",
     "exception": false,
     "start_time": "2025-07-21T08:30:31.914551",
     "status": "completed"
    },
    "tags": []
   },
   "outputs": [
    {
     "name": "stdout",
     "output_type": "stream",
     "text": [
      "Absolute counts:\n"
     ]
    },
    {
     "data": {
      "text/html": [
       "<div>\n",
       "<style scoped>\n",
       "    .dataframe tbody tr th:only-of-type {\n",
       "        vertical-align: middle;\n",
       "    }\n",
       "\n",
       "    .dataframe tbody tr th {\n",
       "        vertical-align: top;\n",
       "    }\n",
       "\n",
       "    .dataframe thead th {\n",
       "        text-align: right;\n",
       "    }\n",
       "</style>\n",
       "<table border=\"1\" class=\"dataframe\">\n",
       "  <thead>\n",
       "    <tr style=\"text-align: right;\">\n",
       "      <th>HasFeedback</th>\n",
       "      <th>False</th>\n",
       "      <th>True</th>\n",
       "    </tr>\n",
       "    <tr>\n",
       "      <th>Churn</th>\n",
       "      <th></th>\n",
       "      <th></th>\n",
       "    </tr>\n",
       "  </thead>\n",
       "  <tbody>\n",
       "    <tr>\n",
       "      <th>0</th>\n",
       "      <td>3861</td>\n",
       "      <td>1302</td>\n",
       "    </tr>\n",
       "    <tr>\n",
       "      <th>1</th>\n",
       "      <td>1413</td>\n",
       "      <td>456</td>\n",
       "    </tr>\n",
       "  </tbody>\n",
       "</table>\n",
       "</div>"
      ],
      "text/plain": [
       "HasFeedback  False  True \n",
       "Churn                    \n",
       "0             3861   1302\n",
       "1             1413    456"
      ]
     },
     "metadata": {},
     "output_type": "display_data"
    },
    {
     "name": "stdout",
     "output_type": "stream",
     "text": [
      "Percentages (%):\n"
     ]
    },
    {
     "data": {
      "text/html": [
       "<div>\n",
       "<style scoped>\n",
       "    .dataframe tbody tr th:only-of-type {\n",
       "        vertical-align: middle;\n",
       "    }\n",
       "\n",
       "    .dataframe tbody tr th {\n",
       "        vertical-align: top;\n",
       "    }\n",
       "\n",
       "    .dataframe thead th {\n",
       "        text-align: right;\n",
       "    }\n",
       "</style>\n",
       "<table border=\"1\" class=\"dataframe\">\n",
       "  <thead>\n",
       "    <tr style=\"text-align: right;\">\n",
       "      <th>HasFeedback</th>\n",
       "      <th>False</th>\n",
       "      <th>True</th>\n",
       "    </tr>\n",
       "    <tr>\n",
       "      <th>Churn</th>\n",
       "      <th></th>\n",
       "      <th></th>\n",
       "    </tr>\n",
       "  </thead>\n",
       "  <tbody>\n",
       "    <tr>\n",
       "      <th>0</th>\n",
       "      <td>74.8</td>\n",
       "      <td>25.2</td>\n",
       "    </tr>\n",
       "    <tr>\n",
       "      <th>1</th>\n",
       "      <td>75.6</td>\n",
       "      <td>24.4</td>\n",
       "    </tr>\n",
       "  </tbody>\n",
       "</table>\n",
       "</div>"
      ],
      "text/plain": [
       "HasFeedback  False  True \n",
       "Churn                    \n",
       "0             74.8   25.2\n",
       "1             75.6   24.4"
      ]
     },
     "metadata": {},
     "output_type": "display_data"
    }
   ],
   "source": [
    "# Absolute counts\n",
    "counts = df.groupby(\"Churn\")[\"HasFeedback\"].value_counts().unstack(fill_value=0)\n",
    "print(\"Absolute counts:\")\n",
    "display(counts)\n",
    "\n",
    "# Percentages\n",
    "percentages = df.groupby(\"Churn\")[\"HasFeedback\"].value_counts(normalize=True).unstack().round(3) * 100\n",
    "print(\"Percentages (%):\")\n",
    "display(percentages)\n"
   ]
  },
  {
   "cell_type": "code",
   "execution_count": 10,
   "id": "f6b40d1f",
   "metadata": {
    "execution": {
     "iopub.execute_input": "2025-07-21T08:30:31.984581Z",
     "iopub.status.busy": "2025-07-21T08:30:31.984327Z",
     "iopub.status.idle": "2025-07-21T08:30:32.577681Z",
     "shell.execute_reply": "2025-07-21T08:30:32.576772Z"
    },
    "papermill": {
     "duration": 0.600737,
     "end_time": "2025-07-21T08:30:32.579133",
     "exception": false,
     "start_time": "2025-07-21T08:30:31.978396",
     "status": "completed"
    },
    "tags": []
   },
   "outputs": [
    {
     "data": {
      "image/png": "[encoded data removed]",
      "text/plain": [
       "<Figure size 1000x600 with 1 Axes>"
      ]
     },
     "metadata": {},
     "output_type": "display_data"
    }
   ],
   "source": [
    "# Only rows with feedback\n",
    "df_with_feedback = df[df['HasFeedback']]\n",
    "\n",
    "# Plot with fixed colors\n",
    "plt.figure(figsize=(10, 6))\n",
    "sns.histplot(\n",
    "    data=df_with_feedback,\n",
    "    x='feedback_length',\n",
    "    hue='Churn',\n",
    "    bins=40,\n",
    "    kde=True,\n",
    "    stat=\"density\",\n",
    "    common_norm=False,\n",
    "    palette={0: \"#1f77b4\", 1: \"#ff7f0e\"}  # navy blue and orange\n",
    ")\n",
    "\n",
    "plt.title(\"Feedback length distribution by churn\")\n",
    "plt.xlabel(\"Feedback Length (characters)\")\n",
    "plt.ylabel(\"Density\")\n",
    "plt.legend(title=\"Churn\", labels=[\"No\", \"Yes\"])\n",
    "plt.grid(True)\n",
    "plt.show()\n"
   ]
  },
  {
   "cell_type": "code",
   "execution_count": 11,
   "id": "52abc39d",
   "metadata": {
    "execution": {
     "iopub.execute_input": "2025-07-21T08:30:32.593835Z",
     "iopub.status.busy": "2025-07-21T08:30:32.593542Z",
     "iopub.status.idle": "2025-07-21T08:30:32.599339Z",
     "shell.execute_reply": "2025-07-21T08:30:32.598481Z"
    },
    "papermill": {
     "duration": 0.014454,
     "end_time": "2025-07-21T08:30:32.600685",
     "exception": false,
     "start_time": "2025-07-21T08:30:32.586231",
     "status": "completed"
    },
    "tags": []
   },
   "outputs": [
    {
     "data": {
      "text/plain": [
       "Index(['Unnamed: 0', 'customerID', 'gender', 'SeniorCitizen', 'Partner',\n",
       "       'Dependents', 'tenure', 'PhoneService', 'MultipleLines',\n",
       "       'InternetService', 'OnlineSecurity', 'OnlineBackup', 'DeviceProtection',\n",
       "       'TechSupport', 'StreamingTV', 'StreamingMovies', 'Contract',\n",
       "       'PaperlessBilling', 'PaymentMethod', 'MonthlyCharges', 'TotalCharges',\n",
       "       'Churn', 'CustomerFeedback', 'feedback_length', 'sentiment',\n",
       "       'HasFeedback'],\n",
       "      dtype='object')"
      ]
     },
     "execution_count": 11,
     "metadata": {},
     "output_type": "execute_result"
    }
   ],
   "source": [
    "df.columns"
   ]
  },
  {
   "cell_type": "code",
   "execution_count": 12,
   "id": "b4794b8e",
   "metadata": {
    "execution": {
     "iopub.execute_input": "2025-07-21T08:30:32.615366Z",
     "iopub.status.busy": "2025-07-21T08:30:32.615087Z",
     "iopub.status.idle": "2025-07-21T08:30:34.007410Z",
     "shell.execute_reply": "2025-07-21T08:30:34.006428Z"
    },
    "papermill": {
     "duration": 1.401306,
     "end_time": "2025-07-21T08:30:34.009173",
     "exception": false,
     "start_time": "2025-07-21T08:30:32.607867",
     "status": "completed"
    },
    "tags": []
   },
   "outputs": [],
   "source": [
    "#update new noisy features\n",
    "df[\"feedback_length\"] = df[\"CustomerFeedback\"].fillna(\"\").apply(len)\n",
    "df[\"sentiment\"] = df[\"CustomerFeedback\"].fillna(\"\").apply(lambda x: TextBlob(x).sentiment.polarity)"
   ]
  },
  {
   "cell_type": "code",
   "execution_count": 13,
   "id": "360de469",
   "metadata": {
    "execution": {
     "iopub.execute_input": "2025-07-21T08:30:34.023768Z",
     "iopub.status.busy": "2025-07-21T08:30:34.023473Z",
     "iopub.status.idle": "2025-07-21T08:30:34.129946Z",
     "shell.execute_reply": "2025-07-21T08:30:34.129239Z"
    },
    "papermill": {
     "duration": 0.11563,
     "end_time": "2025-07-21T08:30:34.131545",
     "exception": false,
     "start_time": "2025-07-21T08:30:34.015915",
     "status": "completed"
    },
    "tags": []
   },
   "outputs": [],
   "source": [
    "df.to_csv(\"telco_noisy_feedback_prep\")"
   ]
  },
  {
   "cell_type": "markdown",
   "id": "50dba375",
   "metadata": {
    "papermill": {
     "duration": 0.00628,
     "end_time": "2025-07-21T08:30:34.144694",
     "exception": false,
     "start_time": "2025-07-21T08:30:34.138414",
     "status": "completed"
    },
    "tags": []
   },
   "source": [
    "## 4. Training model"
   ]
  },
  {
   "cell_type": "code",
   "execution_count": 14,
   "id": "8f7de02f",
   "metadata": {
    "execution": {
     "iopub.execute_input": "2025-07-21T08:30:34.158954Z",
     "iopub.status.busy": "2025-07-21T08:30:34.158650Z",
     "iopub.status.idle": "2025-07-21T08:30:34.979777Z",
     "shell.execute_reply": "2025-07-21T08:30:34.978806Z"
    },
    "papermill": {
     "duration": 0.830475,
     "end_time": "2025-07-21T08:30:34.981569",
     "exception": false,
     "start_time": "2025-07-21T08:30:34.151094",
     "status": "completed"
    },
    "tags": []
   },
   "outputs": [
    {
     "name": "stdout",
     "output_type": "stream",
     "text": [
      "              precision    recall  f1-score      support   roc_auc\n",
      "0              0.877025  0.922719  0.899292  5163.000000  0.905859\n",
      "1              0.750625  0.642590  0.692419  1869.000000  0.905859\n",
      "accuracy       0.848265  0.848265  0.848265     0.848265  0.905859\n",
      "macro avg      0.813825  0.782654  0.795855  7032.000000  0.905859\n",
      "weighted avg   0.843430  0.848265  0.844308  7032.000000  0.905859\n"
     ]
    }
   ],
   "source": [
    "# ==== CONFIGURATION ====\n",
    "text_col = \"CustomerFeedback\"\n",
    "num_base = ['tenure', 'MonthlyCharges', 'TotalCharges']\n",
    "num_with_text = num_base + ['feedback_length', 'sentiment']\n",
    "cat_cols = [\"Contract\", \"PaymentMethod\", \"InternetService\", \"Partner\", \"Dependents\"]\n",
    "target_col = 'Churn'\n",
    "\n",
    "# ==== TRANSFORMERS ====\n",
    "num_transformer = Pipeline([('scaler', StandardScaler())])\n",
    "cat_transformer = Pipeline([('onehot', OneHotEncoder(handle_unknown='ignore'))])\n",
    "txt_transformer = Pipeline([('tfidf', TfidfVectorizer(max_features=100))])\n",
    "\n",
    "# ==== DATA SPLITTING ====\n",
    "df_fb = df[df[\"HasFeedback\"]].copy()\n",
    "df_nofb = df[~df[\"HasFeedback\"]].copy()\n",
    "\n",
    "X_fb = df_fb[num_with_text + cat_cols + [text_col]]\n",
    "y_fb = df_fb[target_col]\n",
    "\n",
    "X_nofb = df_nofb[num_base + cat_cols]\n",
    "y_nofb = df_nofb[target_col]\n",
    "\n",
    "# ==== MODEL WITH FEEDBACK ====\n",
    "preprocessor_with_text = ColumnTransformer([\n",
    "    ('num', num_transformer, num_with_text),\n",
    "    ('cat', cat_transformer, cat_cols),\n",
    "    ('txt', txt_transformer, text_col)\n",
    "])\n",
    "\n",
    "model_with_text = Pipeline([\n",
    "    ('preprocessing', preprocessor_with_text),\n",
    "    ('classifier', LogisticRegression(max_iter=1000))\n",
    "])\n",
    "\n",
    "model_with_text.fit(X_fb, y_fb)\n",
    "\n",
    "# ==== MODEL WITHOUT FEEDBACK ====\n",
    "preprocessor_no_text = ColumnTransformer([\n",
    "    ('num', num_transformer, num_base),\n",
    "    ('cat', cat_transformer, cat_cols)\n",
    "])\n",
    "\n",
    "model_fallback = Pipeline([\n",
    "    ('preprocessing', preprocessor_no_text),\n",
    "    ('classifier', LogisticRegression(max_iter=1000))\n",
    "])\n",
    "model_fallback.fit(X_nofb, y_nofb)\n",
    "\n",
    "# ==== PREDICT & COMBINE ====\n",
    "preds_fb = model_with_text.predict(X_fb)\n",
    "probs_fb = model_with_text.predict_proba(X_fb)[:, 1]\n",
    "\n",
    "preds_nofb = model_fallback.predict(X_nofb)\n",
    "probs_nofb = model_fallback.predict_proba(X_nofb)[:, 1]\n",
    "\n",
    "y_true_combined = pd.concat([y_fb, y_nofb])\n",
    "y_pred_combined = np.concatenate([preds_fb, preds_nofb])\n",
    "y_prob_combined = np.concatenate([probs_fb, probs_nofb])\n",
    "\n",
    "# ROC & AUC\n",
    "fpr_fb, tpr_fb, _ = roc_curve(y_fb, probs_fb)\n",
    "auc_fb = roc_auc_score(y_fb, probs_fb)\n",
    "\n",
    "fpr_combined, tpr_combined, _ = roc_curve(y_true_combined, y_prob_combined)\n",
    "auc_combined = roc_auc_score(y_true_combined, y_prob_combined)\n",
    "\n",
    "# Evaluation\n",
    "report_combined = classification_report(y_true_combined, y_pred_combined, output_dict=True)\n",
    "results_combined = pd.DataFrame(report_combined).transpose()\n",
    "results_combined[\"roc_auc\"] = auc_combined\n",
    "\n",
    "print(results_combined)\n"
   ]
  },
  {
   "cell_type": "markdown",
   "id": "8c33880e",
   "metadata": {
    "papermill": {
     "duration": 0.006363,
     "end_time": "2025-07-21T08:30:34.995785",
     "exception": false,
     "start_time": "2025-07-21T08:30:34.989422",
     "status": "completed"
    },
    "tags": []
   },
   "source": [
    "## 5. Summary"
   ]
  },
  {
   "cell_type": "code",
   "execution_count": 15,
   "id": "c3b1c059",
   "metadata": {
    "execution": {
     "iopub.execute_input": "2025-07-21T08:30:35.010612Z",
     "iopub.status.busy": "2025-07-21T08:30:35.009909Z",
     "iopub.status.idle": "2025-07-21T08:30:35.312951Z",
     "shell.execute_reply": "2025-07-21T08:30:35.312067Z"
    },
    "papermill": {
     "duration": 0.312076,
     "end_time": "2025-07-21T08:30:35.314472",
     "exception": false,
     "start_time": "2025-07-21T08:30:35.002396",
     "status": "completed"
    },
    "tags": []
   },
   "outputs": [
    {
     "data": {
      "image/png": "[encoded data removed]",
      "text/plain": [
       "<Figure size 800x600 with 1 Axes>"
      ]
     },
     "metadata": {},
     "output_type": "display_data"
    }
   ],
   "source": [
    "plt.figure(figsize=(8, 6))\n",
    "\n",
    "# ROC: model with feedback\n",
    "plt.plot(fpr_fb, tpr_fb, color='navy', lw=2, label=f\"Model with Feedback (AUC = {auc_fb:.2f})\")\n",
    "\n",
    "# ROC: combined model\n",
    "plt.plot(fpr_combined, tpr_combined, color='darkorange', lw=2, label=f\"Combined Model (AUC = {auc_combined:.2f})\")\n",
    "\n",
    "# Diagonal = random classifier\n",
    "plt.plot([0, 1], [0, 1], color='gray', linestyle='--', lw=2, label='Random Classifier')\n",
    "\n",
    "# Axis settings\n",
    "plt.xlim([0.0, 1.0])\n",
    "plt.ylim([0.0, 1.05])\n",
    "plt.xlabel(\"False Positive Rate\")\n",
    "plt.ylabel(\"True Positive Rate\")\n",
    "plt.title(\"ROC Curve – Model with Feedback vs Combined Fallback System\")\n",
    "plt.legend(loc=\"lower right\")\n",
    "plt.grid(True)\n",
    "plt.tight_layout()\n",
    "plt.show()\n"
   ]
  },
  {
   "cell_type": "markdown",
   "id": "4a703360",
   "metadata": {
    "papermill": {
     "duration": 0.008425,
     "end_time": "2025-07-21T08:30:35.331519",
     "exception": false,
     "start_time": "2025-07-21T08:30:35.323094",
     "status": "completed"
    },
    "tags": []
   },
   "source": [
    "\n",
    "Even when customer feedback is truncated or partially missing, the fallback system combining structured data with optional text input maintains good performance.\n",
    "\n",
    "- ROC AUC shows graceful degradation with noisy feedback.\n",
    "- The hybrid fallback approach ensures consistent results even when only 25% of customers provide usable feedback.\n",
    "- This confirms the reliability of our model for production-like scenarios where text quality may vary.\n"
   ]
  },
  {
   "cell_type": "code",
   "execution_count": 16,
   "id": "e22160ba",
   "metadata": {
    "execution": {
     "iopub.execute_input": "2025-07-21T08:30:35.348687Z",
     "iopub.status.busy": "2025-07-21T08:30:35.348376Z",
     "iopub.status.idle": "2025-07-21T08:30:35.363566Z",
     "shell.execute_reply": "2025-07-21T08:30:35.362630Z"
    },
    "papermill": {
     "duration": 0.025427,
     "end_time": "2025-07-21T08:30:35.364853",
     "exception": false,
     "start_time": "2025-07-21T08:30:35.339426",
     "status": "completed"
    },
    "tags": []
   },
   "outputs": [
    {
     "name": "stdout",
     "output_type": "stream",
     "text": [
      "Both models exported successfully.\n"
     ]
    }
   ],
   "source": [
    "import joblib\n",
    "\n",
    "joblib.dump(model_with_text, \"model_with_feedback.pkl\")\n",
    "joblib.dump(model_fallback, \"model_fallback.pkl\")\n",
    "\n",
    "print(\"Both models exported successfully.\")\n"
   ]
  },
  {
   "cell_type": "markdown",
   "id": "e3660a21",
   "metadata": {
    "execution": {
     "iopub.execute_input": "2025-06-23T08:18:04.368876Z",
     "iopub.status.busy": "2025-06-23T08:18:04.368317Z",
     "iopub.status.idle": "2025-06-23T08:18:04.375582Z",
     "shell.execute_reply": "2025-06-23T08:18:04.374656Z",
     "shell.execute_reply.started": "2025-06-23T08:18:04.368852Z"
    },
    "papermill": {
     "duration": 0.007809,
     "end_time": "2025-07-21T08:30:35.380915",
     "exception": false,
     "start_time": "2025-07-21T08:30:35.373106",
     "status": "completed"
    },
    "tags": []
   },
   "source": [
    "## 📁 Notebook Series Overview: **Telco Churn & GPT Feedback**\n",
    "<a id=\"notebook-series-overview-telco-churn--gpt-feedback\"></a>\n",
    "\n",
    "This is part of a multi-notebook series focused on **realistic churn prediction** using structured data and GPT-generated customer feedback.  \n",
    "We simulate real-world challenges such as missing text, noisy input, and model fallback logic — building toward a robust, production-style solution.\n",
    "\n",
    "---\n",
    "\n",
    "###  1. Exploring Customer Churn & GPT-generated Feedback\n",
    "\n",
    "> Exploratory analysis of the churn dataset, with focus on customer segments, behavior patterns, and text feedback characteristics.  \n",
    "> Text insights powered by GPT-generated responses.\n",
    "\n",
    "---\n",
    "\n",
    "###  2. Feedback Noise Simulation & Fallback Testing\n",
    "\n",
    "> We simulate feedback imperfections (irrelevant, incomplete, or missing entries) and measure how models perform under noise.  \n",
    "> Introduces the concept of fallback systems for low-signal situations.\n",
    "\n",
    "---\n",
    "\n",
    "### 3. Fallback Model – Logistic vs XGB vs RF vs NN\n",
    "\n",
    "> We train and compare multiple classifiers on **structured-only data** (no feedback):  \n",
    "> Logistic Regression, Random Forest, XGBoost, and Neural Net.  \n",
    "> Best fallback model is selected based on ROC AUC and recall.\n",
    "\n",
    "---\n",
    "\n",
    "###  4. Model with Feedback – Logistic vs XGB vs NN\n",
    "\n",
    "> We focus on customers who left written feedback.  \n",
    "> Structured data is combined with TF-IDF vectors to train a stronger “teacher” model.  \n",
    "> Logistic Regression emerges as the most interpretable and best-performing solution.\n",
    "\n",
    "---\n",
    "\n",
    "### 5. Prediction using Synthetic Feedback Knowledge\n",
    "\n",
    "> Even when customers don’t leave feedback, we simulate its predictive signal using the trained teacher model.  \n",
    "> We generate a `synthetic_text_score` and evaluate whether it helps fallback performance.\n"
   ]
  }
 ],
 "metadata": {
  "kaggle": {
   "accelerator": "none",
   "dataSources": [
    {
     "datasetId": 13996,
     "sourceId": 18858,
     "sourceType": "datasetVersion"
    },
    {
     "datasetId": 4968559,
     "sourceId": 8360350,
     "sourceType": "datasetVersion"
    },
    {
     "datasetId": 5855544,
     "sourceId": 9598780,
     "sourceType": "datasetVersion"
    },
    {
     "datasetId": 7630515,
     "sourceId": 12257490,
     "sourceType": "datasetVersion"
    }
   ],
   "dockerImageVersionId": 31040,
   "isGpuEnabled": false,
   "isInternetEnabled": true,
   "language": "python",
   "sourceType": "notebook"
  },
  "kernelspec": {
   "display_name": "Python 3",
   "language": "python",
   "name": "python3"
  },
  "language_info": {
   "codemirror_mode": {
    "name": "ipython",
    "version": 3
   },
   "file_extension": ".py",
   "mimetype": "text/x-python",
   "name": "python",
   "nbconvert_exporter": "python",
   "pygments_lexer": "ipython3",
   "version": "3.11.11"
  },
  "papermill": {
   "default_parameters": {},
   "duration": 15.7201,
   "end_time": "2025-07-21T08:30:36.109570",
   "environment_variables": {},
   "exception": null,
   "input_path": "__notebook__.ipynb",
   "output_path": "__notebook__.ipynb",
   "parameters": {},
   "start_time": "2025-07-21T08:30:20.389470",
   "version": "2.6.0"
  }
 },
 "nbformat": 4,
 "nbformat_minor": 5
}
