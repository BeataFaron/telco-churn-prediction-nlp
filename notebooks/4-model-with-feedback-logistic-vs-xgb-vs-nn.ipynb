{
 "cells": [
  {
   "cell_type": "markdown",
   "id": "065ff54d",
   "metadata": {
    "papermill": {
     "duration": 0.004181,
     "end_time": "2025-07-21T08:33:18.743715",
     "exception": false,
     "start_time": "2025-07-21T08:33:18.739534",
     "status": "completed"
    },
    "tags": []
   },
   "source": [
    "# Model with Feedback – Logistic vs XGB vs NN\n",
    "This notebook is part of a multi-step project designed to model customer churn using both structured features and GPT-generated customer feedback.\n",
    "We explore how customer feedback can improve churn prediction performance.\n",
    "\n",
    "\n",
    "### Project Structure:\n",
    "\n",
    "1. **Exploring Customer Churn & GPT-generated Feedback**  \n",
    "   → Data exploration & text insights\n",
    "\n",
    "2. **Feedback Noise Simulation & Fallback Testing**  \n",
    "   → Simulate real-world feedback imperfections\n",
    "\n",
    "3. **Fallback Model – Logistic vs XGB vs RF vs NN**  \n",
    "   → Structured-only models, compared & evaluated\n",
    "\n",
    "4. **Model with Feedback – Logistic vs XGB vs NN**  \n",
    "   → Hybrid modeling using structured + textual data\n",
    "\n",
    "5. **Prediction using Synthetic Feedback Knowledge**  \n",
    "   → Transfer feedback model knowledge to fallback model\n",
    "\n"
   ]
  },
  {
   "cell_type": "markdown",
   "id": "3624592d",
   "metadata": {
    "papermill": {
     "duration": 0.003152,
     "end_time": "2025-07-21T08:33:18.750631",
     "exception": false,
     "start_time": "2025-07-21T08:33:18.747479",
     "status": "completed"
    },
    "tags": []
   },
   "source": [
    "## 📑 Table of Contents\n",
    "\n",
    "1. [Imports & config](#1-imports--config)\n",
    "2. [Load data](#2-load-data)\n",
    "3. [Features config](#3-features-config)\n",
    "4. [Preprocessing pipeline](#4-preprocessing-pipeline)\n",
    "5. [Train models](#5-train-models)\n",
    "6. [Summary](#6-summary) <br>\n",
    "[📁 Notebook Series Overview: Telco Churn & GPT Feedback](#notebook-series-overview-telco-churn--gpt-feedback)\n"
   ]
  },
  {
   "cell_type": "markdown",
   "id": "ce23f75d",
   "metadata": {
    "papermill": {
     "duration": 0.003179,
     "end_time": "2025-07-21T08:33:18.757195",
     "exception": false,
     "start_time": "2025-07-21T08:33:18.754016",
     "status": "completed"
    },
    "tags": []
   },
   "source": [
    "## 1. Imports & config\n",
    "<a id=\"1-imports--config\"></a>\n"
   ]
  },
  {
   "cell_type": "code",
   "execution_count": 1,
   "id": "3206330b",
   "metadata": {
    "_cell_guid": "b1076dfc-b9ad-4769-8c92-a6c4dae69d19",
    "_uuid": "8f2839f25d086af736a60e9eeb907d3b93b6e0e5",
    "execution": {
     "iopub.execute_input": "2025-07-21T08:33:18.765898Z",
     "iopub.status.busy": "2025-07-21T08:33:18.765502Z",
     "iopub.status.idle": "2025-07-21T08:33:24.943411Z",
     "shell.execute_reply": "2025-07-21T08:33:24.942117Z"
    },
    "papermill": {
     "duration": 6.184538,
     "end_time": "2025-07-21T08:33:24.945469",
     "exception": false,
     "start_time": "2025-07-21T08:33:18.760931",
     "status": "completed"
    },
    "tags": []
   },
   "outputs": [],
   "source": [
    "import pandas as pd\n",
    "import numpy as np\n",
    "\n",
    "from sklearn.model_selection import train_test_split\n",
    "from sklearn.preprocessing import OneHotEncoder, StandardScaler\n",
    "from sklearn.feature_extraction.text import TfidfVectorizer\n",
    "from sklearn.compose import ColumnTransformer\n",
    "from sklearn.pipeline import Pipeline\n",
    "from sklearn.linear_model import LogisticRegression\n",
    "from sklearn.metrics import classification_report, roc_auc_score\n",
    "from sklearn.model_selection import train_test_split, GridSearchCV\n",
    "\n",
    "\n",
    "from sklearn.neural_network import MLPClassifier\n",
    "from xgboost import XGBClassifier\n",
    "\n",
    "import matplotlib.pyplot as plt\n",
    "import seaborn as sns\n",
    "\n",
    "from textblob import TextBlob\n",
    "\n",
    "from sklearn.ensemble import RandomForestClassifier\n",
    "from sklearn.neural_network import MLPClassifier\n",
    "from xgboost import XGBClassifier\n",
    "\n",
    "from sklearn.metrics import ConfusionMatrixDisplay"
   ]
  },
  {
   "cell_type": "code",
   "execution_count": 2,
   "id": "a032a50a",
   "metadata": {
    "execution": {
     "iopub.execute_input": "2025-07-21T08:33:24.954192Z",
     "iopub.status.busy": "2025-07-21T08:33:24.953633Z",
     "iopub.status.idle": "2025-07-21T08:33:24.959579Z",
     "shell.execute_reply": "2025-07-21T08:33:24.958297Z"
    },
    "papermill": {
     "duration": 0.01257,
     "end_time": "2025-07-21T08:33:24.961502",
     "exception": false,
     "start_time": "2025-07-21T08:33:24.948932",
     "status": "completed"
    },
    "tags": []
   },
   "outputs": [],
   "source": [
    "pd.set_option('display.max_colwidth', None)"
   ]
  },
  {
   "cell_type": "markdown",
   "id": "29ee8625",
   "metadata": {
    "papermill": {
     "duration": 0.003348,
     "end_time": "2025-07-21T08:33:24.968726",
     "exception": false,
     "start_time": "2025-07-21T08:33:24.965378",
     "status": "completed"
    },
    "tags": []
   },
   "source": [
    "## 2. Load data\n",
    "<a id=\"2-load-data\"></a>\n"
   ]
  },
  {
   "cell_type": "code",
   "execution_count": 3,
   "id": "930d6e8d",
   "metadata": {
    "execution": {
     "iopub.execute_input": "2025-07-21T08:33:24.977886Z",
     "iopub.status.busy": "2025-07-21T08:33:24.977515Z",
     "iopub.status.idle": "2025-07-21T08:33:25.105087Z",
     "shell.execute_reply": "2025-07-21T08:33:25.103910Z"
    },
    "papermill": {
     "duration": 0.134458,
     "end_time": "2025-07-21T08:33:25.106952",
     "exception": false,
     "start_time": "2025-07-21T08:33:24.972494",
     "status": "completed"
    },
    "tags": []
   },
   "outputs": [
    {
     "data": {
      "text/html": [
       "<div>\n",
       "<style scoped>\n",
       "    .dataframe tbody tr th:only-of-type {\n",
       "        vertical-align: middle;\n",
       "    }\n",
       "\n",
       "    .dataframe tbody tr th {\n",
       "        vertical-align: top;\n",
       "    }\n",
       "\n",
       "    .dataframe thead th {\n",
       "        text-align: right;\n",
       "    }\n",
       "</style>\n",
       "<table border=\"1\" class=\"dataframe\">\n",
       "  <thead>\n",
       "    <tr style=\"text-align: right;\">\n",
       "      <th></th>\n",
       "      <th>Unnamed: 0.1</th>\n",
       "      <th>Unnamed: 0</th>\n",
       "      <th>customerID</th>\n",
       "      <th>gender</th>\n",
       "      <th>SeniorCitizen</th>\n",
       "      <th>Partner</th>\n",
       "      <th>Dependents</th>\n",
       "      <th>tenure</th>\n",
       "      <th>PhoneService</th>\n",
       "      <th>MultipleLines</th>\n",
       "      <th>...</th>\n",
       "      <th>Contract</th>\n",
       "      <th>PaperlessBilling</th>\n",
       "      <th>PaymentMethod</th>\n",
       "      <th>MonthlyCharges</th>\n",
       "      <th>TotalCharges</th>\n",
       "      <th>Churn</th>\n",
       "      <th>CustomerFeedback</th>\n",
       "      <th>feedback_length</th>\n",
       "      <th>sentiment</th>\n",
       "      <th>HasFeedback</th>\n",
       "    </tr>\n",
       "  </thead>\n",
       "  <tbody>\n",
       "    <tr>\n",
       "      <th>0</th>\n",
       "      <td>0</td>\n",
       "      <td>0</td>\n",
       "      <td>7590-vhveg</td>\n",
       "      <td>female</td>\n",
       "      <td>0</td>\n",
       "      <td>yes</td>\n",
       "      <td>no</td>\n",
       "      <td>1</td>\n",
       "      <td>no</td>\n",
       "      <td>no phone service</td>\n",
       "      <td>...</td>\n",
       "      <td>month-to-month</td>\n",
       "      <td>yes</td>\n",
       "      <td>electronic check</td>\n",
       "      <td>29.85</td>\n",
       "      <td>29.85</td>\n",
       "      <td>0</td>\n",
       "      <td>NaN</td>\n",
       "      <td>0</td>\n",
       "      <td>0.0</td>\n",
       "      <td>False</td>\n",
       "    </tr>\n",
       "    <tr>\n",
       "      <th>1</th>\n",
       "      <td>1</td>\n",
       "      <td>1</td>\n",
       "      <td>5575-gnvde</td>\n",
       "      <td>male</td>\n",
       "      <td>0</td>\n",
       "      <td>no</td>\n",
       "      <td>no</td>\n",
       "      <td>34</td>\n",
       "      <td>yes</td>\n",
       "      <td>no</td>\n",
       "      <td>...</td>\n",
       "      <td>one year</td>\n",
       "      <td>no</td>\n",
       "      <td>mailed check</td>\n",
       "      <td>56.95</td>\n",
       "      <td>1889.50</td>\n",
       "      <td>0</td>\n",
       "      <td>NaN</td>\n",
       "      <td>0</td>\n",
       "      <td>0.0</td>\n",
       "      <td>False</td>\n",
       "    </tr>\n",
       "    <tr>\n",
       "      <th>2</th>\n",
       "      <td>2</td>\n",
       "      <td>2</td>\n",
       "      <td>3668-qpybk</td>\n",
       "      <td>male</td>\n",
       "      <td>0</td>\n",
       "      <td>no</td>\n",
       "      <td>no</td>\n",
       "      <td>2</td>\n",
       "      <td>yes</td>\n",
       "      <td>no</td>\n",
       "      <td>...</td>\n",
       "      <td>month-to-month</td>\n",
       "      <td>yes</td>\n",
       "      <td>mailed check</td>\n",
       "      <td>53.85</td>\n",
       "      <td>108.15</td>\n",
       "      <td>1</td>\n",
       "      <td>NaN</td>\n",
       "      <td>0</td>\n",
       "      <td>0.0</td>\n",
       "      <td>False</td>\n",
       "    </tr>\n",
       "    <tr>\n",
       "      <th>3</th>\n",
       "      <td>3</td>\n",
       "      <td>3</td>\n",
       "      <td>7795-cfocw</td>\n",
       "      <td>male</td>\n",
       "      <td>0</td>\n",
       "      <td>no</td>\n",
       "      <td>no</td>\n",
       "      <td>45</td>\n",
       "      <td>no</td>\n",
       "      <td>no phone service</td>\n",
       "      <td>...</td>\n",
       "      <td>one year</td>\n",
       "      <td>no</td>\n",
       "      <td>bank transfer (automatic)</td>\n",
       "      <td>42.30</td>\n",
       "      <td>1840.75</td>\n",
       "      <td>0</td>\n",
       "      <td>NaN</td>\n",
       "      <td>0</td>\n",
       "      <td>0.0</td>\n",
       "      <td>False</td>\n",
       "    </tr>\n",
       "    <tr>\n",
       "      <th>4</th>\n",
       "      <td>4</td>\n",
       "      <td>4</td>\n",
       "      <td>9237-hqitu</td>\n",
       "      <td>female</td>\n",
       "      <td>0</td>\n",
       "      <td>no</td>\n",
       "      <td>no</td>\n",
       "      <td>2</td>\n",
       "      <td>yes</td>\n",
       "      <td>no</td>\n",
       "      <td>...</td>\n",
       "      <td>month-to-month</td>\n",
       "      <td>yes</td>\n",
       "      <td>electronic check</td>\n",
       "      <td>70.70</td>\n",
       "      <td>151.65</td>\n",
       "      <td>1</td>\n",
       "      <td>NaN</td>\n",
       "      <td>0</td>\n",
       "      <td>0.0</td>\n",
       "      <td>False</td>\n",
       "    </tr>\n",
       "  </tbody>\n",
       "</table>\n",
       "<p>5 rows × 27 columns</p>\n",
       "</div>"
      ],
      "text/plain": [
       "   Unnamed: 0.1  Unnamed: 0  customerID  gender  SeniorCitizen Partner  \\\n",
       "0             0           0  7590-vhveg  female              0     yes   \n",
       "1             1           1  5575-gnvde    male              0      no   \n",
       "2             2           2  3668-qpybk    male              0      no   \n",
       "3             3           3  7795-cfocw    male              0      no   \n",
       "4             4           4  9237-hqitu  female              0      no   \n",
       "\n",
       "  Dependents  tenure PhoneService     MultipleLines  ...        Contract  \\\n",
       "0         no       1           no  no phone service  ...  month-to-month   \n",
       "1         no      34          yes                no  ...        one year   \n",
       "2         no       2          yes                no  ...  month-to-month   \n",
       "3         no      45           no  no phone service  ...        one year   \n",
       "4         no       2          yes                no  ...  month-to-month   \n",
       "\n",
       "  PaperlessBilling              PaymentMethod MonthlyCharges TotalCharges  \\\n",
       "0              yes           electronic check          29.85        29.85   \n",
       "1               no               mailed check          56.95      1889.50   \n",
       "2              yes               mailed check          53.85       108.15   \n",
       "3               no  bank transfer (automatic)          42.30      1840.75   \n",
       "4              yes           electronic check          70.70       151.65   \n",
       "\n",
       "  Churn CustomerFeedback feedback_length sentiment HasFeedback  \n",
       "0     0              NaN               0       0.0       False  \n",
       "1     0              NaN               0       0.0       False  \n",
       "2     1              NaN               0       0.0       False  \n",
       "3     0              NaN               0       0.0       False  \n",
       "4     1              NaN               0       0.0       False  \n",
       "\n",
       "[5 rows x 27 columns]"
      ]
     },
     "execution_count": 3,
     "metadata": {},
     "output_type": "execute_result"
    }
   ],
   "source": [
    "df = pd.read_csv('/kaggle/input/telco-customer-churn-realistic-customer-feedback/telco_noisy_feedback_prep.csv')\n",
    "df.head()"
   ]
  },
  {
   "cell_type": "markdown",
   "id": "ac7750db",
   "metadata": {
    "papermill": {
     "duration": 0.003294,
     "end_time": "2025-07-21T08:33:25.114286",
     "exception": false,
     "start_time": "2025-07-21T08:33:25.110992",
     "status": "completed"
    },
    "tags": []
   },
   "source": [
    "## 3. Features config\n",
    "<a id=\"3-features-config\"></a>\n"
   ]
  },
  {
   "cell_type": "code",
   "execution_count": 4,
   "id": "4e96c348",
   "metadata": {
    "execution": {
     "iopub.execute_input": "2025-07-21T08:33:25.123213Z",
     "iopub.status.busy": "2025-07-21T08:33:25.122812Z",
     "iopub.status.idle": "2025-07-21T08:33:25.143442Z",
     "shell.execute_reply": "2025-07-21T08:33:25.142271Z"
    },
    "papermill": {
     "duration": 0.027557,
     "end_time": "2025-07-21T08:33:25.145367",
     "exception": false,
     "start_time": "2025-07-21T08:33:25.117810",
     "status": "completed"
    },
    "tags": []
   },
   "outputs": [],
   "source": [
    "# ==== Feature config ====\n",
    "df_text = df[df[\"HasFeedback\"]].copy()\n",
    "\n",
    "# Target and feature setup\n",
    "target_col = \"Churn\"\n",
    "text_col = \"CustomerFeedback\"\n",
    "numeric_cols = ['tenure', 'MonthlyCharges', 'TotalCharges', 'feedback_length', 'sentiment']\n",
    "categorical_cols = [\"Contract\", \"PaymentMethod\", \"InternetService\", \n",
    "    \"Partner\", \"Dependents\"]\n",
    "\n",
    "# Define features and target\n",
    "X_text = df_text[numeric_cols + categorical_cols + [text_col]]\n",
    "y_text = df_text[target_col]\n",
    "\n",
    "# Stratified split to preserve churn distribution\n",
    "X_train_text, X_test_text, y_train_text, y_test_text = train_test_split(\n",
    "    X_text, y_text, test_size=0.2, random_state=42, stratify=y_text\n",
    ")\n"
   ]
  },
  {
   "cell_type": "markdown",
   "id": "e79ae22c",
   "metadata": {
    "papermill": {
     "duration": 0.00331,
     "end_time": "2025-07-21T08:33:25.152500",
     "exception": false,
     "start_time": "2025-07-21T08:33:25.149190",
     "status": "completed"
    },
    "tags": []
   },
   "source": [
    "## 4. Preprocessing pipeline\n",
    "<a id=\"4-preprocessing-pipeline\"></a>\n"
   ]
  },
  {
   "cell_type": "code",
   "execution_count": 5,
   "id": "e5da0c72",
   "metadata": {
    "execution": {
     "iopub.execute_input": "2025-07-21T08:33:25.161166Z",
     "iopub.status.busy": "2025-07-21T08:33:25.160719Z",
     "iopub.status.idle": "2025-07-21T08:33:25.167427Z",
     "shell.execute_reply": "2025-07-21T08:33:25.166277Z"
    },
    "papermill": {
     "duration": 0.013227,
     "end_time": "2025-07-21T08:33:25.169281",
     "exception": false,
     "start_time": "2025-07-21T08:33:25.156054",
     "status": "completed"
    },
    "tags": []
   },
   "outputs": [],
   "source": [
    "from sklearn.pipeline import Pipeline\n",
    "from sklearn.compose import ColumnTransformer\n",
    "from sklearn.preprocessing import StandardScaler, OneHotEncoder\n",
    "from sklearn.feature_extraction.text import TfidfVectorizer\n",
    "\n",
    "# Define transformers\n",
    "num_transformer = Pipeline([('scaler', StandardScaler())])\n",
    "cat_transformer = Pipeline([('onehot', OneHotEncoder(handle_unknown='ignore'))])\n",
    "txt_transformer = Pipeline([('tfidf', TfidfVectorizer(max_features=300))])\n",
    "\n",
    "# Combine all into one ColumnTransformer\n",
    "preprocessor_text = ColumnTransformer([\n",
    "    ('num', num_transformer, numeric_cols),\n",
    "    ('cat', cat_transformer, categorical_cols),\n",
    "    ('txt', txt_transformer, text_col)\n",
    "])"
   ]
  },
  {
   "cell_type": "markdown",
   "id": "c499b5db",
   "metadata": {
    "papermill": {
     "duration": 0.003383,
     "end_time": "2025-07-21T08:33:25.176489",
     "exception": false,
     "start_time": "2025-07-21T08:33:25.173106",
     "status": "completed"
    },
    "tags": []
   },
   "source": [
    "## 5. Train models\n",
    "<a id=\"5-train-models\"></a>\n"
   ]
  },
  {
   "cell_type": "code",
   "execution_count": 6,
   "id": "a0f210ac",
   "metadata": {
    "execution": {
     "iopub.execute_input": "2025-07-21T08:33:25.185132Z",
     "iopub.status.busy": "2025-07-21T08:33:25.184791Z",
     "iopub.status.idle": "2025-07-21T08:33:27.260719Z",
     "shell.execute_reply": "2025-07-21T08:33:27.259545Z"
    },
    "papermill": {
     "duration": 2.082561,
     "end_time": "2025-07-21T08:33:27.262601",
     "exception": false,
     "start_time": "2025-07-21T08:33:25.180040",
     "status": "completed"
    },
    "tags": []
   },
   "outputs": [
    {
     "data": {
      "text/html": [
       "<div>\n",
       "<style scoped>\n",
       "    .dataframe tbody tr th:only-of-type {\n",
       "        vertical-align: middle;\n",
       "    }\n",
       "\n",
       "    .dataframe tbody tr th {\n",
       "        vertical-align: top;\n",
       "    }\n",
       "\n",
       "    .dataframe thead th {\n",
       "        text-align: right;\n",
       "    }\n",
       "</style>\n",
       "<table border=\"1\" class=\"dataframe\">\n",
       "  <thead>\n",
       "    <tr style=\"text-align: right;\">\n",
       "      <th></th>\n",
       "      <th>f1-score</th>\n",
       "      <th>accuracy</th>\n",
       "      <th>roc_auc</th>\n",
       "    </tr>\n",
       "  </thead>\n",
       "  <tbody>\n",
       "    <tr>\n",
       "      <th>Neural Net (MLP)</th>\n",
       "      <td>0.997164</td>\n",
       "      <td>0.997159</td>\n",
       "      <td>0.999959</td>\n",
       "    </tr>\n",
       "    <tr>\n",
       "      <th>Logistic Regression</th>\n",
       "      <td>0.997154</td>\n",
       "      <td>0.997159</td>\n",
       "      <td>0.999918</td>\n",
       "    </tr>\n",
       "    <tr>\n",
       "      <th>XGBoost</th>\n",
       "      <td>0.994299</td>\n",
       "      <td>0.994318</td>\n",
       "      <td>0.998722</td>\n",
       "    </tr>\n",
       "  </tbody>\n",
       "</table>\n",
       "</div>"
      ],
      "text/plain": [
       "                     f1-score  accuracy   roc_auc\n",
       "Neural Net (MLP)     0.997164  0.997159  0.999959\n",
       "Logistic Regression  0.997154  0.997159  0.999918\n",
       "XGBoost              0.994299  0.994318  0.998722"
      ]
     },
     "metadata": {},
     "output_type": "display_data"
    }
   ],
   "source": [
    "# Define models to compare\n",
    "models_with_text = {\n",
    "    \"Logistic Regression\": LogisticRegression(max_iter=1000, random_state=42),\n",
    "    \"XGBoost\": XGBClassifier(use_label_encoder=False, eval_metric=\"logloss\", random_state=42),\n",
    "    \"Neural Net (MLP)\": MLPClassifier(hidden_layer_sizes=(64, 32), max_iter=300, random_state=42)\n",
    "}\n",
    "\n",
    "# Store results\n",
    "results_with_text = {}\n",
    "\n",
    "# Train and evaluate\n",
    "for name, model in models_with_text.items():\n",
    "    pipe = Pipeline([\n",
    "        (\"preprocessor\", preprocessor_text),\n",
    "        (\"classifier\", model)\n",
    "    ])\n",
    "    pipe.fit(X_train_text, y_train_text)\n",
    "    y_pred = pipe.predict(X_test_text)\n",
    "    y_prob = pipe.predict_proba(X_test_text)[:, 1]\n",
    "\n",
    "    report = classification_report(y_test_text, y_pred, output_dict=True)\n",
    "    auc = roc_auc_score(y_test_text, y_prob)\n",
    "\n",
    "    results_with_text[name] = {\n",
    "        \"f1-score\": report[\"weighted avg\"][\"f1-score\"],\n",
    "        \"accuracy\": report[\"accuracy\"],\n",
    "        \"roc_auc\": auc\n",
    "    }\n",
    "\n",
    "# Show results as a table\n",
    "results_text_df = pd.DataFrame(results_with_text).T.sort_values(\"roc_auc\", ascending=False)\n",
    "display(results_text_df)"
   ]
  },
  {
   "cell_type": "markdown",
   "id": "323a6e01",
   "metadata": {
    "papermill": {
     "duration": 0.003389,
     "end_time": "2025-07-21T08:33:27.269915",
     "exception": false,
     "start_time": "2025-07-21T08:33:27.266526",
     "status": "completed"
    },
    "tags": []
   },
   "source": [
    "All models perform similarly – Logistic Regression wins in simplicity, interpretability, and stability.\n",
    "\n"
   ]
  },
  {
   "cell_type": "code",
   "execution_count": 7,
   "id": "8f97bc41",
   "metadata": {
    "execution": {
     "iopub.execute_input": "2025-07-21T08:33:27.280105Z",
     "iopub.status.busy": "2025-07-21T08:33:27.279085Z",
     "iopub.status.idle": "2025-07-21T08:33:27.427014Z",
     "shell.execute_reply": "2025-07-21T08:33:27.426204Z"
    },
    "papermill": {
     "duration": 0.155556,
     "end_time": "2025-07-21T08:33:27.429083",
     "exception": false,
     "start_time": "2025-07-21T08:33:27.273527",
     "status": "completed"
    },
    "tags": []
   },
   "outputs": [
    {
     "name": "stdout",
     "output_type": "stream",
     "text": [
      "Logistic Regression with text saved.\n"
     ]
    }
   ],
   "source": [
    "# Build and train best model explicitly\n",
    "best_pipe = Pipeline([\n",
    "    (\"preprocessor\", preprocessor_text),\n",
    "    (\"classifier\", LogisticRegression(max_iter=1000, random_state=42))\n",
    "])\n",
    "\n",
    "best_pipe.fit(X_train_text, y_train_text)\n",
    "\n",
    "# Save\n",
    "import joblib\n",
    "joblib.dump(best_pipe, \"model_with_feedback.pkl\")\n",
    "print(\"Logistic Regression with text saved.\")"
   ]
  },
  {
   "cell_type": "markdown",
   "id": "cbe8698a",
   "metadata": {
    "papermill": {
     "duration": 0.005591,
     "end_time": "2025-07-21T08:33:27.440723",
     "exception": false,
     "start_time": "2025-07-21T08:33:27.435132",
     "status": "completed"
    },
    "tags": []
   },
   "source": [
    "## Summary\n",
    "<a id=\"6-summary\"></a>\n",
    "\n",
    "\n",
    "In this notebook, we trained multiple models using both structured features and customer feedback.\n",
    "\n",
    "### Key findings:\n",
    "- All models performed exceptionally well, thanks to the predictive power of textual feedback.\n",
    "- **Logistic Regression** delivered the best overall performance (ROC AUC = 0.9999), with a perfect balance between accuracy and recall.\n",
    "- We saved this model as `model_with_feedback.pkl`.\n",
    "\n",
    "In next notebook we will **transfer knowledge** from this feedback-based model to improve predictions in cases where feedback is missing.  \n",
    "This will be done by introducing a synthetic variable: `synthetic_text_score` derived from the trained model."
   ]
  },
  {
   "cell_type": "markdown",
   "id": "0fa9906a",
   "metadata": {
    "papermill": {
     "duration": 0.005618,
     "end_time": "2025-07-21T08:33:27.452168",
     "exception": false,
     "start_time": "2025-07-21T08:33:27.446550",
     "status": "completed"
    },
    "tags": []
   },
   "source": [
    "## 📁 Notebook Series Overview: **Telco Churn & GPT Feedback**\n",
    "<a id=\"notebook-series-overview-telco-churn--gpt-feedback\"></a>\n",
    "\n",
    "This is part of a multi-notebook series focused on **realistic churn prediction** using structured data and GPT-generated customer feedback.  \n",
    "We simulate real-world challenges such as missing text, noisy input, and model fallback logic — building toward a robust, production-style solution.\n",
    "\n",
    "---\n",
    "\n",
    "###  1. Exploring Customer Churn & GPT-generated Feedback\n",
    "\n",
    "> Exploratory analysis of the churn dataset, with focus on customer segments, behavior patterns, and text feedback characteristics.  \n",
    "> Text insights powered by GPT-generated responses.\n",
    "\n",
    "---\n",
    "\n",
    "###  2. Feedback Noise Simulation & Fallback Testing\n",
    "\n",
    "> We simulate feedback imperfections (irrelevant, incomplete, or missing entries) and measure how models perform under noise.  \n",
    "> Introduces the concept of fallback systems for low-signal situations.\n",
    "\n",
    "---\n",
    "\n",
    "### 3. Fallback Model – Logistic vs XGB vs RF vs NN\n",
    "\n",
    "> We train and compare multiple classifiers on **structured-only data** (no feedback):  \n",
    "> Logistic Regression, Random Forest, XGBoost, and Neural Net.  \n",
    "> Best fallback model is selected based on ROC AUC and recall.\n",
    "\n",
    "---\n",
    "\n",
    "###  4. Model with Feedback – Logistic vs XGB vs NN\n",
    "\n",
    "> We focus on customers who left written feedback.  \n",
    "> Structured data is combined with TF-IDF vectors to train a stronger “teacher” model.  \n",
    "> Logistic Regression emerges as the most interpretable and best-performing solution.\n",
    "\n",
    "---\n",
    "\n",
    "### 5. Prediction using Synthetic Feedback Knowledge\n",
    "\n",
    "> Even when customers don’t leave feedback, we simulate its predictive signal using the trained teacher model.  \n",
    "> We generate a `synthetic_text_score` and evaluate whether it helps fallback performance.\n",
    "\n",
    "---\n"
   ]
  }
 ],
 "metadata": {
  "kaggle": {
   "accelerator": "none",
   "dataSources": [
    {
     "datasetId": 13996,
     "sourceId": 18858,
     "sourceType": "datasetVersion"
    },
    {
     "datasetId": 4968559,
     "sourceId": 8360350,
     "sourceType": "datasetVersion"
    },
    {
     "datasetId": 5855544,
     "sourceId": 9598780,
     "sourceType": "datasetVersion"
    },
    {
     "datasetId": 7630515,
     "sourceId": 12257490,
     "sourceType": "datasetVersion"
    }
   ],
   "dockerImageVersionId": 31040,
   "isGpuEnabled": false,
   "isInternetEnabled": true,
   "language": "python",
   "sourceType": "notebook"
  },
  "kernelspec": {
   "display_name": "Python 3",
   "language": "python",
   "name": "python3"
  },
  "language_info": {
   "codemirror_mode": {
    "name": "ipython",
    "version": 3
   },
   "file_extension": ".py",
   "mimetype": "text/x-python",
   "name": "python",
   "nbconvert_exporter": "python",
   "pygments_lexer": "ipython3",
   "version": "3.11.11"
  },
  "papermill": {
   "default_parameters": {},
   "duration": 15.657949,
   "end_time": "2025-07-21T08:33:28.581469",
   "environment_variables": {},
   "exception": null,
   "input_path": "__notebook__.ipynb",
   "output_path": "__notebook__.ipynb",
   "parameters": {},
   "start_time": "2025-07-21T08:33:12.923520",
   "version": "2.6.0"
  }
 },
 "nbformat": 4,
 "nbformat_minor": 5
}
