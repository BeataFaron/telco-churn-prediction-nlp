{
 "cells": [
  {
   "cell_type": "markdown",
   "id": "53b6dbd4",
   "metadata": {
    "papermill": {
     "duration": 0.008147,
     "end_time": "2025-07-21T08:25:31.703500",
     "exception": false,
     "start_time": "2025-07-21T08:25:31.695353",
     "status": "completed"
    },
    "tags": []
   },
   "source": [
    "# Telco Customer Churn & GPT Feedback – Notebook Series\n",
    "\n",
    "We focus on customers who left written feedback, and combine structured features with unstructured text using TF-IDF.  \n",
    "The goal is to train a \"teacher model\" with maximum predictive power, which will later help improve the fallback system.\n",
    "\n",
    "---\n",
    "\n",
    "### Project Structure:\n",
    "\n",
    "1. **Exploring Customer Churn & GPT-generated Feedback**  \n",
    "   → Data exploration & text insights\n",
    "\n",
    "2. **Feedback Noise Simulation & Fallback Testing**  \n",
    "   → Simulate real-world feedback imperfections\n",
    "\n",
    "3. **Fallback Model – Logistic vs XGB vs RF vs NN**  \n",
    "   → Structured-only models, compared & evaluated\n",
    "\n",
    "4. **Model with Feedback – Logistic vs XGB vs NN**  \n",
    "   → Hybrid modeling using structured + textual data\n",
    "\n",
    "5. **Prediction using Synthetic Feedback Knowledge**  \n",
    "   → Transfer feedback model knowledge to fallback model\n"
   ]
  },
  {
   "cell_type": "markdown",
   "id": "0d8d33de",
   "metadata": {
    "papermill": {
     "duration": 0.008712,
     "end_time": "2025-07-21T08:25:31.720510",
     "exception": false,
     "start_time": "2025-07-21T08:25:31.711798",
     "status": "completed"
    },
    "tags": []
   },
   "source": [
    "### Table of Contents\n",
    "1. [Load & Preview the Data](#load)\n",
    "2. [Basic exploration](#Basicexploration)\n",
    "3. [Chrun statistics](#Churnstatistics)\n",
    "4. [Sample Customer Feedback](#SampleCustomerFeedback)\n",
    "5. [Chrun Analysis by Features](#ChrunAnalysisbyFeatures)\n",
    "6. [Feedback exploration](#Feedbackexploration)\n",
    "7. [Simple sentiment anaysis](#Simplesentimentanaysis)\n",
    "8. [Summary](#Summary)\n",
    "9. [Notebook Series Overview](#NotebookSeriesOverview)\n",
    "---\n"
   ]
  },
  {
   "cell_type": "code",
   "execution_count": 1,
   "id": "26f0263f",
   "metadata": {
    "execution": {
     "iopub.execute_input": "2025-07-21T08:25:31.735425Z",
     "iopub.status.busy": "2025-07-21T08:25:31.735073Z",
     "iopub.status.idle": "2025-07-21T08:25:35.526544Z",
     "shell.execute_reply": "2025-07-21T08:25:35.525960Z"
    },
    "papermill": {
     "duration": 3.800762,
     "end_time": "2025-07-21T08:25:35.528032",
     "exception": false,
     "start_time": "2025-07-21T08:25:31.727270",
     "status": "completed"
    },
    "tags": []
   },
   "outputs": [],
   "source": [
    "import pandas as pd\n",
    "import matplotlib.pyplot as plt\n",
    "import seaborn as sns\n",
    "import plotly.express as px\n",
    "import numpy as np\n",
    "\n",
    "plt.style.use('ggplot')\n",
    "sns.set_theme()"
   ]
  },
  {
   "cell_type": "markdown",
   "id": "b528191a",
   "metadata": {
    "papermill": {
     "duration": 0.004649,
     "end_time": "2025-07-21T08:25:35.537905",
     "exception": false,
     "start_time": "2025-07-21T08:25:35.533256",
     "status": "completed"
    },
    "tags": []
   },
   "source": [
    "## 1. Load & Preview the Data\n",
    "<a id='load'></a>"
   ]
  },
  {
   "cell_type": "code",
   "execution_count": 2,
   "id": "f557168f",
   "metadata": {
    "_cell_guid": "b1076dfc-b9ad-4769-8c92-a6c4dae69d19",
    "_uuid": "8f2839f25d086af736a60e9eeb907d3b93b6e0e5",
    "execution": {
     "iopub.execute_input": "2025-07-21T08:25:35.549071Z",
     "iopub.status.busy": "2025-07-21T08:25:35.548178Z",
     "iopub.status.idle": "2025-07-21T08:25:35.711887Z",
     "shell.execute_reply": "2025-07-21T08:25:35.711007Z"
    },
    "papermill": {
     "duration": 0.170717,
     "end_time": "2025-07-21T08:25:35.713411",
     "exception": false,
     "start_time": "2025-07-21T08:25:35.542694",
     "status": "completed"
    },
    "tags": []
   },
   "outputs": [],
   "source": [
    "# Load data\n",
    "df = pd.read_csv('/kaggle/input/telco-customer-churn-realistic-customer-feedback/telco_churn_with_all_feedback.csv')"
   ]
  },
  {
   "cell_type": "markdown",
   "id": "ff110fda",
   "metadata": {
    "papermill": {
     "duration": 0.004768,
     "end_time": "2025-07-21T08:25:35.723828",
     "exception": false,
     "start_time": "2025-07-21T08:25:35.719060",
     "status": "completed"
    },
    "tags": []
   },
   "source": [
    "## 2. Basic exploration\n",
    "<a id='Basicexploration'></a>"
   ]
  },
  {
   "cell_type": "code",
   "execution_count": 3,
   "id": "3e586a3c",
   "metadata": {
    "execution": {
     "iopub.execute_input": "2025-07-21T08:25:35.734851Z",
     "iopub.status.busy": "2025-07-21T08:25:35.734561Z",
     "iopub.status.idle": "2025-07-21T08:25:35.741613Z",
     "shell.execute_reply": "2025-07-21T08:25:35.740805Z"
    },
    "papermill": {
     "duration": 0.014239,
     "end_time": "2025-07-21T08:25:35.742967",
     "exception": false,
     "start_time": "2025-07-21T08:25:35.728728",
     "status": "completed"
    },
    "tags": []
   },
   "outputs": [
    {
     "data": {
      "text/plain": [
       "((7043, 23),\n",
       " Index(['customerID', 'gender', 'SeniorCitizen', 'Partner', 'Dependents',\n",
       "        'tenure', 'PhoneService', 'MultipleLines', 'InternetService',\n",
       "        'OnlineSecurity', 'OnlineBackup', 'DeviceProtection', 'TechSupport',\n",
       "        'StreamingTV', 'StreamingMovies', 'Contract', 'PaperlessBilling',\n",
       "        'PaymentMethod', 'MonthlyCharges', 'TotalCharges', 'Churn',\n",
       "        'PromptInput', 'CustomerFeedback'],\n",
       "       dtype='object'))"
      ]
     },
     "execution_count": 3,
     "metadata": {},
     "output_type": "execute_result"
    }
   ],
   "source": [
    "df.shape, df.columns"
   ]
  },
  {
   "cell_type": "code",
   "execution_count": 4,
   "id": "74822448",
   "metadata": {
    "execution": {
     "iopub.execute_input": "2025-07-21T08:25:35.753996Z",
     "iopub.status.busy": "2025-07-21T08:25:35.753754Z",
     "iopub.status.idle": "2025-07-21T08:25:35.785013Z",
     "shell.execute_reply": "2025-07-21T08:25:35.784096Z"
    },
    "papermill": {
     "duration": 0.038297,
     "end_time": "2025-07-21T08:25:35.786312",
     "exception": false,
     "start_time": "2025-07-21T08:25:35.748015",
     "status": "completed"
    },
    "tags": []
   },
   "outputs": [
    {
     "name": "stdout",
     "output_type": "stream",
     "text": [
      "<class 'pandas.core.frame.DataFrame'>\n",
      "RangeIndex: 7043 entries, 0 to 7042\n",
      "Data columns (total 23 columns):\n",
      " #   Column            Non-Null Count  Dtype  \n",
      "---  ------            --------------  -----  \n",
      " 0   customerID        7043 non-null   object \n",
      " 1   gender            7043 non-null   object \n",
      " 2   SeniorCitizen     7043 non-null   int64  \n",
      " 3   Partner           7043 non-null   object \n",
      " 4   Dependents        7043 non-null   object \n",
      " 5   tenure            7043 non-null   int64  \n",
      " 6   PhoneService      7043 non-null   object \n",
      " 7   MultipleLines     7043 non-null   object \n",
      " 8   InternetService   7043 non-null   object \n",
      " 9   OnlineSecurity    7043 non-null   object \n",
      " 10  OnlineBackup      7043 non-null   object \n",
      " 11  DeviceProtection  7043 non-null   object \n",
      " 12  TechSupport       7043 non-null   object \n",
      " 13  StreamingTV       7043 non-null   object \n",
      " 14  StreamingMovies   7043 non-null   object \n",
      " 15  Contract          7043 non-null   object \n",
      " 16  PaperlessBilling  7043 non-null   object \n",
      " 17  PaymentMethod     7043 non-null   object \n",
      " 18  MonthlyCharges    7043 non-null   float64\n",
      " 19  TotalCharges      7043 non-null   object \n",
      " 20  Churn             7043 non-null   object \n",
      " 21  PromptInput       7043 non-null   object \n",
      " 22  CustomerFeedback  7043 non-null   object \n",
      "dtypes: float64(1), int64(2), object(20)\n",
      "memory usage: 1.2+ MB\n"
     ]
    }
   ],
   "source": [
    "df.info()"
   ]
  },
  {
   "cell_type": "code",
   "execution_count": 5,
   "id": "43b658f9",
   "metadata": {
    "execution": {
     "iopub.execute_input": "2025-07-21T08:25:35.797659Z",
     "iopub.status.busy": "2025-07-21T08:25:35.797439Z",
     "iopub.status.idle": "2025-07-21T08:25:35.823685Z",
     "shell.execute_reply": "2025-07-21T08:25:35.823066Z"
    },
    "papermill": {
     "duration": 0.033311,
     "end_time": "2025-07-21T08:25:35.824972",
     "exception": false,
     "start_time": "2025-07-21T08:25:35.791661",
     "status": "completed"
    },
    "tags": []
   },
   "outputs": [
    {
     "data": {
      "text/html": [
       "<div>\n",
       "<style scoped>\n",
       "    .dataframe tbody tr th:only-of-type {\n",
       "        vertical-align: middle;\n",
       "    }\n",
       "\n",
       "    .dataframe tbody tr th {\n",
       "        vertical-align: top;\n",
       "    }\n",
       "\n",
       "    .dataframe thead th {\n",
       "        text-align: right;\n",
       "    }\n",
       "</style>\n",
       "<table border=\"1\" class=\"dataframe\">\n",
       "  <thead>\n",
       "    <tr style=\"text-align: right;\">\n",
       "      <th></th>\n",
       "      <th>customerID</th>\n",
       "      <th>gender</th>\n",
       "      <th>SeniorCitizen</th>\n",
       "      <th>Partner</th>\n",
       "      <th>Dependents</th>\n",
       "      <th>tenure</th>\n",
       "      <th>PhoneService</th>\n",
       "      <th>MultipleLines</th>\n",
       "      <th>InternetService</th>\n",
       "      <th>OnlineSecurity</th>\n",
       "      <th>...</th>\n",
       "      <th>StreamingTV</th>\n",
       "      <th>StreamingMovies</th>\n",
       "      <th>Contract</th>\n",
       "      <th>PaperlessBilling</th>\n",
       "      <th>PaymentMethod</th>\n",
       "      <th>MonthlyCharges</th>\n",
       "      <th>TotalCharges</th>\n",
       "      <th>Churn</th>\n",
       "      <th>PromptInput</th>\n",
       "      <th>CustomerFeedback</th>\n",
       "    </tr>\n",
       "  </thead>\n",
       "  <tbody>\n",
       "    <tr>\n",
       "      <th>84</th>\n",
       "      <td>0318-ZOPWS</td>\n",
       "      <td>Female</td>\n",
       "      <td>0</td>\n",
       "      <td>Yes</td>\n",
       "      <td>No</td>\n",
       "      <td>49</td>\n",
       "      <td>Yes</td>\n",
       "      <td>No</td>\n",
       "      <td>No</td>\n",
       "      <td>No internet service</td>\n",
       "      <td>...</td>\n",
       "      <td>No internet service</td>\n",
       "      <td>No internet service</td>\n",
       "      <td>Two year</td>\n",
       "      <td>Yes</td>\n",
       "      <td>Bank transfer (automatic)</td>\n",
       "      <td>20.15</td>\n",
       "      <td>973.35</td>\n",
       "      <td>No</td>\n",
       "      <td>Write a realistic customer feedback based on t...</td>\n",
       "      <td>I have been a customer with this company for a...</td>\n",
       "    </tr>\n",
       "    <tr>\n",
       "      <th>6442</th>\n",
       "      <td>9278-VZKCD</td>\n",
       "      <td>Female</td>\n",
       "      <td>1</td>\n",
       "      <td>Yes</td>\n",
       "      <td>No</td>\n",
       "      <td>52</td>\n",
       "      <td>Yes</td>\n",
       "      <td>Yes</td>\n",
       "      <td>Fiber optic</td>\n",
       "      <td>Yes</td>\n",
       "      <td>...</td>\n",
       "      <td>Yes</td>\n",
       "      <td>Yes</td>\n",
       "      <td>Month-to-month</td>\n",
       "      <td>Yes</td>\n",
       "      <td>Electronic check</td>\n",
       "      <td>109.10</td>\n",
       "      <td>5647.95</td>\n",
       "      <td>No</td>\n",
       "      <td>Write a realistic customer feedback based on t...</td>\n",
       "      <td>I have been a customer with this company for o...</td>\n",
       "    </tr>\n",
       "    <tr>\n",
       "      <th>4080</th>\n",
       "      <td>2091-GPPIQ</td>\n",
       "      <td>Female</td>\n",
       "      <td>0</td>\n",
       "      <td>Yes</td>\n",
       "      <td>Yes</td>\n",
       "      <td>72</td>\n",
       "      <td>Yes</td>\n",
       "      <td>Yes</td>\n",
       "      <td>DSL</td>\n",
       "      <td>No</td>\n",
       "      <td>...</td>\n",
       "      <td>Yes</td>\n",
       "      <td>Yes</td>\n",
       "      <td>Two year</td>\n",
       "      <td>Yes</td>\n",
       "      <td>Electronic check</td>\n",
       "      <td>78.95</td>\n",
       "      <td>5730.15</td>\n",
       "      <td>No</td>\n",
       "      <td>Write a realistic customer feedback based on t...</td>\n",
       "      <td>I have been a loyal customer with this DSL pro...</td>\n",
       "    </tr>\n",
       "    <tr>\n",
       "      <th>249</th>\n",
       "      <td>0959-WHOKV</td>\n",
       "      <td>Male</td>\n",
       "      <td>0</td>\n",
       "      <td>No</td>\n",
       "      <td>No</td>\n",
       "      <td>42</td>\n",
       "      <td>Yes</td>\n",
       "      <td>Yes</td>\n",
       "      <td>Fiber optic</td>\n",
       "      <td>Yes</td>\n",
       "      <td>...</td>\n",
       "      <td>No</td>\n",
       "      <td>Yes</td>\n",
       "      <td>One year</td>\n",
       "      <td>Yes</td>\n",
       "      <td>Electronic check</td>\n",
       "      <td>99.00</td>\n",
       "      <td>4298.45</td>\n",
       "      <td>No</td>\n",
       "      <td>Write a realistic customer feedback based on t...</td>\n",
       "      <td>\"I have been a customer for 42 months now and ...</td>\n",
       "    </tr>\n",
       "    <tr>\n",
       "      <th>5697</th>\n",
       "      <td>0581-BXBUB</td>\n",
       "      <td>Female</td>\n",
       "      <td>1</td>\n",
       "      <td>No</td>\n",
       "      <td>No</td>\n",
       "      <td>4</td>\n",
       "      <td>Yes</td>\n",
       "      <td>No</td>\n",
       "      <td>Fiber optic</td>\n",
       "      <td>No</td>\n",
       "      <td>...</td>\n",
       "      <td>No</td>\n",
       "      <td>No</td>\n",
       "      <td>Month-to-month</td>\n",
       "      <td>No</td>\n",
       "      <td>Electronic check</td>\n",
       "      <td>72.75</td>\n",
       "      <td>317.75</td>\n",
       "      <td>No</td>\n",
       "      <td>Write a realistic customer feedback based on t...</td>\n",
       "      <td>I have been a customer with this fiber optic i...</td>\n",
       "    </tr>\n",
       "  </tbody>\n",
       "</table>\n",
       "<p>5 rows × 23 columns</p>\n",
       "</div>"
      ],
      "text/plain": [
       "      customerID  gender  SeniorCitizen Partner Dependents  tenure  \\\n",
       "84    0318-ZOPWS  Female              0     Yes         No      49   \n",
       "6442  9278-VZKCD  Female              1     Yes         No      52   \n",
       "4080  2091-GPPIQ  Female              0     Yes        Yes      72   \n",
       "249   0959-WHOKV    Male              0      No         No      42   \n",
       "5697  0581-BXBUB  Female              1      No         No       4   \n",
       "\n",
       "     PhoneService MultipleLines InternetService       OnlineSecurity  ...  \\\n",
       "84            Yes            No              No  No internet service  ...   \n",
       "6442          Yes           Yes     Fiber optic                  Yes  ...   \n",
       "4080          Yes           Yes             DSL                   No  ...   \n",
       "249           Yes           Yes     Fiber optic                  Yes  ...   \n",
       "5697          Yes            No     Fiber optic                   No  ...   \n",
       "\n",
       "              StreamingTV      StreamingMovies        Contract  \\\n",
       "84    No internet service  No internet service        Two year   \n",
       "6442                  Yes                  Yes  Month-to-month   \n",
       "4080                  Yes                  Yes        Two year   \n",
       "249                    No                  Yes        One year   \n",
       "5697                   No                   No  Month-to-month   \n",
       "\n",
       "     PaperlessBilling              PaymentMethod MonthlyCharges TotalCharges  \\\n",
       "84                Yes  Bank transfer (automatic)          20.15       973.35   \n",
       "6442              Yes           Electronic check         109.10      5647.95   \n",
       "4080              Yes           Electronic check          78.95      5730.15   \n",
       "249               Yes           Electronic check          99.00      4298.45   \n",
       "5697               No           Electronic check          72.75       317.75   \n",
       "\n",
       "     Churn                                        PromptInput  \\\n",
       "84      No  Write a realistic customer feedback based on t...   \n",
       "6442    No  Write a realistic customer feedback based on t...   \n",
       "4080    No  Write a realistic customer feedback based on t...   \n",
       "249     No  Write a realistic customer feedback based on t...   \n",
       "5697    No  Write a realistic customer feedback based on t...   \n",
       "\n",
       "                                       CustomerFeedback  \n",
       "84    I have been a customer with this company for a...  \n",
       "6442  I have been a customer with this company for o...  \n",
       "4080  I have been a loyal customer with this DSL pro...  \n",
       "249   \"I have been a customer for 42 months now and ...  \n",
       "5697  I have been a customer with this fiber optic i...  \n",
       "\n",
       "[5 rows x 23 columns]"
      ]
     },
     "execution_count": 5,
     "metadata": {},
     "output_type": "execute_result"
    }
   ],
   "source": [
    "df.sample(5)"
   ]
  },
  {
   "cell_type": "code",
   "execution_count": 6,
   "id": "5b9eb7aa",
   "metadata": {
    "execution": {
     "iopub.execute_input": "2025-07-21T08:25:35.837677Z",
     "iopub.status.busy": "2025-07-21T08:25:35.836926Z",
     "iopub.status.idle": "2025-07-21T08:25:35.849986Z",
     "shell.execute_reply": "2025-07-21T08:25:35.849314Z"
    },
    "papermill": {
     "duration": 0.020263,
     "end_time": "2025-07-21T08:25:35.851164",
     "exception": false,
     "start_time": "2025-07-21T08:25:35.830901",
     "status": "completed"
    },
    "tags": []
   },
   "outputs": [
    {
     "data": {
      "text/plain": [
       "customerID          0\n",
       "gender              0\n",
       "SeniorCitizen       0\n",
       "Partner             0\n",
       "Dependents          0\n",
       "tenure              0\n",
       "PhoneService        0\n",
       "MultipleLines       0\n",
       "InternetService     0\n",
       "OnlineSecurity      0\n",
       "OnlineBackup        0\n",
       "DeviceProtection    0\n",
       "TechSupport         0\n",
       "StreamingTV         0\n",
       "StreamingMovies     0\n",
       "Contract            0\n",
       "PaperlessBilling    0\n",
       "PaymentMethod       0\n",
       "MonthlyCharges      0\n",
       "TotalCharges        0\n",
       "Churn               0\n",
       "PromptInput         0\n",
       "CustomerFeedback    0\n",
       "dtype: int64"
      ]
     },
     "execution_count": 6,
     "metadata": {},
     "output_type": "execute_result"
    }
   ],
   "source": [
    "df.isnull().sum()"
   ]
  },
  {
   "cell_type": "markdown",
   "id": "c826c175",
   "metadata": {
    "papermill": {
     "duration": 0.005442,
     "end_time": "2025-07-21T08:25:35.862377",
     "exception": false,
     "start_time": "2025-07-21T08:25:35.856935",
     "status": "completed"
    },
    "tags": []
   },
   "source": [
    "## 3. Churn statistics\n",
    "<a id='Churnstatistics'></a>"
   ]
  },
  {
   "cell_type": "code",
   "execution_count": 7,
   "id": "93b2e609",
   "metadata": {
    "execution": {
     "iopub.execute_input": "2025-07-21T08:25:35.874516Z",
     "iopub.status.busy": "2025-07-21T08:25:35.873919Z",
     "iopub.status.idle": "2025-07-21T08:25:35.880484Z",
     "shell.execute_reply": "2025-07-21T08:25:35.879957Z"
    },
    "papermill": {
     "duration": 0.013891,
     "end_time": "2025-07-21T08:25:35.881628",
     "exception": false,
     "start_time": "2025-07-21T08:25:35.867737",
     "status": "completed"
    },
    "tags": []
   },
   "outputs": [
    {
     "data": {
      "text/plain": [
       "1.0"
      ]
     },
     "execution_count": 7,
     "metadata": {},
     "output_type": "execute_result"
    }
   ],
   "source": [
    "# Percentage of customers with feedback\n",
    "has_feedback = df['CustomerFeedback'].notna()\n",
    "df['HasFeedback'] = has_feedback\n",
    "has_feedback.mean()"
   ]
  },
  {
   "cell_type": "code",
   "execution_count": 8,
   "id": "cad21a3c",
   "metadata": {
    "execution": {
     "iopub.execute_input": "2025-07-21T08:25:35.893738Z",
     "iopub.status.busy": "2025-07-21T08:25:35.893202Z",
     "iopub.status.idle": "2025-07-21T08:25:35.906297Z",
     "shell.execute_reply": "2025-07-21T08:25:35.905744Z"
    },
    "papermill": {
     "duration": 0.020173,
     "end_time": "2025-07-21T08:25:35.907271",
     "exception": false,
     "start_time": "2025-07-21T08:25:35.887098",
     "status": "completed"
    },
    "tags": []
   },
   "outputs": [
    {
     "data": {
      "text/plain": [
       "count    7043.000000\n",
       "mean      460.571205\n",
       "std        68.197917\n",
       "min       277.000000\n",
       "25%       414.000000\n",
       "50%       454.000000\n",
       "75%       499.000000\n",
       "max       840.000000\n",
       "Name: feedback_length, dtype: float64"
      ]
     },
     "execution_count": 8,
     "metadata": {},
     "output_type": "execute_result"
    }
   ],
   "source": [
    "df['feedback_length'] = df['CustomerFeedback'].str.len()\n",
    "df['feedback_length'].describe()"
   ]
  },
  {
   "cell_type": "code",
   "execution_count": 9,
   "id": "908041b2",
   "metadata": {
    "execution": {
     "iopub.execute_input": "2025-07-21T08:25:35.919533Z",
     "iopub.status.busy": "2025-07-21T08:25:35.919014Z",
     "iopub.status.idle": "2025-07-21T08:25:35.925024Z",
     "shell.execute_reply": "2025-07-21T08:25:35.924359Z"
    },
    "papermill": {
     "duration": 0.013165,
     "end_time": "2025-07-21T08:25:35.926121",
     "exception": false,
     "start_time": "2025-07-21T08:25:35.912956",
     "status": "completed"
    },
    "tags": []
   },
   "outputs": [
    {
     "data": {
      "text/plain": [
       "Churn\n",
       "No     0.73463\n",
       "Yes    0.26537\n",
       "Name: proportion, dtype: float64"
      ]
     },
     "execution_count": 9,
     "metadata": {},
     "output_type": "execute_result"
    }
   ],
   "source": [
    "df['Churn'].value_counts(normalize=True)"
   ]
  },
  {
   "cell_type": "markdown",
   "id": "0b193347",
   "metadata": {
    "papermill": {
     "duration": 0.005571,
     "end_time": "2025-07-21T08:25:35.937245",
     "exception": false,
     "start_time": "2025-07-21T08:25:35.931674",
     "status": "completed"
    },
    "tags": []
   },
   "source": [
    "## 4. Sample Customer Feedback\n",
    "<a id='SampleCustomerFeedback'></a>"
   ]
  },
  {
   "cell_type": "code",
   "execution_count": 10,
   "id": "68218f78",
   "metadata": {
    "execution": {
     "iopub.execute_input": "2025-07-21T08:25:35.948980Z",
     "iopub.status.busy": "2025-07-21T08:25:35.948750Z",
     "iopub.status.idle": "2025-07-21T08:25:35.960339Z",
     "shell.execute_reply": "2025-07-21T08:25:35.959768Z"
    },
    "papermill": {
     "duration": 0.018779,
     "end_time": "2025-07-21T08:25:35.961361",
     "exception": false,
     "start_time": "2025-07-21T08:25:35.942582",
     "status": "completed"
    },
    "tags": []
   },
   "outputs": [
    {
     "data": {
      "text/html": [
       "<div>\n",
       "<style scoped>\n",
       "    .dataframe tbody tr th:only-of-type {\n",
       "        vertical-align: middle;\n",
       "    }\n",
       "\n",
       "    .dataframe tbody tr th {\n",
       "        vertical-align: top;\n",
       "    }\n",
       "\n",
       "    .dataframe thead th {\n",
       "        text-align: right;\n",
       "    }\n",
       "</style>\n",
       "<table border=\"1\" class=\"dataframe\">\n",
       "  <thead>\n",
       "    <tr style=\"text-align: right;\">\n",
       "      <th></th>\n",
       "      <th>customerID</th>\n",
       "      <th>CustomerFeedback</th>\n",
       "    </tr>\n",
       "  </thead>\n",
       "  <tbody>\n",
       "    <tr>\n",
       "      <th>4572</th>\n",
       "      <td>6481-OGDOO</td>\n",
       "      <td>\"I've been a loyal customer for over 5 years now, but unfortunately I've decided to churn. The $90.6 monthly charges for fiber optic internet were starting to become too costly for me. I appreciated the convenience of automatic credit card payments, but ultimately I had to make a change due to budget constraints. Overall, the service was reliable and the speeds were great, but I needed to find a more affordable option.\"</td>\n",
       "    </tr>\n",
       "    <tr>\n",
       "      <th>5971</th>\n",
       "      <td>8749-JMNKX</td>\n",
       "      <td>I have been a customer with this company for over four years and have been relatively satisfied with the service provided. However, I recently decided to switch to a different provider due to better pricing options. The monthly charges were a bit high for me at $93.8, especially considering I was on a month-to-month contract. The fiber optic internet service was reliable and fast, but I felt that I could find a better deal elsewhere. The automatic bank transfer payment method was convenient and hassle-free. Overall, I had a positive experience with the company but ultimately chose to leave due to pricing considerations.</td>\n",
       "    </tr>\n",
       "    <tr>\n",
       "      <th>5927</th>\n",
       "      <td>4585-HETAI</td>\n",
       "      <td>I recently switched to this internet provider four months ago and unfortunately, I have already decided to churn. While the fiber optic internet service was fast and reliable, I found the monthly charges to be on the higher side at $73.75. Additionally, the payment method of electronic check was not very convenient for me. Overall, I was satisfied with the service quality but ultimately decided to switch to a different provider for better pricing and payment options.</td>\n",
       "    </tr>\n",
       "  </tbody>\n",
       "</table>\n",
       "</div>"
      ],
      "text/plain": [
       "      customerID  \\\n",
       "4572  6481-OGDOO   \n",
       "5971  8749-JMNKX   \n",
       "5927  4585-HETAI   \n",
       "\n",
       "                                                                                                                                                                                                                                                                                                                                                                                                                                                                                                                                                                                                                                         CustomerFeedback  \n",
       "4572                                                                                                                                                                                                              \"I've been a loyal customer for over 5 years now, but unfortunately I've decided to churn. The $90.6 monthly charges for fiber optic internet were starting to become too costly for me. I appreciated the convenience of automatic credit card payments, but ultimately I had to make a change due to budget constraints. Overall, the service was reliable and the speeds were great, but I needed to find a more affordable option.\"  \n",
       "5971  I have been a customer with this company for over four years and have been relatively satisfied with the service provided. However, I recently decided to switch to a different provider due to better pricing options. The monthly charges were a bit high for me at $93.8, especially considering I was on a month-to-month contract. The fiber optic internet service was reliable and fast, but I felt that I could find a better deal elsewhere. The automatic bank transfer payment method was convenient and hassle-free. Overall, I had a positive experience with the company but ultimately chose to leave due to pricing considerations.  \n",
       "5927                                                                                                                                                              I recently switched to this internet provider four months ago and unfortunately, I have already decided to churn. While the fiber optic internet service was fast and reliable, I found the monthly charges to be on the higher side at $73.75. Additionally, the payment method of electronic check was not very convenient for me. Overall, I was satisfied with the service quality but ultimately decided to switch to a different provider for better pricing and payment options.  "
      ]
     },
     "execution_count": 10,
     "metadata": {},
     "output_type": "execute_result"
    }
   ],
   "source": [
    "pd.set_option('display.max_colwidth', None)\n",
    "# Sample loyal customers with feedback\n",
    "churned = df[(df['Churn'] == 'Yes')]\n",
    "churned[['customerID', 'CustomerFeedback']].sample(3, random_state=1)"
   ]
  },
  {
   "cell_type": "code",
   "execution_count": 11,
   "id": "4a98f50d",
   "metadata": {
    "execution": {
     "iopub.execute_input": "2025-07-21T08:25:35.974342Z",
     "iopub.status.busy": "2025-07-21T08:25:35.973868Z",
     "iopub.status.idle": "2025-07-21T08:25:35.983933Z",
     "shell.execute_reply": "2025-07-21T08:25:35.983318Z"
    },
    "papermill": {
     "duration": 0.017648,
     "end_time": "2025-07-21T08:25:35.985008",
     "exception": false,
     "start_time": "2025-07-21T08:25:35.967360",
     "status": "completed"
    },
    "tags": []
   },
   "outputs": [
    {
     "data": {
      "text/html": [
       "<div>\n",
       "<style scoped>\n",
       "    .dataframe tbody tr th:only-of-type {\n",
       "        vertical-align: middle;\n",
       "    }\n",
       "\n",
       "    .dataframe tbody tr th {\n",
       "        vertical-align: top;\n",
       "    }\n",
       "\n",
       "    .dataframe thead th {\n",
       "        text-align: right;\n",
       "    }\n",
       "</style>\n",
       "<table border=\"1\" class=\"dataframe\">\n",
       "  <thead>\n",
       "    <tr style=\"text-align: right;\">\n",
       "      <th></th>\n",
       "      <th>customerID</th>\n",
       "      <th>CustomerFeedback</th>\n",
       "    </tr>\n",
       "  </thead>\n",
       "  <tbody>\n",
       "    <tr>\n",
       "      <th>6673</th>\n",
       "      <td>4439-YRNVD</td>\n",
       "      <td>I have been a customer with this DSL provider for 10 months now on a month-to-month contract with a monthly charge of $36.25. I have found the service to be reliable and the internet speed to be sufficient for my needs. I appreciate the convenience of paying with electronic check. Overall, I am satisfied with the service and have had no issues that would make me consider switching providers.</td>\n",
       "    </tr>\n",
       "    <tr>\n",
       "      <th>1785</th>\n",
       "      <td>0506-YLVKJ</td>\n",
       "      <td>I have been a customer with this company for 46 months now and I have been very satisfied with their service. I appreciate the affordable monthly charges of $20.2 and the convenience of being able to pay through mailed check. Even though I do not use their internet service, I have had no issues with the other services provided. Overall, I have had a positive experience and would recommend this company to others.</td>\n",
       "    </tr>\n",
       "    <tr>\n",
       "      <th>1539</th>\n",
       "      <td>4632-PAOYU</td>\n",
       "      <td>I have been a customer with this company for almost two years now and I have been satisfied with the service. Even though I do not have internet service with them, I appreciate the affordable monthly charges of $19.95. I prefer to pay by mailed check and have had no issues with the payment process. Overall, I have had a positive experience with this company and have no plans to churn in the near future.</td>\n",
       "    </tr>\n",
       "  </tbody>\n",
       "</table>\n",
       "</div>"
      ],
      "text/plain": [
       "      customerID  \\\n",
       "6673  4439-YRNVD   \n",
       "1785  0506-YLVKJ   \n",
       "1539  4632-PAOYU   \n",
       "\n",
       "                                                                                                                                                                                                                                                                                                                                                                                                                     CustomerFeedback  \n",
       "6673                       I have been a customer with this DSL provider for 10 months now on a month-to-month contract with a monthly charge of $36.25. I have found the service to be reliable and the internet speed to be sufficient for my needs. I appreciate the convenience of paying with electronic check. Overall, I am satisfied with the service and have had no issues that would make me consider switching providers.  \n",
       "1785  I have been a customer with this company for 46 months now and I have been very satisfied with their service. I appreciate the affordable monthly charges of $20.2 and the convenience of being able to pay through mailed check. Even though I do not use their internet service, I have had no issues with the other services provided. Overall, I have had a positive experience and would recommend this company to others.  \n",
       "1539           I have been a customer with this company for almost two years now and I have been satisfied with the service. Even though I do not have internet service with them, I appreciate the affordable monthly charges of $19.95. I prefer to pay by mailed check and have had no issues with the payment process. Overall, I have had a positive experience with this company and have no plans to churn in the near future.  "
      ]
     },
     "execution_count": 11,
     "metadata": {},
     "output_type": "execute_result"
    }
   ],
   "source": [
    "# Sample loyal customers with feedback\n",
    "churned = df[(df['Churn'] == 'No')]\n",
    "churned[['customerID', 'CustomerFeedback']].sample(3, random_state=1)"
   ]
  },
  {
   "cell_type": "markdown",
   "id": "6b95e139",
   "metadata": {
    "papermill": {
     "duration": 0.005702,
     "end_time": "2025-07-21T08:25:35.996651",
     "exception": false,
     "start_time": "2025-07-21T08:25:35.990949",
     "status": "completed"
    },
    "tags": []
   },
   "source": [
    "## 5. Churn Analysis by Features\n",
    "<a id='ChurnAnalysisbyFeatures'></a>"
   ]
  },
  {
   "cell_type": "code",
   "execution_count": 12,
   "id": "96cdfa64",
   "metadata": {
    "execution": {
     "iopub.execute_input": "2025-07-21T08:25:36.009421Z",
     "iopub.status.busy": "2025-07-21T08:25:36.008944Z",
     "iopub.status.idle": "2025-07-21T08:25:36.326009Z",
     "shell.execute_reply": "2025-07-21T08:25:36.325243Z"
    },
    "papermill": {
     "duration": 0.324957,
     "end_time": "2025-07-21T08:25:36.327270",
     "exception": false,
     "start_time": "2025-07-21T08:25:36.002313",
     "status": "completed"
    },
    "tags": []
   },
   "outputs": [
    {
     "data": {
      "image/png": "[encoded data removed]",
      "text/plain": [
       "<Figure size 800x500 with 1 Axes>"
      ]
     },
     "metadata": {},
     "output_type": "display_data"
    }
   ],
   "source": [
    "# Binary mapping\n",
    "df['ChurnBinary'] = df['Churn'].map({'No': 0, 'Yes': 1})\n",
    "\n",
    "# Numeric features\n",
    "numeric_cols = df.select_dtypes(include=['int64', 'float64']).columns\n",
    "correlations = df[numeric_cols].corrwith(df['ChurnBinary']).sort_values()\n",
    "\n",
    "# Barplot\n",
    "plt.figure(figsize=(8, 5))\n",
    "sns.barplot(x=correlations.values, y=correlations.index, palette='coolwarm')\n",
    "plt.title(\"Correlation of Numeric Features with Churn\")\n",
    "plt.xlabel(\"Correlation coefficient\")\n",
    "plt.xlim(-1, 1)\n",
    "plt.tight_layout()\n",
    "plt.show()\n"
   ]
  },
  {
   "cell_type": "markdown",
   "id": "a974615f",
   "metadata": {
    "papermill": {
     "duration": 0.006317,
     "end_time": "2025-07-21T08:25:36.340596",
     "exception": false,
     "start_time": "2025-07-21T08:25:36.334279",
     "status": "completed"
    },
    "tags": []
   },
   "source": [
    ">The plot shows the Pearson correlation between numerical features and churn probability (ChurnBinary).\n",
    "\n",
    ">Positive correlations (in red): Features like feedback_length and MonthlyCharges are positively associated with churn — customers with higher values here are more likely to leave.\n",
    "\n",
    ">Negative correlations (in blue): Features like tenure are negatively correlated with churn — indicating longer-tenured or more satisfied customers tend to stay.\n",
    "\n",
    ">While the correlation values are moderate, they support intuitive hypotheses and can guide feature selection in churn modeling."
   ]
  },
  {
   "cell_type": "code",
   "execution_count": 13,
   "id": "37bbfc9f",
   "metadata": {
    "execution": {
     "iopub.execute_input": "2025-07-21T08:25:36.354893Z",
     "iopub.status.busy": "2025-07-21T08:25:36.354279Z",
     "iopub.status.idle": "2025-07-21T08:25:36.485106Z",
     "shell.execute_reply": "2025-07-21T08:25:36.484420Z"
    },
    "papermill": {
     "duration": 0.139323,
     "end_time": "2025-07-21T08:25:36.486298",
     "exception": false,
     "start_time": "2025-07-21T08:25:36.346975",
     "status": "completed"
    },
    "tags": []
   },
   "outputs": [
    {
     "data": {
      "image/png": "[encoded data removed]",
      "text/plain": [
       "<Figure size 640x480 with 1 Axes>"
      ]
     },
     "metadata": {},
     "output_type": "display_data"
    }
   ],
   "source": [
    "sns.countplot(data=df, x='Churn')\n",
    "plt.title('Churn Distribution')\n",
    "plt.show()"
   ]
  },
  {
   "cell_type": "markdown",
   "id": "65cacd21",
   "metadata": {
    "papermill": {
     "duration": 0.00653,
     "end_time": "2025-07-21T08:25:36.500006",
     "exception": false,
     "start_time": "2025-07-21T08:25:36.493476",
     "status": "completed"
    },
    "tags": []
   },
   "source": [
    ">This plot shows the class distribution for the Churn variable.<br>\n",
    "Approximately 26.5% of customers in the dataset have churned (Yes)<br>\n",
    "The remaining 73.5% stayed with the company (No)<br>\n",
    "This class imbalance is common in churn problems and should be addressed during modeling (e.g. with stratified sampling, rebalancing techniques, or adjusted thresholds)."
   ]
  },
  {
   "cell_type": "code",
   "execution_count": 14,
   "id": "0f0ba7e6",
   "metadata": {
    "execution": {
     "iopub.execute_input": "2025-07-21T08:25:36.514250Z",
     "iopub.status.busy": "2025-07-21T08:25:36.513988Z",
     "iopub.status.idle": "2025-07-21T08:25:36.684429Z",
     "shell.execute_reply": "2025-07-21T08:25:36.683623Z"
    },
    "papermill": {
     "duration": 0.179227,
     "end_time": "2025-07-21T08:25:36.685630",
     "exception": false,
     "start_time": "2025-07-21T08:25:36.506403",
     "status": "completed"
    },
    "tags": []
   },
   "outputs": [
    {
     "data": {
      "image/png": "[encoded data removed]",
      "text/plain": [
       "<Figure size 1200x400 with 1 Axes>"
      ]
     },
     "metadata": {},
     "output_type": "display_data"
    }
   ],
   "source": [
    "# churn vs contract / internet\n",
    "plt.figure(figsize=(12, 4))\n",
    "sns.countplot(x='Contract', hue='Churn', data=df)\n",
    "plt.title('Churn vs Contract Type')\n",
    "plt.show()\n"
   ]
  },
  {
   "cell_type": "markdown",
   "id": "a71f53e9",
   "metadata": {
    "papermill": {
     "duration": 0.007318,
     "end_time": "2025-07-21T08:25:36.700620",
     "exception": false,
     "start_time": "2025-07-21T08:25:36.693302",
     "status": "completed"
    },
    "tags": []
   },
   "source": [
    ">Customers on Month-to-month contracts are far more likely to churn than those with 1- or 2-year agreements. <br>\n",
    "Long-term contracts (1 or 2 years) show a clear retention effect — churn is minimal in these segments.<br>\n",
    "This highlights the importance of commitment-based plans in customer retention strategies.<br>"
   ]
  },
  {
   "cell_type": "code",
   "execution_count": 15,
   "id": "6410e530",
   "metadata": {
    "execution": {
     "iopub.execute_input": "2025-07-21T08:25:36.716803Z",
     "iopub.status.busy": "2025-07-21T08:25:36.716496Z",
     "iopub.status.idle": "2025-07-21T08:25:36.902463Z",
     "shell.execute_reply": "2025-07-21T08:25:36.901752Z"
    },
    "papermill": {
     "duration": 0.195643,
     "end_time": "2025-07-21T08:25:36.903721",
     "exception": false,
     "start_time": "2025-07-21T08:25:36.708078",
     "status": "completed"
    },
    "tags": []
   },
   "outputs": [
    {
     "data": {
      "image/png": "[encoded data removed]",
      "text/plain": [
       "<Figure size 640x480 with 1 Axes>"
      ]
     },
     "metadata": {},
     "output_type": "display_data"
    }
   ],
   "source": [
    "# Internet Service\n",
    "sns.countplot(data=df, x='InternetService', hue='Churn')\n",
    "plt.title('Churn by Internet Service')\n",
    "plt.show()"
   ]
  },
  {
   "cell_type": "markdown",
   "id": "2225436a",
   "metadata": {
    "papermill": {
     "duration": 0.008125,
     "end_time": "2025-07-21T08:25:36.920424",
     "exception": false,
     "start_time": "2025-07-21T08:25:36.912299",
     "status": "completed"
    },
    "tags": []
   },
   "source": [
    ">Fiber optic customers show the highest churn rates, despite being on a modern service.<br>\n",
    "Customers without internet service rarely churn — possibly indicating lower expectations or simpler plans.<br>\n",
    "The churn rate among DSL customers is moderate, suggesting mixed satisfaction or value perception.<br>"
   ]
  },
  {
   "cell_type": "code",
   "execution_count": 16,
   "id": "3dffe856",
   "metadata": {
    "execution": {
     "iopub.execute_input": "2025-07-21T08:25:36.938246Z",
     "iopub.status.busy": "2025-07-21T08:25:36.937985Z",
     "iopub.status.idle": "2025-07-21T08:25:37.085680Z",
     "shell.execute_reply": "2025-07-21T08:25:37.084895Z"
    },
    "papermill": {
     "duration": 0.157784,
     "end_time": "2025-07-21T08:25:37.086846",
     "exception": false,
     "start_time": "2025-07-21T08:25:36.929062",
     "status": "completed"
    },
    "tags": []
   },
   "outputs": [
    {
     "data": {
      "image/png": "[encoded data removed]",
      "text/plain": [
       "<Figure size 1200x400 with 1 Axes>"
      ]
     },
     "metadata": {},
     "output_type": "display_data"
    }
   ],
   "source": [
    "plt.figure(figsize=(12, 4))\n",
    "sns.boxplot(x='Churn', y='MonthlyCharges', data=df)\n",
    "plt.title('Monthly Charges vs Churn')\n",
    "plt.show()"
   ]
  },
  {
   "cell_type": "markdown",
   "id": "2cdbae9f",
   "metadata": {
    "papermill": {
     "duration": 0.008578,
     "end_time": "2025-07-21T08:25:37.157823",
     "exception": false,
     "start_time": "2025-07-21T08:25:37.149245",
     "status": "completed"
    },
    "tags": []
   },
   "source": [
    ">Customers who churn tend to have slightly higher monthly charges on average. <br>\n",
    "The distribution is wider among churned users, suggesting that pricing may be a key factor in customer dissatisfaction.  <br>\n",
    "This supports the hypothesis that high monthly cost can be a churn driver, especially for cost-sensitive segments.  <br>"
   ]
  },
  {
   "cell_type": "markdown",
   "id": "ad061e4d",
   "metadata": {
    "papermill": {
     "duration": 0.008526,
     "end_time": "2025-07-21T08:25:37.175071",
     "exception": false,
     "start_time": "2025-07-21T08:25:37.166545",
     "status": "completed"
    },
    "tags": []
   },
   "source": [
    "## 6. Feedback exploration\n",
    "<a id='Feedbackexploration'></a>"
   ]
  },
  {
   "cell_type": "code",
   "execution_count": 17,
   "id": "b0c08b38",
   "metadata": {
    "execution": {
     "iopub.execute_input": "2025-07-21T08:25:37.193548Z",
     "iopub.status.busy": "2025-07-21T08:25:37.193239Z",
     "iopub.status.idle": "2025-07-21T08:25:37.336203Z",
     "shell.execute_reply": "2025-07-21T08:25:37.335542Z"
    },
    "papermill": {
     "duration": 0.153604,
     "end_time": "2025-07-21T08:25:37.337431",
     "exception": false,
     "start_time": "2025-07-21T08:25:37.183827",
     "status": "completed"
    },
    "tags": []
   },
   "outputs": [
    {
     "data": {
      "image/png": "[encoded data removed]",
      "text/plain": [
       "<Figure size 640x480 with 1 Axes>"
      ]
     },
     "metadata": {},
     "output_type": "display_data"
    }
   ],
   "source": [
    "# Distribution of feedback lengths by churn\n",
    "sns.boxplot(data=df, x='Churn', y='feedback_length')\n",
    "plt.title('Feedback Length by Churn')\n",
    "plt.show()"
   ]
  },
  {
   "cell_type": "markdown",
   "id": "900cfae3",
   "metadata": {
    "papermill": {
     "duration": 0.009277,
     "end_time": "2025-07-21T08:25:37.357404",
     "exception": false,
     "start_time": "2025-07-21T08:25:37.348127",
     "status": "completed"
    },
    "tags": []
   },
   "source": [
    ">Churned customers leave longer textual feedback on average than those who stay. <br>\n",
    "This may indicate stronger emotional responses or more detailed complaints among those who leave. <br>\n",
    "Feedback length can be used as a proxy for engagement or dissatisfaction in modeling. <br>"
   ]
  },
  {
   "cell_type": "code",
   "execution_count": 18,
   "id": "82873b8d",
   "metadata": {
    "execution": {
     "iopub.execute_input": "2025-07-21T08:25:37.377198Z",
     "iopub.status.busy": "2025-07-21T08:25:37.376934Z",
     "iopub.status.idle": "2025-07-21T08:25:37.382189Z",
     "shell.execute_reply": "2025-07-21T08:25:37.381554Z"
    },
    "papermill": {
     "duration": 0.016376,
     "end_time": "2025-07-21T08:25:37.383250",
     "exception": false,
     "start_time": "2025-07-21T08:25:37.366874",
     "status": "completed"
    },
    "tags": []
   },
   "outputs": [
    {
     "data": {
      "text/plain": [
       "['I have been with this DSL service provider for 6 years now and I am extremely satisfied with the service. The monthly charges are reasonable at $84.2 and I appreciate the convenience of automatic bank transfers for payment. The internet service has been reliable and consistent throughout my tenure, with no issues of churn. I highly recommend this provider to others looking for a dependable internet service.',\n",
       " 'I recently decided to cancel my service with this provider after being with them for 18 months. While I initially signed a one-year contract, I found that the monthly charges of $82.0 for DSL internet were too high for the quality of service I was receiving. The automatic credit card payments were convenient, but ultimately I was not satisfied with the reliability and speed of the internet service. I have since switched to a different provider that offers better value for the price.',\n",
       " 'I have been a customer with this company for 10 months now and I am very satisfied with the service. The automatic bank transfer payment method makes it convenient for me to pay my monthly charges of $19.6. Even though I do not have internet service with them, I have had no issues with my contract and am happy to continue with them for the remaining 2 months of my one-year contract. Overall, I would recommend this company to others.',\n",
       " 'I have been a loyal customer with this DSL internet service provider for 25 months now and I have been very satisfied with the service. The monthly charges are reasonable at $54.3 and I appreciate the flexibility of the month-to-month contract. The payment method using electronic check is convenient and hassle-free. Overall, I have had a positive experience with this provider and have no plans to churn anytime soon.',\n",
       " 'I have been a customer with this company for 44 months now, however, I have decided to churn. I have been on a one-year contract with a monthly charge of $53.95 for DSL internet service. I have always paid via mailed check. Overall, I have been satisfied with the service provided, but I have found a better deal elsewhere which is why I have decided to switch providers.']"
      ]
     },
     "execution_count": 18,
     "metadata": {},
     "output_type": "execute_result"
    }
   ],
   "source": [
    "df['CustomerFeedback'].sample(5).tolist()"
   ]
  },
  {
   "cell_type": "code",
   "execution_count": 19,
   "id": "eabaf655",
   "metadata": {
    "execution": {
     "iopub.execute_input": "2025-07-21T08:25:37.403142Z",
     "iopub.status.busy": "2025-07-21T08:25:37.402894Z",
     "iopub.status.idle": "2025-07-21T08:25:37.633744Z",
     "shell.execute_reply": "2025-07-21T08:25:37.632879Z"
    },
    "papermill": {
     "duration": 0.241994,
     "end_time": "2025-07-21T08:25:37.634975",
     "exception": false,
     "start_time": "2025-07-21T08:25:37.392981",
     "status": "completed"
    },
    "tags": []
   },
   "outputs": [
    {
     "data": {
      "image/png": "[encoded data removed]",
      "text/plain": [
       "<Figure size 640x480 with 1 Axes>"
      ]
     },
     "metadata": {},
     "output_type": "display_data"
    }
   ],
   "source": [
    "#feedback lenght\n",
    "plt.hist(df['feedback_length'],bins=30, alpha=0.7, label='Churn = No', color='steelblue', edgecolor='black')\n",
    "plt.title(\"Distribution of Feedback Length\")\n",
    "plt.xlabel(\"Number of characters\")\n",
    "plt.ylabel(\"Count\")\n",
    "plt.show()"
   ]
  },
  {
   "cell_type": "code",
   "execution_count": 20,
   "id": "f3c88e3f",
   "metadata": {
    "execution": {
     "iopub.execute_input": "2025-07-21T08:25:37.657152Z",
     "iopub.status.busy": "2025-07-21T08:25:37.656444Z",
     "iopub.status.idle": "2025-07-21T08:25:37.963348Z",
     "shell.execute_reply": "2025-07-21T08:25:37.962525Z"
    },
    "papermill": {
     "duration": 0.319471,
     "end_time": "2025-07-21T08:25:37.964834",
     "exception": false,
     "start_time": "2025-07-21T08:25:37.645363",
     "status": "completed"
    },
    "tags": []
   },
   "outputs": [
    {
     "data": {
      "image/png": "[encoded data removed]",
      "text/plain": [
       "<Figure size 1000x600 with 1 Axes>"
      ]
     },
     "metadata": {},
     "output_type": "display_data"
    }
   ],
   "source": [
    "# Data separation\n",
    "feedback_yes = df[df['Churn'] == 'Yes']['feedback_length']\n",
    "feedback_no = df[df['Churn'] == 'No']['feedback_length']\n",
    "\n",
    "# Histogram with two groups\n",
    "plt.figure(figsize=(10, 6))\n",
    "plt.hist(feedback_no, bins=30, alpha=0.7, label='Churn = No', color='steelblue', edgecolor='black')\n",
    "plt.hist(feedback_yes, bins=30, alpha=0.7, label='Churn = Yes', color='orange', edgecolor='black')\n",
    "\n",
    "plt.title(\"Distribution of Feedback Length by Churn Status\")\n",
    "plt.xlabel(\"Number of characters\")\n",
    "plt.ylabel(\"Count\")\n",
    "plt.legend()\n",
    "plt.show()\n"
   ]
  },
  {
   "cell_type": "markdown",
   "id": "134671a8",
   "metadata": {
    "papermill": {
     "duration": 0.010585,
     "end_time": "2025-07-21T08:25:37.989103",
     "exception": false,
     "start_time": "2025-07-21T08:25:37.978518",
     "status": "completed"
    },
    "tags": []
   },
   "source": [
    ">The histogram reveals that churned customers (orange) tend to leave longer feedback on average compared to those who stayed (blue). <br>\n",
    "Both groups exhibit a similar peak (around 400–450 characters), but churned customers show a slightly longer right tail.<br>\n",
    "This supports the idea that those who leave may articulate more detailed or emotionally charged feedback, which can be leveraged in modeling and segmentation.<br>"
   ]
  },
  {
   "cell_type": "markdown",
   "id": "4f58da7c",
   "metadata": {
    "papermill": {
     "duration": 0.010418,
     "end_time": "2025-07-21T08:25:38.010264",
     "exception": false,
     "start_time": "2025-07-21T08:25:37.999846",
     "status": "completed"
    },
    "tags": []
   },
   "source": [
    "## 7. Simple sentiment analysis\n",
    "<a id='Simplesentimentanalysis'></a>"
   ]
  },
  {
   "cell_type": "code",
   "execution_count": 21,
   "id": "5e04ad33",
   "metadata": {
    "execution": {
     "iopub.execute_input": "2025-07-21T08:25:38.032782Z",
     "iopub.status.busy": "2025-07-21T08:25:38.032472Z",
     "iopub.status.idle": "2025-07-21T08:25:41.982769Z",
     "shell.execute_reply": "2025-07-21T08:25:41.981934Z"
    },
    "papermill": {
     "duration": 3.963422,
     "end_time": "2025-07-21T08:25:41.984141",
     "exception": false,
     "start_time": "2025-07-21T08:25:38.020719",
     "status": "completed"
    },
    "tags": []
   },
   "outputs": [
    {
     "data": {
      "text/html": [
       "<div>\n",
       "<style scoped>\n",
       "    .dataframe tbody tr th:only-of-type {\n",
       "        vertical-align: middle;\n",
       "    }\n",
       "\n",
       "    .dataframe tbody tr th {\n",
       "        vertical-align: top;\n",
       "    }\n",
       "\n",
       "    .dataframe thead th {\n",
       "        text-align: right;\n",
       "    }\n",
       "</style>\n",
       "<table border=\"1\" class=\"dataframe\">\n",
       "  <thead>\n",
       "    <tr style=\"text-align: right;\">\n",
       "      <th></th>\n",
       "      <th>CustomerFeedback</th>\n",
       "      <th>sentiment</th>\n",
       "    </tr>\n",
       "  </thead>\n",
       "  <tbody>\n",
       "    <tr>\n",
       "      <th>0</th>\n",
       "      <td>I have been using the DSL internet service from this provider for the past month and so far, I am satisfied with the service. The connection has been reliable and the speed is sufficient for my needs. The monthly charges are reasonable at $29.85 and I appreciate the convenience of paying through electronic check. Overall, I have had a positive experience and would recommend this provider to others.</td>\n",
       "      <td>0.129545</td>\n",
       "    </tr>\n",
       "    <tr>\n",
       "      <th>1</th>\n",
       "      <td>I have been a customer with this company for over two and a half years now and I have been very satisfied with their service. The DSL internet has been reliable and the monthly charges are reasonable at $56.95. I prefer to pay by mailing in a check and have never had any issues with my payments. Overall, I have no complaints and would recommend this company to others looking for internet service.</td>\n",
       "      <td>0.170833</td>\n",
       "    </tr>\n",
       "    <tr>\n",
       "      <th>2</th>\n",
       "      <td>I recently signed up for DSL internet service with this provider two months ago on a month-to-month contract. Unfortunately, I have already decided to churn and switch to a different provider. The monthly charges of $53.85 were reasonable, but I found the internet service to be unreliable and slow. Additionally, having to mail in a check for payment was inconvenient and outdated. I would not recommend this provider to others looking for reliable and convenient internet service.</td>\n",
       "      <td>-0.228571</td>\n",
       "    </tr>\n",
       "    <tr>\n",
       "      <th>3</th>\n",
       "      <td>I have been a loyal customer with this company for 45 months now and I am very satisfied with the service they provide. The monthly charges are reasonable at $42.3 and I appreciate the convenience of automatic bank transfer for payment. The DSL internet service has been reliable and meets my needs. Overall, I have had a positive experience with this company and have no plans to churn in the near future.</td>\n",
       "      <td>0.215801</td>\n",
       "    </tr>\n",
       "    <tr>\n",
       "      <th>4</th>\n",
       "      <td>I recently switched to this fiber optic internet service provider two months ago on a month-to-month contract. The monthly charges of $70.7 seemed reasonable at first, but unfortunately I have experienced frequent outages and slow speeds. The payment method of electronic check has been convenient, but I am disappointed with the overall service. I have decided to churn and look for a more reliable internet provider.</td>\n",
       "      <td>0.030000</td>\n",
       "    </tr>\n",
       "  </tbody>\n",
       "</table>\n",
       "</div>"
      ],
      "text/plain": [
       "                                                                                                                                                                                                                                                                                                                                                                                                                                                                                     CustomerFeedback  \\\n",
       "0                                                                                   I have been using the DSL internet service from this provider for the past month and so far, I am satisfied with the service. The connection has been reliable and the speed is sufficient for my needs. The monthly charges are reasonable at $29.85 and I appreciate the convenience of paying through electronic check. Overall, I have had a positive experience and would recommend this provider to others.   \n",
       "1                                                                                     I have been a customer with this company for over two and a half years now and I have been very satisfied with their service. The DSL internet has been reliable and the monthly charges are reasonable at $56.95. I prefer to pay by mailing in a check and have never had any issues with my payments. Overall, I have no complaints and would recommend this company to others looking for internet service.   \n",
       "2  I recently signed up for DSL internet service with this provider two months ago on a month-to-month contract. Unfortunately, I have already decided to churn and switch to a different provider. The monthly charges of $53.85 were reasonable, but I found the internet service to be unreliable and slow. Additionally, having to mail in a check for payment was inconvenient and outdated. I would not recommend this provider to others looking for reliable and convenient internet service.   \n",
       "3                                                                              I have been a loyal customer with this company for 45 months now and I am very satisfied with the service they provide. The monthly charges are reasonable at $42.3 and I appreciate the convenience of automatic bank transfer for payment. The DSL internet service has been reliable and meets my needs. Overall, I have had a positive experience with this company and have no plans to churn in the near future.   \n",
       "4                                                                  I recently switched to this fiber optic internet service provider two months ago on a month-to-month contract. The monthly charges of $70.7 seemed reasonable at first, but unfortunately I have experienced frequent outages and slow speeds. The payment method of electronic check has been convenient, but I am disappointed with the overall service. I have decided to churn and look for a more reliable internet provider.   \n",
       "\n",
       "   sentiment  \n",
       "0   0.129545  \n",
       "1   0.170833  \n",
       "2  -0.228571  \n",
       "3   0.215801  \n",
       "4   0.030000  "
      ]
     },
     "execution_count": 21,
     "metadata": {},
     "output_type": "execute_result"
    }
   ],
   "source": [
    "from textblob import TextBlob\n",
    "\n",
    "# -1(negative) +1 (pisitive)\n",
    "df['sentiment'] = df['CustomerFeedback'].apply(lambda x: TextBlob(x).sentiment.polarity)\n",
    "df[['CustomerFeedback', 'sentiment']].head()\n"
   ]
  },
  {
   "cell_type": "code",
   "execution_count": 22,
   "id": "60715bfc",
   "metadata": {
    "execution": {
     "iopub.execute_input": "2025-07-21T08:25:42.008104Z",
     "iopub.status.busy": "2025-07-21T08:25:42.007856Z",
     "iopub.status.idle": "2025-07-21T08:25:42.325196Z",
     "shell.execute_reply": "2025-07-21T08:25:42.324528Z"
    },
    "papermill": {
     "duration": 0.330283,
     "end_time": "2025-07-21T08:25:42.326624",
     "exception": false,
     "start_time": "2025-07-21T08:25:41.996341",
     "status": "completed"
    },
    "tags": []
   },
   "outputs": [
    {
     "name": "stderr",
     "output_type": "stream",
     "text": [
      "/usr/local/lib/python3.11/dist-packages/seaborn/_oldcore.py:1119: FutureWarning: use_inf_as_na option is deprecated and will be removed in a future version. Convert inf values to NaN before operating instead.\n",
      "  with pd.option_context('mode.use_inf_as_na', True):\n"
     ]
    },
    {
     "data": {
      "image/png": "[encoded data removed]",
      "text/plain": [
       "<Figure size 640x480 with 1 Axes>"
      ]
     },
     "metadata": {},
     "output_type": "display_data"
    }
   ],
   "source": [
    "sns.histplot(df['sentiment'], bins=30, kde=True)\n",
    "plt.title(\"Sentiment Score Distribution\")\n",
    "plt.xlabel(\"Polarity\")\n",
    "plt.show()"
   ]
  },
  {
   "cell_type": "markdown",
   "id": "0e81bf5e",
   "metadata": {
    "papermill": {
     "duration": 0.011501,
     "end_time": "2025-07-21T08:25:42.350913",
     "exception": false,
     "start_time": "2025-07-21T08:25:42.339412",
     "status": "completed"
    },
    "tags": []
   },
   "source": [
    ">The distribution of sentiment scores is centered around neutral to slightly negative polarity, suggesting that customer feedback tends to be more factual or complaint-driven. <br>\n",
    "Few customers express strongly positive sentiments — likely because feedback is more common when issues arise.<br>\n",
    "This supports the idea that sentiment analysis could be predictive of churn and useful for segmenting customers by emotional tone.<br>\n"
   ]
  },
  {
   "cell_type": "markdown",
   "id": "9698ac52",
   "metadata": {
    "papermill": {
     "duration": 0.01188,
     "end_time": "2025-07-21T08:25:42.374614",
     "exception": false,
     "start_time": "2025-07-21T08:25:42.362734",
     "status": "completed"
    },
    "tags": []
   },
   "source": [
    "## 8. Summary\n",
    "<a id='Summary'></a>\n",
    "\n",
    ">Key Findings:\n",
    "The dataset includes 7,043 customer records, each with structured attributes and synthetic textual feedback. <br>\n",
    "Churn rate is ~26%, with clear class imbalance typical in real-world scenarios.<br>\n",
    "Customers on month-to-month contracts show significantly higher churn, while 1–2 year contracts improve retention.<br>\n",
    "Higher monthly charges and fiber optic internet are positively associated with churn.<br>\n",
    "Churned customers write longer and more expressive feedback, often highlighting dissatisfaction.<br>\n",
    "Sentiment analysis shows a skew toward neutral to negative polarity, especially among churned users.<br>\n",
    "Feedback length and sentiment scores exhibit statistically significant correlations with churn status.<br>\n",
    "\n",
    "<br>\n",
    "\n",
    ">Implications for Modeling:<br>\n",
    "Textual feedback provides rich behavioral signals and can be used in:<br>\n",
    "NLP-based churn classification<br>\n",
    "Sentiment-aware feature engineering<br>\n",
    "Hybrid models with fallback logic for missing or noisy text<br>\n",
    "This analysis validates the potential of combining structured data and text in real-life churn prediction systems.<br>\n"
   ]
  },
  {
   "cell_type": "markdown",
   "id": "539205d6",
   "metadata": {
    "papermill": {
     "duration": 0.011449,
     "end_time": "2025-07-21T08:25:42.397676",
     "exception": false,
     "start_time": "2025-07-21T08:25:42.386227",
     "status": "completed"
    },
    "tags": []
   },
   "source": [
    "## 📁 Notebook Series Overview: **Telco Churn & GPT Feedback**\n",
    "<a id=\"notebook-series-overview-telco-churn--gpt-feedback\"></a>\n",
    "\n",
    "This is part of a multi-notebook series focused on **realistic churn prediction** using structured data and GPT-generated customer feedback.  \n",
    "We simulate real-world challenges such as missing text, noisy input, and model fallback logic — building toward a robust, production-style solution.\n",
    "\n",
    "---\n",
    "\n",
    "###  1. Exploring Customer Churn & GPT-generated Feedback\n",
    "\n",
    "> Exploratory analysis of the churn dataset, with focus on customer segments, behavior patterns, and text feedback characteristics.  \n",
    "> Text insights powered by GPT-generated responses.\n",
    "\n",
    "---\n",
    "\n",
    "###  2. Feedback Noise Simulation & Fallback Testing\n",
    "\n",
    "> We simulate feedback imperfections (irrelevant, incomplete, or missing entries) and measure how models perform under noise.  \n",
    "> Introduces the concept of fallback systems for low-signal situations.\n",
    "\n",
    "---\n",
    "\n",
    "### 3. Fallback Model – Logistic vs XGB vs RF vs NN\n",
    "\n",
    "> We train and compare multiple classifiers on **structured-only data** (no feedback):  \n",
    "> Logistic Regression, Random Forest, XGBoost, and Neural Net.  \n",
    "> Best fallback model is selected based on ROC AUC and recall.\n",
    "\n",
    "---\n",
    "\n",
    "###  4. Model with Feedback – Logistic vs XGB vs NN\n",
    "\n",
    "> We focus on customers who left written feedback.  \n",
    "> Structured data is combined with TF-IDF vectors to train a stronger “teacher” model.  \n",
    "> Logistic Regression emerges as the most interpretable and best-performing solution.\n",
    "\n",
    "---\n",
    "\n",
    "### 5. Prediction using Synthetic Feedback Knowledge\n",
    "\n",
    "> Even when customers don’t leave feedback, we simulate its predictive signal using the trained teacher model.  \n",
    "> We generate a `synthetic_text_score` and evaluate whether it helps fallback performance.\n",
    "\n",
    "---\n"
   ]
  },
  {
   "cell_type": "markdown",
   "id": "e5e827e5",
   "metadata": {
    "papermill": {
     "duration": 0.011559,
     "end_time": "2025-07-21T08:25:42.420817",
     "exception": false,
     "start_time": "2025-07-21T08:25:42.409258",
     "status": "completed"
    },
    "tags": []
   },
   "source": [
    "---\n",
    "**Author:** Beata Faron  \n",
    "[LinkedIn](https://www.linkedin.com/in/beata-faron-24764832/) • [Kaggle](https://www.kaggle.com/beatafaron)\n",
    "\n",
    "*Data Scientist with a background in business, design, and machine learning. Focused on time series forecasting and real-world applications.*\n"
   ]
  },
  {
   "cell_type": "code",
   "execution_count": null,
   "id": "7ecc9576",
   "metadata": {
    "papermill": {
     "duration": 0.011503,
     "end_time": "2025-07-21T08:25:42.444332",
     "exception": false,
     "start_time": "2025-07-21T08:25:42.432829",
     "status": "completed"
    },
    "tags": []
   },
   "outputs": [],
   "source": []
  }
 ],
 "metadata": {
  "kaggle": {
   "accelerator": "gpu",
   "dataSources": [
    {
     "datasetId": 13996,
     "sourceId": 18858,
     "sourceType": "datasetVersion"
    },
    {
     "datasetId": 4968559,
     "sourceId": 8360350,
     "sourceType": "datasetVersion"
    },
    {
     "datasetId": 5855544,
     "sourceId": 9598780,
     "sourceType": "datasetVersion"
    },
    {
     "datasetId": 7630515,
     "sourceId": 12257490,
     "sourceType": "datasetVersion"
    }
   ],
   "dockerImageVersionId": 31040,
   "isGpuEnabled": true,
   "isInternetEnabled": true,
   "language": "python",
   "sourceType": "notebook"
  },
  "kernelspec": {
   "display_name": "Python 3",
   "language": "python",
   "name": "python3"
  },
  "language_info": {
   "codemirror_mode": {
    "name": "ipython",
    "version": 3
   },
   "file_extension": ".py",
   "mimetype": "text/x-python",
   "name": "python",
   "nbconvert_exporter": "python",
   "pygments_lexer": "ipython3",
   "version": "3.11.11"
  },
  "papermill": {
   "default_parameters": {},
   "duration": 15.713042,
   "end_time": "2025-07-21T08:25:43.175342",
   "environment_variables": {},
   "exception": null,
   "input_path": "__notebook__.ipynb",
   "output_path": "__notebook__.ipynb",
   "parameters": {},
   "start_time": "2025-07-21T08:25:27.462300",
   "version": "2.6.0"
  }
 },
 "nbformat": 4,
 "nbformat_minor": 5
}
